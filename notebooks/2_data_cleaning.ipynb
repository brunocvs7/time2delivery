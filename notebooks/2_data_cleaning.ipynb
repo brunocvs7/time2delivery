{
 "cells": [
  {
   "cell_type": "markdown",
   "metadata": {},
   "source": [
    "- Joins\n",
    "- Column Type verification\n",
    "- Casting\n",
    "- Missing Values\n",
    "- Analysis of Constant and Quasi-constant columns\n",
    "- Rare Categories\n",
    "- Duplicate Rows\n",
    "- Duplicate Columns\n",
    "- Data Split"
   ]
  }
 ],
 "metadata": {
  "language_info": {
   "name": "python"
  },
  "orig_nbformat": 4
 },
 "nbformat": 4,
 "nbformat_minor": 2
}
