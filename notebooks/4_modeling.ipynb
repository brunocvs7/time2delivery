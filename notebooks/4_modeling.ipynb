{
 "cells": [
  {
   "cell_type": "markdown",
   "metadata": {},
   "source": [
    "# Modeling"
   ]
  },
  {
   "cell_type": "code",
   "execution_count": 1,
   "metadata": {},
   "outputs": [
    {
     "name": "stderr",
     "output_type": "stream",
     "text": [
      "/Users/bruno.santos/Desktop/Estudos/case_cornershop/case_cornershop_env/lib/python3.9/site-packages/tpot/builtins/__init__.py:36: UserWarning: Warning: optional dependency `torch` is not available. - skipping import of NN models.\n",
      "  warnings.warn(\"Warning: optional dependency `torch` is not available. - skipping import of NN models.\")\n"
     ]
    }
   ],
   "source": [
    "#Libs\n",
    "import os\n",
    "import warnings\n",
    "\n",
    "import seaborn as sns\n",
    "import pandas as pd\n",
    "import numpy as np\n",
    "import matplotlib.pyplot as plt\n",
    "from sklearn.model_selection import KFold\n",
    "from tpot import TPOTRegressor\n",
    "from sklearn.linear_model import LinearRegression,QuantileRegressor\n",
    "from sklearn.ensemble import RandomForestRegressor\n",
    "from sklearn.impute import SimpleImputer\n",
    "from sklearn.pipeline import Pipeline\n",
    "from sklearn.compose import ColumnTransformer\n",
    "from sklearn.metrics import mean_absolute_percentage_error, mean_absolute_error\n",
    "from utils.features.build import build_distance, build_hour_group\n",
    "from sklearn.preprocessing import OneHotEncoder, FunctionTransformer\n",
    "from sklearn.model_selection import cross_validate\n",
    "from dotenv import load_dotenv, find_dotenv\n",
    "warnings.filterwarnings('ignore')"
   ]
  },
  {
   "cell_type": "code",
   "execution_count": 2,
   "metadata": {},
   "outputs": [],
   "source": [
    "# Env variables and data\n",
    "load_dotenv(find_dotenv())\n",
    "DATA_INPUT_PATH = os.getenv('DATA_PROCESSED_PATH')\n",
    "DATA_TRAIN_NAME = 'train_best_features'\n",
    "DATA_TEST_NAME = 'test'\n",
    "# Data\n",
    "df_orders_train = pd.read_parquet(os.path.join(DATA_INPUT_PATH, DATA_TRAIN_NAME))\n",
    "df_orders_test = pd.read_parquet(os.path.join(DATA_INPUT_PATH, DATA_TEST_NAME))"
   ]
  },
  {
   "cell_type": "markdown",
   "metadata": {},
   "source": [
    "# 1) Modeling"
   ]
  },
  {
   "cell_type": "code",
   "execution_count": 3,
   "metadata": {},
   "outputs": [],
   "source": [
    "X_train = df_orders_train.drop('total_minutes', axis=1)\n",
    "y_train = df_orders_train['total_minutes']\n",
    "all_columns = X_train.columns.tolist()"
   ]
  },
  {
   "cell_type": "markdown",
   "metadata": {},
   "source": [
    "## 1.1) Preprocessing"
   ]
  },
  {
   "cell_type": "code",
   "execution_count": 4,
   "metadata": {},
   "outputs": [],
   "source": [
    "# We will have 3 imputers: Median for some numerical, Mode for categorical and 0 for some numerical\n",
    "median_impute_columns_indexes = [all_columns.index(x) for x in ['n_distinct_items', 'distance_km', 'found_rate']]\n",
    "mode_impute_columns_indexes = [all_columns.index(x) for x in ['on_demand', 'hour_group']]\n",
    "zero_impute_columns_indexes = [all_columns.index(x) for x in ['sum_kgs', 'sum_unities']]\n",
    "cat_columns = df_orders_train.select_dtypes(include=['O']).columns.tolist()\n",
    "cat_columns_indexes = [all_columns.index(x) for x in cat_columns]\n",
    "num_columns = df_orders_train.drop('total_minutes', axis=1).select_dtypes(include=['int32', 'int64', 'float32', 'float64']).columns.tolist()\n",
    "num_columns_indexes = [all_columns.index(x) for x in num_columns]\n",
    "# Feature engineering steps\n",
    "distance_transformer = FunctionTransformer(func=build_distance)\n",
    "hour_group_transformer = FunctionTransformer(func=build_hour_group)\n",
    "pipe_feature_engineering = Pipeline(steps=[('distance_transformer', distance_transformer),\n",
    "                                           ('hor_group_transformer', hour_group_transformer)])\n",
    "# Imputation Steps\n",
    "impute_transformer = ColumnTransformer(\n",
    "                     transformers=[\n",
    "                         ('impute_median', SimpleImputer(strategy='median'), \n",
    "                                                        median_impute_columns_indexes),\n",
    "                         ('impute_mode', SimpleImputer(strategy='most_frequent'),\n",
    "                                                       mode_impute_columns_indexes),\n",
    "                         ('impute_zero', SimpleImputer(strategy='constant', fill_value=0),\n",
    "                                                       zero_impute_columns_indexes)\n",
    "                                        ]\n",
    "                                            )\n",
    "# Categorical encoder step                                              \n",
    "cat_column_transformer = ColumnTransformer(\n",
    "                        transformers=[\n",
    "                            ('cat_encoder', OneHotEncoder(handle_unknown='ignore'), cat_columns_indexes)\n",
    "                        ])\n",
    "preprocessor = Pipeline(steps=[('impute_transformer', impute_transformer),\n",
    "                               ('cat_column_transformer', cat_column_transformer)\n",
    "                            ])"
   ]
  },
  {
   "cell_type": "markdown",
   "metadata": {},
   "source": [
    "## 1.1) Baseline"
   ]
  },
  {
   "cell_type": "code",
   "execution_count": 5,
   "metadata": {},
   "outputs": [],
   "source": [
    "model_baseline = Pipeline(steps=[('preprocessor', preprocessor),\n",
    "                                  ('model', LinearRegression())])"
   ]
  },
  {
   "cell_type": "code",
   "execution_count": 6,
   "metadata": {},
   "outputs": [],
   "source": [
    "df_baseline_cv_metrics = pd.DataFrame(cross_validate(model_baseline,\n",
    "                                        X_train,\n",
    "                                        y_train, \n",
    "                                        scoring=['neg_mean_absolute_error', 'neg_mean_absolute_percentage_error'], \n",
    "                                        return_train_score=True, cv=10))"
   ]
  },
  {
   "cell_type": "code",
   "execution_count": 16,
   "metadata": {},
   "outputs": [
    {
     "data": {
      "text/html": [
       "<div>\n",
       "<style scoped>\n",
       "    .dataframe tbody tr th:only-of-type {\n",
       "        vertical-align: middle;\n",
       "    }\n",
       "\n",
       "    .dataframe tbody tr th {\n",
       "        vertical-align: top;\n",
       "    }\n",
       "\n",
       "    .dataframe thead th {\n",
       "        text-align: right;\n",
       "    }\n",
       "</style>\n",
       "<table border=\"1\" class=\"dataframe\">\n",
       "  <thead>\n",
       "    <tr style=\"text-align: right;\">\n",
       "      <th></th>\n",
       "      <th>fit_time</th>\n",
       "      <th>score_time</th>\n",
       "      <th>test_neg_mean_absolute_error</th>\n",
       "      <th>train_neg_mean_absolute_error</th>\n",
       "      <th>test_neg_mean_absolute_percentage_error</th>\n",
       "      <th>train_neg_mean_absolute_percentage_error</th>\n",
       "    </tr>\n",
       "  </thead>\n",
       "  <tbody>\n",
       "    <tr>\n",
       "      <th>0</th>\n",
       "      <td>0.094491</td>\n",
       "      <td>0.012526</td>\n",
       "      <td>-22.598843</td>\n",
       "      <td>-15.139074</td>\n",
       "      <td>-0.318207</td>\n",
       "      <td>-0.225784</td>\n",
       "    </tr>\n",
       "    <tr>\n",
       "      <th>1</th>\n",
       "      <td>0.079950</td>\n",
       "      <td>0.013039</td>\n",
       "      <td>-22.255220</td>\n",
       "      <td>-15.218010</td>\n",
       "      <td>-0.319276</td>\n",
       "      <td>-0.227202</td>\n",
       "    </tr>\n",
       "    <tr>\n",
       "      <th>2</th>\n",
       "      <td>0.075916</td>\n",
       "      <td>0.010082</td>\n",
       "      <td>-23.447508</td>\n",
       "      <td>-15.023926</td>\n",
       "      <td>-0.321289</td>\n",
       "      <td>-0.224323</td>\n",
       "    </tr>\n",
       "    <tr>\n",
       "      <th>3</th>\n",
       "      <td>0.074584</td>\n",
       "      <td>0.011932</td>\n",
       "      <td>-21.815441</td>\n",
       "      <td>-15.120630</td>\n",
       "      <td>-0.295688</td>\n",
       "      <td>-0.226014</td>\n",
       "    </tr>\n",
       "    <tr>\n",
       "      <th>4</th>\n",
       "      <td>0.070109</td>\n",
       "      <td>0.009916</td>\n",
       "      <td>-23.117906</td>\n",
       "      <td>-14.931582</td>\n",
       "      <td>-0.332377</td>\n",
       "      <td>-0.222903</td>\n",
       "    </tr>\n",
       "    <tr>\n",
       "      <th>5</th>\n",
       "      <td>0.071060</td>\n",
       "      <td>0.009642</td>\n",
       "      <td>-23.361094</td>\n",
       "      <td>-14.928853</td>\n",
       "      <td>-0.310007</td>\n",
       "      <td>-0.224506</td>\n",
       "    </tr>\n",
       "    <tr>\n",
       "      <th>6</th>\n",
       "      <td>0.062238</td>\n",
       "      <td>0.009479</td>\n",
       "      <td>-23.994952</td>\n",
       "      <td>-15.060264</td>\n",
       "      <td>-0.329593</td>\n",
       "      <td>-0.224692</td>\n",
       "    </tr>\n",
       "    <tr>\n",
       "      <th>7</th>\n",
       "      <td>0.069963</td>\n",
       "      <td>0.009490</td>\n",
       "      <td>-24.381147</td>\n",
       "      <td>-14.862106</td>\n",
       "      <td>-0.331012</td>\n",
       "      <td>-0.222591</td>\n",
       "    </tr>\n",
       "    <tr>\n",
       "      <th>8</th>\n",
       "      <td>0.063230</td>\n",
       "      <td>0.010679</td>\n",
       "      <td>-22.656765</td>\n",
       "      <td>-15.194771</td>\n",
       "      <td>-0.320348</td>\n",
       "      <td>-0.227428</td>\n",
       "    </tr>\n",
       "    <tr>\n",
       "      <th>9</th>\n",
       "      <td>0.072297</td>\n",
       "      <td>0.011081</td>\n",
       "      <td>-24.394854</td>\n",
       "      <td>-14.842159</td>\n",
       "      <td>-0.331900</td>\n",
       "      <td>-0.222485</td>\n",
       "    </tr>\n",
       "  </tbody>\n",
       "</table>\n",
       "</div>"
      ],
      "text/plain": [
       "   fit_time  score_time  test_neg_mean_absolute_error  \\\n",
       "0  0.094491    0.012526                    -22.598843   \n",
       "1  0.079950    0.013039                    -22.255220   \n",
       "2  0.075916    0.010082                    -23.447508   \n",
       "3  0.074584    0.011932                    -21.815441   \n",
       "4  0.070109    0.009916                    -23.117906   \n",
       "5  0.071060    0.009642                    -23.361094   \n",
       "6  0.062238    0.009479                    -23.994952   \n",
       "7  0.069963    0.009490                    -24.381147   \n",
       "8  0.063230    0.010679                    -22.656765   \n",
       "9  0.072297    0.011081                    -24.394854   \n",
       "\n",
       "   train_neg_mean_absolute_error  test_neg_mean_absolute_percentage_error  \\\n",
       "0                     -15.139074                                -0.318207   \n",
       "1                     -15.218010                                -0.319276   \n",
       "2                     -15.023926                                -0.321289   \n",
       "3                     -15.120630                                -0.295688   \n",
       "4                     -14.931582                                -0.332377   \n",
       "5                     -14.928853                                -0.310007   \n",
       "6                     -15.060264                                -0.329593   \n",
       "7                     -14.862106                                -0.331012   \n",
       "8                     -15.194771                                -0.320348   \n",
       "9                     -14.842159                                -0.331900   \n",
       "\n",
       "   train_neg_mean_absolute_percentage_error  \n",
       "0                                 -0.225784  \n",
       "1                                 -0.227202  \n",
       "2                                 -0.224323  \n",
       "3                                 -0.226014  \n",
       "4                                 -0.222903  \n",
       "5                                 -0.224506  \n",
       "6                                 -0.224692  \n",
       "7                                 -0.222591  \n",
       "8                                 -0.227428  \n",
       "9                                 -0.222485  "
      ]
     },
     "execution_count": 16,
     "metadata": {},
     "output_type": "execute_result"
    }
   ],
   "source": [
    "df_baseline_cv_metrics"
   ]
  },
  {
   "cell_type": "code",
   "execution_count": 9,
   "metadata": {},
   "outputs": [],
   "source": [
    "df_orders_test = pipe_feature_engineering.fit_transform(df_orders_test)"
   ]
  },
  {
   "cell_type": "code",
   "execution_count": 10,
   "metadata": {},
   "outputs": [],
   "source": [
    "X_test = df_orders_test.loc[:, all_columns]\n",
    "y_test = df_orders_test['total_minutes'] "
   ]
  },
  {
   "cell_type": "code",
   "execution_count": 20,
   "metadata": {},
   "outputs": [],
   "source": [
    "model_rf = Pipeline(steps=[('preprocessor', preprocessor),\n",
    "                                  ('model', RandomForestRegressor(random_state=123, max_depth=15, n_estimators=200, criterion='squared_error'))])"
   ]
  },
  {
   "cell_type": "code",
   "execution_count": 21,
   "metadata": {},
   "outputs": [],
   "source": [
    "df_rf_cv_metrics = pd.DataFrame(cross_validate(model_rf,\n",
    "                                        X_train,\n",
    "                                        y_train, \n",
    "                                        scoring=['neg_mean_absolute_error', 'neg_mean_absolute_percentage_error'], \n",
    "                                        return_train_score=True, cv=10))"
   ]
  },
  {
   "cell_type": "markdown",
   "metadata": {},
   "source": [
    "## 1.3) Quantile Regression"
   ]
  },
  {
   "cell_type": "markdown",
   "metadata": {},
   "source": []
  }
 ],
 "metadata": {
  "interpreter": {
   "hash": "a6f7b07b20f4cf172f035b867796e18e995318450c83b6d17ec9b748e82eefe6"
  },
  "kernelspec": {
   "display_name": "Python 3.8.10 64-bit ('case_cornershop_env': venv)",
   "language": "python",
   "name": "python3"
  },
  "language_info": {
   "codemirror_mode": {
    "name": "ipython",
    "version": 3
   },
   "file_extension": ".py",
   "mimetype": "text/x-python",
   "name": "python",
   "nbconvert_exporter": "python",
   "pygments_lexer": "ipython3",
   "version": "3.9.6"
  },
  "orig_nbformat": 4
 },
 "nbformat": 4,
 "nbformat_minor": 2
}
