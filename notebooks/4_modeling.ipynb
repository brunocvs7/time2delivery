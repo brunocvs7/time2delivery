{
 "cells": [
  {
   "cell_type": "markdown",
   "metadata": {},
   "source": [
    "# Modeling"
   ]
  },
  {
   "cell_type": "code",
   "execution_count": 295,
   "metadata": {},
   "outputs": [
    {
     "data": {
      "text/plain": [
       "<module 'utils.models.predict_model' from '/Users/bruno.santos/Desktop/Estudos/case_cornershop/time2delivery/utils/models/predict_model.py'>"
      ]
     },
     "execution_count": 295,
     "metadata": {},
     "output_type": "execute_result"
    }
   ],
   "source": [
    "import importlib\n",
    "importlib.reload(utils.models.predict_model)"
   ]
  },
  {
   "cell_type": "code",
   "execution_count": 296,
   "metadata": {},
   "outputs": [],
   "source": [
    "#Libs\n",
    "import os\n",
    "import warnings\n",
    "\n",
    "import optuna\n",
    "import seaborn as sns\n",
    "import pandas as pd\n",
    "import numpy as np\n",
    "import matplotlib.pyplot as plt\n",
    "import scipy.stats as st\n",
    "\n",
    "from optuna.samplers import TPESampler\n",
    "from sklearn.model_selection import KFold\n",
    "from sklearn.linear_model import LinearRegression, QuantileRegressor\n",
    "from sklearn.ensemble import RandomForestRegressor\n",
    "from sklearn.impute import SimpleImputer\n",
    "from sklearn.pipeline import Pipeline\n",
    "from sklearn.compose import ColumnTransformer, TransformedTargetRegressor\n",
    "from sklearn.metrics import mean_absolute_percentage_error, mean_absolute_error\n",
    "from utils.features.build import build_distance, build_hour_group\n",
    "from sklearn.preprocessing import OneHotEncoder, FunctionTransformer\n",
    "from sklearn.tree import DecisionTreeRegressor\n",
    "from ngboost import NGBRegressor\n",
    "from sklearn.model_selection import cross_validate, cross_val_score\n",
    "from ngboost.distns import Exponential, Normal, LogNormal\n",
    "from dotenv import load_dotenv, find_dotenv\n",
    "from utils.models.evaluate import plot_learning_curve, plot_permutation_importance\n",
    "from utils.models.predict_model import get_intervals\n",
    "warnings.filterwarnings('ignore')"
   ]
  },
  {
   "cell_type": "code",
   "execution_count": 280,
   "metadata": {},
   "outputs": [],
   "source": [
    "# Env variables and data\n",
    "load_dotenv(find_dotenv())\n",
    "DATA_INPUT_PATH = os.getenv('DATA_PROCESSED_PATH')\n",
    "DATA_TRAIN_NAME = 'train_best_features'\n",
    "DATA_TEST_NAME = 'test'\n",
    "DATA_SUBMISSION = 'submission'\n",
    "# Data\n",
    "df_orders_train = pd.read_parquet(os.path.join(DATA_INPUT_PATH, DATA_TRAIN_NAME))\n",
    "df_orders_test = pd.read_parquet(os.path.join(DATA_INPUT_PATH, DATA_TEST_NAME))\n",
    "df_submission = pd.read_parquet(os.path.join(DATA_INPUT_PATH, DATA_SUBMISSION))"
   ]
  },
  {
   "cell_type": "markdown",
   "metadata": {},
   "source": [
    "# 1) Modeling"
   ]
  },
  {
   "cell_type": "markdown",
   "metadata": {},
   "source": [
    "In this step We'll try 3 approaches to solve the problem:\n",
    "- Linear Regression \n",
    "- Random Forest \n",
    "- NGBoost "
   ]
  },
  {
   "cell_type": "markdown",
   "metadata": {},
   "source": [
    "With Linear Regression We intend to create a baseline to be beaten. We'll observe performance in terms of Mean Absolute Percentage Error and Proportion of overestimated predictions. \n",
    "The former metric will be better if It approaches 0, the latter will be better if When model gets It wrong, the model overestimates instead of underestimate. We wish this property because When the model underestimate, the order will be late, and It is better to be early than late. As We saw in Exploratory Data Analysis, the `total_minutes` distribution has a long tail, so It may be import to apply logarithm in order to relieve the impact of outliers."
   ]
  },
  {
   "cell_type": "code",
   "execution_count": 3,
   "metadata": {},
   "outputs": [],
   "source": [
    "# Separating X and y for training\n",
    "X_train = df_orders_train.drop('total_minutes', axis=1)\n",
    "y_train = df_orders_train['total_minutes']\n",
    "# list with all columns\n",
    "all_columns = X_train.columns.tolist()"
   ]
  },
  {
   "cell_type": "markdown",
   "metadata": {},
   "source": [
    "## 1.1) Preprocessing"
   ]
  },
  {
   "cell_type": "code",
   "execution_count": 9,
   "metadata": {},
   "outputs": [],
   "source": [
    "# We will have 3 imputers: Median for some numerical, Mode for categorical and 0 for some numerical\n",
    "median_impute_columns_indexes = [all_columns.index(x) for x in ['n_distinct_items', 'distance_km', 'found_rate']]\n",
    "mode_impute_columns_indexes = [all_columns.index(x) for x in ['on_demand', 'hour_group']]\n",
    "zero_impute_columns_indexes = [all_columns.index(x) for x in ['sum_kgs', 'sum_unities']]\n",
    "cat_columns = df_orders_train.select_dtypes(include=['O']).columns.tolist()\n",
    "cat_columns_indexes = [all_columns.index(x) for x in cat_columns]\n",
    "num_columns = df_orders_train.drop('total_minutes', axis=1).select_dtypes(include=['int32', 'int64', 'float32', 'float64']).columns.tolist()\n",
    "num_columns_indexes = [all_columns.index(x) for x in num_columns]\n",
    "impute_median_columns = ['n_distinct_items', 'distance_km', 'found_rate']\n",
    "impute_zero_columns = ['sum_kgs', 'sum_unities']\n",
    "# Feature engineering steps\n",
    "distance_transformer = FunctionTransformer(func=build_distance)\n",
    "hour_group_transformer = FunctionTransformer(func=build_hour_group)\n",
    "pipe_feature_engineering = Pipeline(steps=[('distance_transformer', distance_transformer),\n",
    "                                           ('hor_group_transformer', hour_group_transformer)])\n",
    "# Imputation Steps\n",
    "\n",
    "impute_median = Pipeline([('impute_median', SimpleImputer(strategy='median'))])\n",
    "impute_mode = Pipeline([('impute_mode', SimpleImputer(strategy='most_frequent'))])\n",
    "impute_zero = Pipeline([('impute_zero', SimpleImputer(strategy='constant', fill_value=0))])\n",
    "one_hot = Pipeline([('cat_encoder', OneHotEncoder(handle_unknown='ignore'))])\n",
    "cat_transformer= Pipeline([('impute_mode', impute_mode),                                \n",
    "                           ('one_hot', one_hot)])\n",
    "preprocessor = ColumnTransformer([('impute_mode_one_hot', cat_transformer, cat_columns),\n",
    "                                      ('impute_median', impute_median, impute_median_columns),\n",
    "                                      ('impute_zero', impute_zero, impute_zero_columns)])\n"
   ]
  },
  {
   "cell_type": "code",
   "execution_count": null,
   "metadata": {},
   "outputs": [],
   "source": [
    "preprocessor = ColumnTransformer([('impute_mode', SimpleImputer(strategy='most_frequent'),cat_columns)\n",
    "                                      ('one_hot', OneHotEncoder(handle_unknown='ignore'), cat_columns),\n",
    "                                      ('impute_median', SimpleImputer(strategy='median'), impute_median_columns),\n",
    "                                      ('impute_zero', SimpleImputer(strategy='constant', fill_value=0), impute_zero_columns)])\n"
   ]
  },
  {
   "cell_type": "code",
   "execution_count": null,
   "metadata": {},
   "outputs": [],
   "source": []
  },
  {
   "cell_type": "markdown",
   "metadata": {},
   "source": [
    "## 1.2) Baseline"
   ]
  },
  {
   "cell_type": "markdown",
   "metadata": {},
   "source": [
    "Our baseline will be a Linear Regression."
   ]
  },
  {
   "cell_type": "code",
   "execution_count": 15,
   "metadata": {},
   "outputs": [],
   "source": [
    "# Pipeline with preprocessor and Model\n",
    "model_baseline = Pipeline(steps=[('preprocessor', preprocessor),\n",
    "                                  ('model', TransformedTargetRegressor(LinearRegression(), func=np.log, inverse_func=np.exp))])"
   ]
  },
  {
   "cell_type": "code",
   "execution_count": 16,
   "metadata": {},
   "outputs": [],
   "source": [
    "# Performing a 10-Fold cross validation to get an estimate for MAE and MAPE\n",
    "df_baseline_cv_metrics = pd.DataFrame(cross_validate(model_baseline,\n",
    "                                        X_train,\n",
    "                                        y_train, \n",
    "                                        scoring=['neg_mean_absolute_error', 'neg_mean_absolute_percentage_error'], \n",
    "                                        return_train_score=True, cv=10))"
   ]
  },
  {
   "cell_type": "code",
   "execution_count": 17,
   "metadata": {},
   "outputs": [
    {
     "data": {
      "text/html": [
       "<div>\n",
       "<style scoped>\n",
       "    .dataframe tbody tr th:only-of-type {\n",
       "        vertical-align: middle;\n",
       "    }\n",
       "\n",
       "    .dataframe tbody tr th {\n",
       "        vertical-align: top;\n",
       "    }\n",
       "\n",
       "    .dataframe thead th {\n",
       "        text-align: right;\n",
       "    }\n",
       "</style>\n",
       "<table border=\"1\" class=\"dataframe\">\n",
       "  <thead>\n",
       "    <tr style=\"text-align: right;\">\n",
       "      <th></th>\n",
       "      <th>fit_time</th>\n",
       "      <th>score_time</th>\n",
       "      <th>test_neg_mean_absolute_error</th>\n",
       "      <th>train_neg_mean_absolute_error</th>\n",
       "      <th>test_neg_mean_absolute_percentage_error</th>\n",
       "      <th>train_neg_mean_absolute_percentage_error</th>\n",
       "    </tr>\n",
       "  </thead>\n",
       "  <tbody>\n",
       "    <tr>\n",
       "      <th>0</th>\n",
       "      <td>0.037881</td>\n",
       "      <td>0.009463</td>\n",
       "      <td>-20.022554</td>\n",
       "      <td>-20.415693</td>\n",
       "      <td>-0.265349</td>\n",
       "      <td>-0.267731</td>\n",
       "    </tr>\n",
       "    <tr>\n",
       "      <th>1</th>\n",
       "      <td>0.025508</td>\n",
       "      <td>0.007558</td>\n",
       "      <td>-19.512231</td>\n",
       "      <td>-20.478940</td>\n",
       "      <td>-0.262205</td>\n",
       "      <td>-0.268664</td>\n",
       "    </tr>\n",
       "    <tr>\n",
       "      <th>2</th>\n",
       "      <td>0.018187</td>\n",
       "      <td>0.006447</td>\n",
       "      <td>-20.663146</td>\n",
       "      <td>-20.334302</td>\n",
       "      <td>-0.270654</td>\n",
       "      <td>-0.267280</td>\n",
       "    </tr>\n",
       "    <tr>\n",
       "      <th>3</th>\n",
       "      <td>0.017918</td>\n",
       "      <td>0.006165</td>\n",
       "      <td>-19.108091</td>\n",
       "      <td>-20.530233</td>\n",
       "      <td>-0.247190</td>\n",
       "      <td>-0.269626</td>\n",
       "    </tr>\n",
       "    <tr>\n",
       "      <th>4</th>\n",
       "      <td>0.019595</td>\n",
       "      <td>0.006614</td>\n",
       "      <td>-20.154597</td>\n",
       "      <td>-20.398224</td>\n",
       "      <td>-0.280051</td>\n",
       "      <td>-0.267034</td>\n",
       "    </tr>\n",
       "    <tr>\n",
       "      <th>5</th>\n",
       "      <td>0.016729</td>\n",
       "      <td>0.006390</td>\n",
       "      <td>-21.316906</td>\n",
       "      <td>-20.262441</td>\n",
       "      <td>-0.266537</td>\n",
       "      <td>-0.267155</td>\n",
       "    </tr>\n",
       "    <tr>\n",
       "      <th>6</th>\n",
       "      <td>0.017145</td>\n",
       "      <td>0.005698</td>\n",
       "      <td>-20.798057</td>\n",
       "      <td>-20.336376</td>\n",
       "      <td>-0.271078</td>\n",
       "      <td>-0.267501</td>\n",
       "    </tr>\n",
       "    <tr>\n",
       "      <th>7</th>\n",
       "      <td>0.016684</td>\n",
       "      <td>0.005619</td>\n",
       "      <td>-21.100928</td>\n",
       "      <td>-20.275357</td>\n",
       "      <td>-0.276072</td>\n",
       "      <td>-0.266705</td>\n",
       "    </tr>\n",
       "    <tr>\n",
       "      <th>8</th>\n",
       "      <td>0.016558</td>\n",
       "      <td>0.005443</td>\n",
       "      <td>-20.361290</td>\n",
       "      <td>-20.383473</td>\n",
       "      <td>-0.269171</td>\n",
       "      <td>-0.267875</td>\n",
       "    </tr>\n",
       "    <tr>\n",
       "      <th>9</th>\n",
       "      <td>0.019485</td>\n",
       "      <td>0.006053</td>\n",
       "      <td>-21.155491</td>\n",
       "      <td>-20.292296</td>\n",
       "      <td>-0.274145</td>\n",
       "      <td>-0.266546</td>\n",
       "    </tr>\n",
       "  </tbody>\n",
       "</table>\n",
       "</div>"
      ],
      "text/plain": [
       "   fit_time  score_time  test_neg_mean_absolute_error  \\\n",
       "0  0.037881    0.009463                    -20.022554   \n",
       "1  0.025508    0.007558                    -19.512231   \n",
       "2  0.018187    0.006447                    -20.663146   \n",
       "3  0.017918    0.006165                    -19.108091   \n",
       "4  0.019595    0.006614                    -20.154597   \n",
       "5  0.016729    0.006390                    -21.316906   \n",
       "6  0.017145    0.005698                    -20.798057   \n",
       "7  0.016684    0.005619                    -21.100928   \n",
       "8  0.016558    0.005443                    -20.361290   \n",
       "9  0.019485    0.006053                    -21.155491   \n",
       "\n",
       "   train_neg_mean_absolute_error  test_neg_mean_absolute_percentage_error  \\\n",
       "0                     -20.415693                                -0.265349   \n",
       "1                     -20.478940                                -0.262205   \n",
       "2                     -20.334302                                -0.270654   \n",
       "3                     -20.530233                                -0.247190   \n",
       "4                     -20.398224                                -0.280051   \n",
       "5                     -20.262441                                -0.266537   \n",
       "6                     -20.336376                                -0.271078   \n",
       "7                     -20.275357                                -0.276072   \n",
       "8                     -20.383473                                -0.269171   \n",
       "9                     -20.292296                                -0.274145   \n",
       "\n",
       "   train_neg_mean_absolute_percentage_error  \n",
       "0                                 -0.267731  \n",
       "1                                 -0.268664  \n",
       "2                                 -0.267280  \n",
       "3                                 -0.269626  \n",
       "4                                 -0.267034  \n",
       "5                                 -0.267155  \n",
       "6                                 -0.267501  \n",
       "7                                 -0.266705  \n",
       "8                                 -0.267875  \n",
       "9                                 -0.266546  "
      ]
     },
     "execution_count": 17,
     "metadata": {},
     "output_type": "execute_result"
    }
   ],
   "source": [
    "df_baseline_cv_metrics"
   ]
  },
  {
   "cell_type": "code",
   "execution_count": 18,
   "metadata": {},
   "outputs": [
    {
     "data": {
      "text/plain": [
       "Pipeline(steps=[('preprocessor',\n",
       "                 ColumnTransformer(transformers=[('impute_mode_one_hot',\n",
       "                                                  Pipeline(steps=[('impute_mode',\n",
       "                                                                   Pipeline(steps=[('impute_mode',\n",
       "                                                                                    SimpleImputer(strategy='most_frequent'))])),\n",
       "                                                                  ('one_hot',\n",
       "                                                                   Pipeline(steps=[('cat_encoder',\n",
       "                                                                                    OneHotEncoder(handle_unknown='ignore'))]))]),\n",
       "                                                  ['on_demand', 'hour_group']),\n",
       "                                                 ('impute_median',\n",
       "                                                  Pipeline(steps=[('impute_median',\n",
       "                                                                   SimpleImputer(strategy='median'))]),\n",
       "                                                  ['n_distinct_items',\n",
       "                                                   'distance_km',\n",
       "                                                   'found_rate']),\n",
       "                                                 ('impute_zero',\n",
       "                                                  Pipeline(steps=[('impute_zero',\n",
       "                                                                   SimpleImputer(fill_value=0,\n",
       "                                                                                 strategy='constant'))]),\n",
       "                                                  ['sum_kgs',\n",
       "                                                   'sum_unities'])])),\n",
       "                ('model',\n",
       "                 TransformedTargetRegressor(func=<ufunc 'log'>,\n",
       "                                            inverse_func=<ufunc 'exp'>,\n",
       "                                            regressor=LinearRegression()))])"
      ]
     },
     "execution_count": 18,
     "metadata": {},
     "output_type": "execute_result"
    }
   ],
   "source": [
    "model_baseline.fit(X_train, y_train)"
   ]
  },
  {
   "cell_type": "markdown",
   "metadata": {},
   "source": [
    "Let's see average MAPE and Standard Deviation of MAPE."
   ]
  },
  {
   "cell_type": "code",
   "execution_count": 19,
   "metadata": {},
   "outputs": [
    {
     "name": "stdout",
     "output_type": "stream",
     "text": [
      "Average MAPE - Cross Validation Test: -0.26824515384366066\n",
      "Standard Deviation of MAPE - Cross Validation Test: 0.009075169386691588\n"
     ]
    }
   ],
   "source": [
    "print(f\"Average MAPE - Cross Validation Test: {df_baseline_cv_metrics['test_neg_mean_absolute_percentage_error'].mean()}\")\n",
    "print(f\"Standard Deviation of MAPE - Cross Validation Test: {df_baseline_cv_metrics['test_neg_mean_absolute_percentage_error'].std()}\")"
   ]
  },
  {
   "cell_type": "markdown",
   "metadata": {},
   "source": [
    "So, nn average, the model is wrong by 26.8%. It means that for an order that will take 100 minutes to finish, It tends to predict either 127 or 73 minutes."
   ]
  },
  {
   "cell_type": "markdown",
   "metadata": {},
   "source": [
    "Also, We need to see if the predictions are higher or lower than the real value. It's better to overestimate the time, because the order will not be late. Let's check what happens more in our case, overestimate or underestimate."
   ]
  },
  {
   "cell_type": "code",
   "execution_count": 20,
   "metadata": {},
   "outputs": [
    {
     "name": "stdout",
     "output_type": "stream",
     "text": [
      "About 51.33333333333333% of our predictions are higher than the real value\n"
     ]
    }
   ],
   "source": [
    "# Generating predictions for X_train\n",
    "y_train_baseline_predict = model_baseline.predict(X_train)\n",
    "# Calculating proportion of overestimation\n",
    "print(f'About {((y_train_baseline_predict >= y_train).sum())/len(y_train)*100}% of our predictions are higher than the real value')"
   ]
  },
  {
   "cell_type": "markdown",
   "metadata": {},
   "source": [
    "## 1.2) Random Forest"
   ]
  },
  {
   "cell_type": "markdown",
   "metadata": {},
   "source": [
    "As a challenger to the baseline, We will train a Random Forest Regressor with Bayesian Optimization to tuning the hyperparameters. This model will have higher variance compared to Linear Regression and We'll focus on improving MAPE and also try to improve the rate of overestimated orders."
   ]
  },
  {
   "cell_type": "code",
   "execution_count": 21,
   "metadata": {},
   "outputs": [
    {
     "name": "stderr",
     "output_type": "stream",
     "text": [
      "\u001b[32m[I 2021-12-08 07:58:06,797]\u001b[0m A new study created in memory with name: no-name-4a823511-951f-4656-a16a-aecd3824805a\u001b[0m\n",
      "\u001b[32m[I 2021-12-08 07:58:32,982]\u001b[0m Trial 0 finished with value: -0.10407002929617515 and parameters: {'max_depth': 7, 'max_leaf_nodes': 823, 'n_estimators': 782}. Best is trial 0 with value: -0.10407002929617515.\u001b[0m\n",
      "\u001b[32m[I 2021-12-08 07:58:44,517]\u001b[0m Trial 1 finished with value: -0.10427455992137806 and parameters: {'max_depth': 8, 'max_leaf_nodes': 874, 'n_estimators': 303}. Best is trial 0 with value: -0.10407002929617515.\u001b[0m\n",
      "\u001b[32m[I 2021-12-08 07:59:05,826]\u001b[0m Trial 2 finished with value: -0.10528881882322012 and parameters: {'max_depth': 5, 'max_leaf_nodes': 787, 'n_estimators': 831}. Best is trial 0 with value: -0.10407002929617515.\u001b[0m\n",
      "\u001b[32m[I 2021-12-08 07:59:29,360]\u001b[0m Trial 3 finished with value: -0.10425633132417547 and parameters: {'max_depth': 8, 'max_leaf_nodes': 660, 'n_estimators': 643}. Best is trial 0 with value: -0.10407002929617515.\u001b[0m\n",
      "\u001b[32m[I 2021-12-08 07:59:45,740]\u001b[0m Trial 4 finished with value: -0.10472258452255848 and parameters: {'max_depth': 9, 'max_leaf_nodes': 620, 'n_estimators': 395}. Best is trial 0 with value: -0.10407002929617515.\u001b[0m\n",
      "\u001b[32m[I 2021-12-08 07:59:52,593]\u001b[0m Trial 5 finished with value: -0.10403844253892167 and parameters: {'max_depth': 7, 'max_leaf_nodes': 889, 'n_estimators': 219}. Best is trial 5 with value: -0.10403844253892167.\u001b[0m\n",
      "\u001b[32m[I 2021-12-08 08:00:19,022]\u001b[0m Trial 6 finished with value: -0.10408241880968852 and parameters: {'max_depth': 7, 'max_leaf_nodes': 764, 'n_estimators': 834}. Best is trial 5 with value: -0.10403844253892167.\u001b[0m\n",
      "\u001b[32m[I 2021-12-08 08:00:29,174]\u001b[0m Trial 7 finished with value: -0.10543043931814489 and parameters: {'max_depth': 10, 'max_leaf_nodes': 988, 'n_estimators': 236}. Best is trial 5 with value: -0.10403844253892167.\u001b[0m\n",
      "\u001b[32m[I 2021-12-08 08:00:42,765]\u001b[0m Trial 8 finished with value: -0.10766074380690589 and parameters: {'max_depth': 4, 'max_leaf_nodes': 692, 'n_estimators': 590}. Best is trial 5 with value: -0.10403844253892167.\u001b[0m\n",
      "\u001b[32m[I 2021-12-08 08:00:54,533]\u001b[0m Trial 9 finished with value: -0.1339374730627758 and parameters: {'max_depth': 1, 'max_leaf_nodes': 667, 'n_estimators': 764}. Best is trial 5 with value: -0.10403844253892167.\u001b[0m\n",
      "\u001b[32m[I 2021-12-08 08:00:59,585]\u001b[0m Trial 10 finished with value: -0.11234361567496347 and parameters: {'max_depth': 3, 'max_leaf_nodes': 889, 'n_estimators': 272}. Best is trial 5 with value: -0.10403844253892167.\u001b[0m\n",
      "\u001b[32m[I 2021-12-08 08:01:14,112]\u001b[0m Trial 11 finished with value: -0.10425370873310083 and parameters: {'max_depth': 6, 'max_leaf_nodes': 971, 'n_estimators': 519}. Best is trial 5 with value: -0.10403844253892167.\u001b[0m\n",
      "\u001b[32m[I 2021-12-08 08:01:44,037]\u001b[0m Trial 12 finished with value: -0.10474274494263658 and parameters: {'max_depth': 9, 'max_leaf_nodes': 904, 'n_estimators': 743}. Best is trial 5 with value: -0.10403844253892167.\u001b[0m\n",
      "\u001b[32m[I 2021-12-08 08:01:47,129]\u001b[0m Trial 13 finished with value: -0.10404656818980691 and parameters: {'max_depth': 7, 'max_leaf_nodes': 791, 'n_estimators': 89}. Best is trial 5 with value: -0.10403844253892167.\u001b[0m\n",
      "\u001b[32m[I 2021-12-08 08:01:50,738]\u001b[0m Trial 14 finished with value: -0.10493763128786675 and parameters: {'max_depth': 9, 'max_leaf_nodes': 742, 'n_estimators': 82}. Best is trial 5 with value: -0.10403844253892167.\u001b[0m\n",
      "\u001b[32m[I 2021-12-08 08:01:53,238]\u001b[0m Trial 15 finished with value: -0.10773489572965647 and parameters: {'max_depth': 4, 'max_leaf_nodes': 706, 'n_estimators': 111}. Best is trial 5 with value: -0.10403844253892167.\u001b[0m\n",
      "\u001b[32m[I 2021-12-08 08:01:56,038]\u001b[0m Trial 16 finished with value: -0.10426323248954532 and parameters: {'max_depth': 6, 'max_leaf_nodes': 930, 'n_estimators': 89}. Best is trial 5 with value: -0.10403844253892167.\u001b[0m\n",
      "\u001b[32m[I 2021-12-08 08:01:58,282]\u001b[0m Trial 17 finished with value: -0.10433661696874982 and parameters: {'max_depth': 6, 'max_leaf_nodes': 810, 'n_estimators': 73}. Best is trial 5 with value: -0.10403844253892167.\u001b[0m\n",
      "\u001b[32m[I 2021-12-08 08:02:06,809]\u001b[0m Trial 18 finished with value: -0.13389222825896713 and parameters: {'max_depth': 1, 'max_leaf_nodes': 998, 'n_estimators': 894}. Best is trial 5 with value: -0.10403844253892167.\u001b[0m\n",
      "\u001b[32m[I 2021-12-08 08:02:20,021]\u001b[0m Trial 19 finished with value: -0.10425135717824892 and parameters: {'max_depth': 6, 'max_leaf_nodes': 786, 'n_estimators': 444}. Best is trial 5 with value: -0.10403844253892167.\u001b[0m\n",
      "\u001b[32m[I 2021-12-08 08:02:40,405]\u001b[0m Trial 20 finished with value: -0.10475860957126817 and parameters: {'max_depth': 9, 'max_leaf_nodes': 788, 'n_estimators': 472}. Best is trial 5 with value: -0.10403844253892167.\u001b[0m\n",
      "\u001b[32m[I 2021-12-08 08:03:16,467]\u001b[0m Trial 21 finished with value: -0.10425106413894066 and parameters: {'max_depth': 8, 'max_leaf_nodes': 906, 'n_estimators': 957}. Best is trial 5 with value: -0.10403844253892167.\u001b[0m\n",
      "\u001b[32m[I 2021-12-08 08:03:38,975]\u001b[0m Trial 22 finished with value: -0.10528839132454967 and parameters: {'max_depth': 5, 'max_leaf_nodes': 909, 'n_estimators': 833}. Best is trial 5 with value: -0.10403844253892167.\u001b[0m\n",
      "\u001b[32m[I 2021-12-08 08:04:18,638]\u001b[0m Trial 23 finished with value: -0.10528039521606729 and parameters: {'max_depth': 10, 'max_leaf_nodes': 726, 'n_estimators': 959}. Best is trial 5 with value: -0.10403844253892167.\u001b[0m\n",
      "\u001b[32m[I 2021-12-08 08:04:23,137]\u001b[0m Trial 24 finished with value: -0.10434077572078079 and parameters: {'max_depth': 8, 'max_leaf_nodes': 853, 'n_estimators': 130}. Best is trial 5 with value: -0.10403844253892167.\u001b[0m\n",
      "\u001b[32m[I 2021-12-08 08:04:28,361]\u001b[0m Trial 25 finished with value: -0.13401070808348267 and parameters: {'max_depth': 1, 'max_leaf_nodes': 802, 'n_estimators': 579}. Best is trial 5 with value: -0.10403844253892167.\u001b[0m\n",
      "\u001b[32m[I 2021-12-08 08:04:37,786]\u001b[0m Trial 26 finished with value: -0.10401060572931267 and parameters: {'max_depth': 7, 'max_leaf_nodes': 718, 'n_estimators': 309}. Best is trial 26 with value: -0.10401060572931267.\u001b[0m\n",
      "\u001b[32m[I 2021-12-08 08:04:46,094]\u001b[0m Trial 27 finished with value: -0.1042420968278116 and parameters: {'max_depth': 6, 'max_leaf_nodes': 712, 'n_estimators': 300}. Best is trial 26 with value: -0.10401060572931267.\u001b[0m\n",
      "\u001b[32m[I 2021-12-08 08:04:52,296]\u001b[0m Trial 28 finished with value: -0.1042463046112253 and parameters: {'max_depth': 6, 'max_leaf_nodes': 842, 'n_estimators': 218}. Best is trial 26 with value: -0.10401060572931267.\u001b[0m\n",
      "\u001b[32m[I 2021-12-08 08:05:02,241]\u001b[0m Trial 29 finished with value: -0.10427699869850846 and parameters: {'max_depth': 8, 'max_leaf_nodes': 735, 'n_estimators': 291}. Best is trial 26 with value: -0.10401060572931267.\u001b[0m\n",
      "\u001b[32m[I 2021-12-08 08:05:05,005]\u001b[0m Trial 30 finished with value: -0.10406880998679222 and parameters: {'max_depth': 7, 'max_leaf_nodes': 661, 'n_estimators': 88}. Best is trial 26 with value: -0.10401060572931267.\u001b[0m\n",
      "\u001b[32m[I 2021-12-08 08:05:08,505]\u001b[0m Trial 31 finished with value: -0.10425702598886748 and parameters: {'max_depth': 6, 'max_leaf_nodes': 683, 'n_estimators': 127}. Best is trial 26 with value: -0.10401060572931267.\u001b[0m\n",
      "\u001b[32m[I 2021-12-08 08:05:12,036]\u001b[0m Trial 32 finished with value: -0.10406176465186645 and parameters: {'max_depth': 7, 'max_leaf_nodes': 620, 'n_estimators': 111}. Best is trial 26 with value: -0.10401060572931267.\u001b[0m\n",
      "\u001b[32m[I 2021-12-08 08:05:17,882]\u001b[0m Trial 33 finished with value: -0.1054664583075404 and parameters: {'max_depth': 10, 'max_leaf_nodes': 642, 'n_estimators': 128}. Best is trial 26 with value: -0.10401060572931267.\u001b[0m\n",
      "\u001b[32m[I 2021-12-08 08:05:27,614]\u001b[0m Trial 34 finished with value: -0.10423387522675068 and parameters: {'max_depth': 6, 'max_leaf_nodes': 615, 'n_estimators': 328}. Best is trial 26 with value: -0.10401060572931267.\u001b[0m\n",
      "\u001b[32m[I 2021-12-08 08:05:32,204]\u001b[0m Trial 35 finished with value: -0.10404240504982312 and parameters: {'max_depth': 7, 'max_leaf_nodes': 601, 'n_estimators': 137}. Best is trial 26 with value: -0.10401060572931267.\u001b[0m\n",
      "\u001b[32m[I 2021-12-08 08:05:42,317]\u001b[0m Trial 36 finished with value: -0.10401584533953072 and parameters: {'max_depth': 7, 'max_leaf_nodes': 897, 'n_estimators': 315}. Best is trial 26 with value: -0.10401060572931267.\u001b[0m\n",
      "\u001b[32m[I 2021-12-08 08:05:54,118]\u001b[0m Trial 37 finished with value: -0.10402818918443635 and parameters: {'max_depth': 7, 'max_leaf_nodes': 889, 'n_estimators': 371}. Best is trial 26 with value: -0.10401060572931267.\u001b[0m\n",
      "\u001b[32m[I 2021-12-08 08:06:06,629]\u001b[0m Trial 38 finished with value: -0.10424376144394602 and parameters: {'max_depth': 8, 'max_leaf_nodes': 910, 'n_estimators': 336}. Best is trial 26 with value: -0.10401060572931267.\u001b[0m\n",
      "\u001b[32m[I 2021-12-08 08:06:18,128]\u001b[0m Trial 39 finished with value: -0.10402042474039441 and parameters: {'max_depth': 7, 'max_leaf_nodes': 928, 'n_estimators': 349}. Best is trial 26 with value: -0.10401060572931267.\u001b[0m\n",
      "\u001b[32m[I 2021-12-08 08:06:32,728]\u001b[0m Trial 40 finished with value: -0.10425455532510775 and parameters: {'max_depth': 6, 'max_leaf_nodes': 870, 'n_estimators': 546}. Best is trial 26 with value: -0.10401060572931267.\u001b[0m\n",
      "\u001b[32m[I 2021-12-08 08:06:39,816]\u001b[0m Trial 41 finished with value: -0.10403975076767044 and parameters: {'max_depth': 7, 'max_leaf_nodes': 989, 'n_estimators': 233}. Best is trial 26 with value: -0.10401060572931267.\u001b[0m\n",
      "\u001b[32m[I 2021-12-08 08:06:50,922]\u001b[0m Trial 42 finished with value: -0.10402101074103016 and parameters: {'max_depth': 7, 'max_leaf_nodes': 893, 'n_estimators': 343}. Best is trial 26 with value: -0.10401060572931267.\u001b[0m\n",
      "\u001b[32m[I 2021-12-08 08:07:02,169]\u001b[0m Trial 43 finished with value: -0.10525496839268925 and parameters: {'max_depth': 5, 'max_leaf_nodes': 900, 'n_estimators': 446}. Best is trial 26 with value: -0.10401060572931267.\u001b[0m\n",
      "\u001b[32m[I 2021-12-08 08:07:15,739]\u001b[0m Trial 44 finished with value: -0.10403572610324152 and parameters: {'max_depth': 7, 'max_leaf_nodes': 888, 'n_estimators': 426}. Best is trial 26 with value: -0.10401060572931267.\u001b[0m\n",
      "\u001b[32m[I 2021-12-08 08:07:31,143]\u001b[0m Trial 45 finished with value: -0.10423865156911463 and parameters: {'max_depth': 8, 'max_leaf_nodes': 939, 'n_estimators': 422}. Best is trial 26 with value: -0.10401060572931267.\u001b[0m\n",
      "\u001b[32m[I 2021-12-08 08:07:44,885]\u001b[0m Trial 46 finished with value: -0.1042520650927046 and parameters: {'max_depth': 8, 'max_leaf_nodes': 855, 'n_estimators': 382}. Best is trial 26 with value: -0.10401060572931267.\u001b[0m\n",
      "\u001b[32m[I 2021-12-08 08:07:53,627]\u001b[0m Trial 47 finished with value: -0.10401393414790708 and parameters: {'max_depth': 7, 'max_leaf_nodes': 889, 'n_estimators': 275}. Best is trial 26 with value: -0.10401060572931267.\u001b[0m\n",
      "\u001b[32m[I 2021-12-08 08:08:16,249]\u001b[0m Trial 48 finished with value: -0.10429219119879711 and parameters: {'max_depth': 6, 'max_leaf_nodes': 600, 'n_estimators': 826}. Best is trial 26 with value: -0.10401060572931267.\u001b[0m\n",
      "\u001b[32m[I 2021-12-08 08:08:23,214]\u001b[0m Trial 49 finished with value: -0.104026539591568 and parameters: {'max_depth': 7, 'max_leaf_nodes': 915, 'n_estimators': 224}. Best is trial 26 with value: -0.10401060572931267.\u001b[0m\n"
     ]
    }
   ],
   "source": [
    "# Hyperparameter tuning using optuna \n",
    "def objective(trial):\n",
    "    params = {'model__regressor__max_depth':trial.suggest_int('max_depth', 1, 10),\n",
    "              'model__regressor__max_leaf_nodes':trial.suggest_int('max_leaf_nodes', 600, 1000),\n",
    "              'model__regressor__n_estimators':trial.suggest_int('n_estimators', 30, 1000)}\n",
    "    \n",
    "    model_rf = Pipeline(steps=[('preprocessor', preprocessor),\n",
    "                                  ('model', TransformedTargetRegressor(RandomForestRegressor(random_state=123), func=np.log, inverse_func=np.exp))])\n",
    "    model_rf.set_params(**params)   \n",
    "    score = cross_val_score(model_rf, X_train, np.log(y_train), cv=5, scoring='neg_mean_squared_error')\n",
    "    mse = score.mean()\n",
    "\n",
    "    return mse\n",
    "sampler = TPESampler(multivariate=True)\n",
    "study = optuna.create_study(sampler=sampler, direction='maximize')\n",
    "study.optimize(objective, n_trials=50)\n"
   ]
  },
  {
   "cell_type": "code",
   "execution_count": 23,
   "metadata": {},
   "outputs": [],
   "source": [
    "model_rf = Pipeline(steps=[('preprocessor', preprocessor),\n",
    "                                  ('model', RandomForestRegressor(random_state=123))])\n",
    "model_rf['model'].set_params(**study.best_params)\n",
    "df_rf_cv_metrics = pd.DataFrame(cross_validate(model_rf,\n",
    "                                        X_train,\n",
    "                                        y_train, \n",
    "                                        scoring=['neg_mean_absolute_error', 'neg_mean_absolute_percentage_error'], \n",
    "                                        return_train_score=True, cv=10))"
   ]
  },
  {
   "cell_type": "code",
   "execution_count": 24,
   "metadata": {},
   "outputs": [
    {
     "data": {
      "text/html": [
       "<div>\n",
       "<style scoped>\n",
       "    .dataframe tbody tr th:only-of-type {\n",
       "        vertical-align: middle;\n",
       "    }\n",
       "\n",
       "    .dataframe tbody tr th {\n",
       "        vertical-align: top;\n",
       "    }\n",
       "\n",
       "    .dataframe thead th {\n",
       "        text-align: right;\n",
       "    }\n",
       "</style>\n",
       "<table border=\"1\" class=\"dataframe\">\n",
       "  <thead>\n",
       "    <tr style=\"text-align: right;\">\n",
       "      <th></th>\n",
       "      <th>fit_time</th>\n",
       "      <th>score_time</th>\n",
       "      <th>test_neg_mean_absolute_error</th>\n",
       "      <th>train_neg_mean_absolute_error</th>\n",
       "      <th>test_neg_mean_absolute_percentage_error</th>\n",
       "      <th>train_neg_mean_absolute_percentage_error</th>\n",
       "    </tr>\n",
       "  </thead>\n",
       "  <tbody>\n",
       "    <tr>\n",
       "      <th>0</th>\n",
       "      <td>2.186526</td>\n",
       "      <td>0.036434</td>\n",
       "      <td>-19.766190</td>\n",
       "      <td>-18.301623</td>\n",
       "      <td>-0.277086</td>\n",
       "      <td>-0.257033</td>\n",
       "    </tr>\n",
       "    <tr>\n",
       "      <th>1</th>\n",
       "      <td>2.313858</td>\n",
       "      <td>0.036896</td>\n",
       "      <td>-19.509003</td>\n",
       "      <td>-18.329880</td>\n",
       "      <td>-0.279009</td>\n",
       "      <td>-0.257903</td>\n",
       "    </tr>\n",
       "    <tr>\n",
       "      <th>2</th>\n",
       "      <td>2.278360</td>\n",
       "      <td>0.035649</td>\n",
       "      <td>-20.753928</td>\n",
       "      <td>-18.169899</td>\n",
       "      <td>-0.286035</td>\n",
       "      <td>-0.255422</td>\n",
       "    </tr>\n",
       "    <tr>\n",
       "      <th>3</th>\n",
       "      <td>2.116011</td>\n",
       "      <td>0.035437</td>\n",
       "      <td>-18.603644</td>\n",
       "      <td>-18.422114</td>\n",
       "      <td>-0.257281</td>\n",
       "      <td>-0.259371</td>\n",
       "    </tr>\n",
       "    <tr>\n",
       "      <th>4</th>\n",
       "      <td>2.117245</td>\n",
       "      <td>0.036001</td>\n",
       "      <td>-20.061586</td>\n",
       "      <td>-18.221126</td>\n",
       "      <td>-0.292100</td>\n",
       "      <td>-0.256277</td>\n",
       "    </tr>\n",
       "    <tr>\n",
       "      <th>5</th>\n",
       "      <td>2.227798</td>\n",
       "      <td>0.036850</td>\n",
       "      <td>-20.452727</td>\n",
       "      <td>-18.212630</td>\n",
       "      <td>-0.272959</td>\n",
       "      <td>-0.257272</td>\n",
       "    </tr>\n",
       "    <tr>\n",
       "      <th>6</th>\n",
       "      <td>2.580834</td>\n",
       "      <td>0.042403</td>\n",
       "      <td>-20.877313</td>\n",
       "      <td>-18.178053</td>\n",
       "      <td>-0.290607</td>\n",
       "      <td>-0.255458</td>\n",
       "    </tr>\n",
       "    <tr>\n",
       "      <th>7</th>\n",
       "      <td>2.307217</td>\n",
       "      <td>0.045741</td>\n",
       "      <td>-20.888908</td>\n",
       "      <td>-18.183205</td>\n",
       "      <td>-0.288564</td>\n",
       "      <td>-0.255917</td>\n",
       "    </tr>\n",
       "    <tr>\n",
       "      <th>8</th>\n",
       "      <td>2.293974</td>\n",
       "      <td>0.035995</td>\n",
       "      <td>-19.776070</td>\n",
       "      <td>-18.282619</td>\n",
       "      <td>-0.278818</td>\n",
       "      <td>-0.257295</td>\n",
       "    </tr>\n",
       "    <tr>\n",
       "      <th>9</th>\n",
       "      <td>2.276098</td>\n",
       "      <td>0.047512</td>\n",
       "      <td>-20.440810</td>\n",
       "      <td>-18.154629</td>\n",
       "      <td>-0.280990</td>\n",
       "      <td>-0.255598</td>\n",
       "    </tr>\n",
       "  </tbody>\n",
       "</table>\n",
       "</div>"
      ],
      "text/plain": [
       "   fit_time  score_time  test_neg_mean_absolute_error  \\\n",
       "0  2.186526    0.036434                    -19.766190   \n",
       "1  2.313858    0.036896                    -19.509003   \n",
       "2  2.278360    0.035649                    -20.753928   \n",
       "3  2.116011    0.035437                    -18.603644   \n",
       "4  2.117245    0.036001                    -20.061586   \n",
       "5  2.227798    0.036850                    -20.452727   \n",
       "6  2.580834    0.042403                    -20.877313   \n",
       "7  2.307217    0.045741                    -20.888908   \n",
       "8  2.293974    0.035995                    -19.776070   \n",
       "9  2.276098    0.047512                    -20.440810   \n",
       "\n",
       "   train_neg_mean_absolute_error  test_neg_mean_absolute_percentage_error  \\\n",
       "0                     -18.301623                                -0.277086   \n",
       "1                     -18.329880                                -0.279009   \n",
       "2                     -18.169899                                -0.286035   \n",
       "3                     -18.422114                                -0.257281   \n",
       "4                     -18.221126                                -0.292100   \n",
       "5                     -18.212630                                -0.272959   \n",
       "6                     -18.178053                                -0.290607   \n",
       "7                     -18.183205                                -0.288564   \n",
       "8                     -18.282619                                -0.278818   \n",
       "9                     -18.154629                                -0.280990   \n",
       "\n",
       "   train_neg_mean_absolute_percentage_error  \n",
       "0                                 -0.257033  \n",
       "1                                 -0.257903  \n",
       "2                                 -0.255422  \n",
       "3                                 -0.259371  \n",
       "4                                 -0.256277  \n",
       "5                                 -0.257272  \n",
       "6                                 -0.255458  \n",
       "7                                 -0.255917  \n",
       "8                                 -0.257295  \n",
       "9                                 -0.255598  "
      ]
     },
     "execution_count": 24,
     "metadata": {},
     "output_type": "execute_result"
    }
   ],
   "source": [
    "df_rf_cv_metrics"
   ]
  },
  {
   "cell_type": "code",
   "execution_count": 25,
   "metadata": {},
   "outputs": [
    {
     "name": "stdout",
     "output_type": "stream",
     "text": [
      "Average MAPE - Cross Validation Test: -0.28034500675859364\n",
      "Standard Deviation of MAPE - Cross Validation Test: 0.01024728192931544\n"
     ]
    }
   ],
   "source": [
    "print(f\"Average MAPE - Cross Validation Test: {df_rf_cv_metrics['test_neg_mean_absolute_percentage_error'].mean()}\")\n",
    "print(f\"Standard Deviation of MAPE - Cross Validation Test: {df_rf_cv_metrics['test_neg_mean_absolute_percentage_error'].std()}\")"
   ]
  },
  {
   "cell_type": "code",
   "execution_count": 27,
   "metadata": {},
   "outputs": [
    {
     "data": {
      "text/plain": [
       "Pipeline(steps=[('preprocessor',\n",
       "                 ColumnTransformer(transformers=[('impute_mode_one_hot',\n",
       "                                                  Pipeline(steps=[('impute_mode',\n",
       "                                                                   Pipeline(steps=[('impute_mode',\n",
       "                                                                                    SimpleImputer(strategy='most_frequent'))])),\n",
       "                                                                  ('one_hot',\n",
       "                                                                   Pipeline(steps=[('cat_encoder',\n",
       "                                                                                    OneHotEncoder(handle_unknown='ignore'))]))]),\n",
       "                                                  ['on_demand', 'hour_group']),\n",
       "                                                 ('impute_median',\n",
       "                                                  Pipeline(steps=[('impute_median',\n",
       "                                                                   SimpleImputer(strategy='median'))]),\n",
       "                                                  ['n_distinct_items',\n",
       "                                                   'distance_km',\n",
       "                                                   'found_rate']),\n",
       "                                                 ('impute_zero',\n",
       "                                                  Pipeline(steps=[('impute_zero',\n",
       "                                                                   SimpleImputer(fill_value=0,\n",
       "                                                                                 strategy='constant'))]),\n",
       "                                                  ['sum_kgs',\n",
       "                                                   'sum_unities'])])),\n",
       "                ('model',\n",
       "                 RandomForestRegressor(max_depth=7, max_leaf_nodes=718,\n",
       "                                       n_estimators=309, random_state=123))])"
      ]
     },
     "execution_count": 27,
     "metadata": {},
     "output_type": "execute_result"
    }
   ],
   "source": [
    "model_rf.fit(X_train, y_train)"
   ]
  },
  {
   "cell_type": "code",
   "execution_count": 28,
   "metadata": {},
   "outputs": [
    {
     "name": "stdout",
     "output_type": "stream",
     "text": [
      "About 57.08333333333333% of our predictions are higher than the real value\n"
     ]
    }
   ],
   "source": [
    "# Generating predictions for X_train\n",
    "y_train_rf_predict = model_rf.predict(X_train)\n",
    "# Calculating proportion of overestimation\n",
    "print(f'About {((y_train_rf_predict >= y_train).sum())/len(y_train)*100}% of our predictions are higher than the real value')"
   ]
  },
  {
   "cell_type": "markdown",
   "metadata": {},
   "source": [
    "We see that, despite MAPE is a little worse compared to the baseline, the proportion of overestimated predictions is higher."
   ]
  },
  {
   "cell_type": "markdown",
   "metadata": {},
   "source": [
    "## 1.3) NGBoost "
   ]
  },
  {
   "cell_type": "markdown",
   "metadata": {},
   "source": [
    "Finally, We'll train a NGBoost model, which is capable of outputing a distribution for each prediction, so that We'll be able to calculate prediction interval, what can be really useful in production enviroment, because Cornershop can now give an interval, instead of a point estimation for the time the order will take to complete."
   ]
  },
  {
   "cell_type": "code",
   "execution_count": 137,
   "metadata": {},
   "outputs": [
    {
     "name": "stdout",
     "output_type": "stream",
     "text": [
      "[iter 0] loss=4.8731 val_loss=0.0000 scale=1.0000 norm=0.6300\n",
      "[iter 100] loss=4.6717 val_loss=0.0000 scale=1.0000 norm=0.5447\n",
      "[iter 200] loss=4.5897 val_loss=0.0000 scale=1.0000 norm=0.5485\n",
      "[iter 300] loss=4.5594 val_loss=0.0000 scale=1.0000 norm=0.5618\n",
      "[iter 400] loss=4.5485 val_loss=0.0000 scale=1.0000 norm=0.5678\n",
      "[iter 0] loss=4.8759 val_loss=0.0000 scale=1.0000 norm=0.6297\n",
      "[iter 100] loss=4.6766 val_loss=0.0000 scale=1.0000 norm=0.5445\n",
      "[iter 200] loss=4.5975 val_loss=0.0000 scale=1.0000 norm=0.5475\n",
      "[iter 300] loss=4.5662 val_loss=0.0000 scale=1.0000 norm=0.5597\n",
      "[iter 400] loss=4.5549 val_loss=0.0000 scale=2.0000 norm=1.1334\n",
      "[iter 0] loss=4.8676 val_loss=0.0000 scale=1.0000 norm=0.6267\n",
      "[iter 100] loss=4.6655 val_loss=0.0000 scale=1.0000 norm=0.5406\n",
      "[iter 200] loss=4.5803 val_loss=0.0000 scale=1.0000 norm=0.5465\n",
      "[iter 300] loss=4.5531 val_loss=0.0000 scale=1.0000 norm=0.5593\n",
      "[iter 400] loss=4.5430 val_loss=0.0000 scale=2.0000 norm=1.1300\n",
      "[iter 0] loss=4.8758 val_loss=0.0000 scale=1.0000 norm=0.6284\n",
      "[iter 100] loss=4.6740 val_loss=0.0000 scale=1.0000 norm=0.5415\n",
      "[iter 200] loss=4.5920 val_loss=0.0000 scale=1.0000 norm=0.5462\n",
      "[iter 300] loss=4.5625 val_loss=0.0000 scale=1.0000 norm=0.5597\n",
      "[iter 400] loss=4.5513 val_loss=0.0000 scale=1.0000 norm=0.5658\n",
      "[iter 0] loss=4.8687 val_loss=0.0000 scale=1.0000 norm=0.6278\n",
      "[iter 100] loss=4.6704 val_loss=0.0000 scale=1.0000 norm=0.5433\n",
      "[iter 200] loss=4.5780 val_loss=0.0000 scale=2.0000 norm=1.1001\n",
      "[iter 300] loss=4.5546 val_loss=0.0000 scale=1.0000 norm=0.5625\n",
      "[iter 400] loss=4.5457 val_loss=0.0000 scale=2.0000 norm=1.1330\n",
      "[iter 0] loss=4.8659 val_loss=0.0000 scale=1.0000 norm=0.6291\n",
      "[iter 100] loss=4.6670 val_loss=0.0000 scale=1.0000 norm=0.5453\n",
      "[iter 200] loss=4.5766 val_loss=0.0000 scale=1.0000 norm=0.5520\n",
      "[iter 300] loss=4.5524 val_loss=0.0000 scale=2.0000 norm=1.1295\n",
      "[iter 400] loss=4.5433 val_loss=0.0000 scale=1.0000 norm=0.5694\n",
      "[iter 0] loss=4.8693 val_loss=0.0000 scale=1.0000 norm=0.6284\n",
      "[iter 100] loss=4.6671 val_loss=0.0000 scale=1.0000 norm=0.5420\n",
      "[iter 200] loss=4.5791 val_loss=0.0000 scale=1.0000 norm=0.5479\n",
      "[iter 300] loss=4.5530 val_loss=0.0000 scale=2.0000 norm=1.1217\n",
      "[iter 400] loss=4.5430 val_loss=0.0000 scale=1.0000 norm=0.5662\n",
      "[iter 0] loss=4.8630 val_loss=0.0000 scale=1.0000 norm=0.6269\n",
      "[iter 100] loss=4.6619 val_loss=0.0000 scale=1.0000 norm=0.5415\n",
      "[iter 200] loss=4.5800 val_loss=0.0000 scale=1.0000 norm=0.5473\n",
      "[iter 300] loss=4.5527 val_loss=0.0000 scale=1.0000 norm=0.5603\n",
      "[iter 400] loss=4.5427 val_loss=0.0000 scale=1.0000 norm=0.5664\n",
      "[iter 0] loss=4.8729 val_loss=0.0000 scale=1.0000 norm=0.6300\n",
      "[iter 100] loss=4.6731 val_loss=0.0000 scale=1.0000 norm=0.5448\n",
      "[iter 200] loss=4.5912 val_loss=0.0000 scale=1.0000 norm=0.5491\n",
      "[iter 300] loss=4.5603 val_loss=0.0000 scale=1.0000 norm=0.5629\n",
      "[iter 400] loss=4.5500 val_loss=0.0000 scale=1.0000 norm=0.5687\n",
      "[iter 0] loss=4.8700 val_loss=0.0000 scale=1.0000 norm=0.6287\n",
      "[iter 100] loss=4.6660 val_loss=0.0000 scale=1.0000 norm=0.5418\n",
      "[iter 200] loss=4.5834 val_loss=0.0000 scale=1.0000 norm=0.5462\n",
      "[iter 300] loss=4.5540 val_loss=0.0000 scale=2.0000 norm=1.1190\n",
      "[iter 400] loss=4.5436 val_loss=0.0000 scale=1.0000 norm=0.5659\n"
     ]
    }
   ],
   "source": [
    "model_nb = Pipeline(steps=[('preprocessor', preprocessor),\n",
    "                           ('model',NGBRegressor(Base=DecisionTreeRegressor(max_depth=5, min_samples_leaf=600,random_state=123),\n",
    "                                                 random_state=123,\n",
    "                                                Dist=LogNormal))])\n",
    "df_rf_nb_metrics = pd.DataFrame(cross_validate(model_nb,\n",
    "                                        X_train,\n",
    "                                        y_train, \n",
    "                                        scoring=['neg_mean_absolute_error', 'neg_mean_absolute_percentage_error'], \n",
    "                                        return_train_score=True, cv=10))"
   ]
  },
  {
   "cell_type": "code",
   "execution_count": 138,
   "metadata": {},
   "outputs": [
    {
     "data": {
      "text/html": [
       "<div>\n",
       "<style scoped>\n",
       "    .dataframe tbody tr th:only-of-type {\n",
       "        vertical-align: middle;\n",
       "    }\n",
       "\n",
       "    .dataframe tbody tr th {\n",
       "        vertical-align: top;\n",
       "    }\n",
       "\n",
       "    .dataframe thead th {\n",
       "        text-align: right;\n",
       "    }\n",
       "</style>\n",
       "<table border=\"1\" class=\"dataframe\">\n",
       "  <thead>\n",
       "    <tr style=\"text-align: right;\">\n",
       "      <th></th>\n",
       "      <th>fit_time</th>\n",
       "      <th>score_time</th>\n",
       "      <th>test_neg_mean_absolute_error</th>\n",
       "      <th>train_neg_mean_absolute_error</th>\n",
       "      <th>test_neg_mean_absolute_percentage_error</th>\n",
       "      <th>train_neg_mean_absolute_percentage_error</th>\n",
       "    </tr>\n",
       "  </thead>\n",
       "  <tbody>\n",
       "    <tr>\n",
       "      <th>0</th>\n",
       "      <td>12.747421</td>\n",
       "      <td>0.103352</td>\n",
       "      <td>-19.877955</td>\n",
       "      <td>-19.931487</td>\n",
       "      <td>-0.276375</td>\n",
       "      <td>-0.274594</td>\n",
       "    </tr>\n",
       "    <tr>\n",
       "      <th>1</th>\n",
       "      <td>12.048690</td>\n",
       "      <td>0.141655</td>\n",
       "      <td>-19.136172</td>\n",
       "      <td>-20.036376</td>\n",
       "      <td>-0.271892</td>\n",
       "      <td>-0.276238</td>\n",
       "    </tr>\n",
       "    <tr>\n",
       "      <th>2</th>\n",
       "      <td>14.182058</td>\n",
       "      <td>0.150833</td>\n",
       "      <td>-21.170471</td>\n",
       "      <td>-19.800007</td>\n",
       "      <td>-0.286607</td>\n",
       "      <td>-0.273285</td>\n",
       "    </tr>\n",
       "    <tr>\n",
       "      <th>3</th>\n",
       "      <td>13.890416</td>\n",
       "      <td>0.141449</td>\n",
       "      <td>-18.852807</td>\n",
       "      <td>-20.015819</td>\n",
       "      <td>-0.257770</td>\n",
       "      <td>-0.276485</td>\n",
       "    </tr>\n",
       "    <tr>\n",
       "      <th>4</th>\n",
       "      <td>13.215286</td>\n",
       "      <td>0.122172</td>\n",
       "      <td>-20.453957</td>\n",
       "      <td>-19.853026</td>\n",
       "      <td>-0.293276</td>\n",
       "      <td>-0.273466</td>\n",
       "    </tr>\n",
       "    <tr>\n",
       "      <th>5</th>\n",
       "      <td>12.529412</td>\n",
       "      <td>0.109963</td>\n",
       "      <td>-20.642691</td>\n",
       "      <td>-19.814938</td>\n",
       "      <td>-0.272081</td>\n",
       "      <td>-0.274633</td>\n",
       "    </tr>\n",
       "    <tr>\n",
       "      <th>6</th>\n",
       "      <td>12.486743</td>\n",
       "      <td>0.106846</td>\n",
       "      <td>-20.981803</td>\n",
       "      <td>-19.835037</td>\n",
       "      <td>-0.289344</td>\n",
       "      <td>-0.273698</td>\n",
       "    </tr>\n",
       "    <tr>\n",
       "      <th>7</th>\n",
       "      <td>12.478712</td>\n",
       "      <td>0.105654</td>\n",
       "      <td>-21.062606</td>\n",
       "      <td>-19.815347</td>\n",
       "      <td>-0.291492</td>\n",
       "      <td>-0.273370</td>\n",
       "    </tr>\n",
       "    <tr>\n",
       "      <th>8</th>\n",
       "      <td>13.571088</td>\n",
       "      <td>0.137985</td>\n",
       "      <td>-19.987676</td>\n",
       "      <td>-19.921240</td>\n",
       "      <td>-0.280282</td>\n",
       "      <td>-0.275080</td>\n",
       "    </tr>\n",
       "    <tr>\n",
       "      <th>9</th>\n",
       "      <td>13.216227</td>\n",
       "      <td>0.102461</td>\n",
       "      <td>-20.875762</td>\n",
       "      <td>-19.820506</td>\n",
       "      <td>-0.284186</td>\n",
       "      <td>-0.273671</td>\n",
       "    </tr>\n",
       "  </tbody>\n",
       "</table>\n",
       "</div>"
      ],
      "text/plain": [
       "    fit_time  score_time  test_neg_mean_absolute_error  \\\n",
       "0  12.747421    0.103352                    -19.877955   \n",
       "1  12.048690    0.141655                    -19.136172   \n",
       "2  14.182058    0.150833                    -21.170471   \n",
       "3  13.890416    0.141449                    -18.852807   \n",
       "4  13.215286    0.122172                    -20.453957   \n",
       "5  12.529412    0.109963                    -20.642691   \n",
       "6  12.486743    0.106846                    -20.981803   \n",
       "7  12.478712    0.105654                    -21.062606   \n",
       "8  13.571088    0.137985                    -19.987676   \n",
       "9  13.216227    0.102461                    -20.875762   \n",
       "\n",
       "   train_neg_mean_absolute_error  test_neg_mean_absolute_percentage_error  \\\n",
       "0                     -19.931487                                -0.276375   \n",
       "1                     -20.036376                                -0.271892   \n",
       "2                     -19.800007                                -0.286607   \n",
       "3                     -20.015819                                -0.257770   \n",
       "4                     -19.853026                                -0.293276   \n",
       "5                     -19.814938                                -0.272081   \n",
       "6                     -19.835037                                -0.289344   \n",
       "7                     -19.815347                                -0.291492   \n",
       "8                     -19.921240                                -0.280282   \n",
       "9                     -19.820506                                -0.284186   \n",
       "\n",
       "   train_neg_mean_absolute_percentage_error  \n",
       "0                                 -0.274594  \n",
       "1                                 -0.276238  \n",
       "2                                 -0.273285  \n",
       "3                                 -0.276485  \n",
       "4                                 -0.273466  \n",
       "5                                 -0.274633  \n",
       "6                                 -0.273698  \n",
       "7                                 -0.273370  \n",
       "8                                 -0.275080  \n",
       "9                                 -0.273671  "
      ]
     },
     "execution_count": 138,
     "metadata": {},
     "output_type": "execute_result"
    }
   ],
   "source": [
    "df_rf_nb_metrics"
   ]
  },
  {
   "cell_type": "code",
   "execution_count": 139,
   "metadata": {},
   "outputs": [
    {
     "name": "stdout",
     "output_type": "stream",
     "text": [
      "Average MAPE - Cross Validation Test: -0.2803305443860043\n",
      "Standard Deviation of MAPE - Cross Validation Test: 0.011013031804846442\n"
     ]
    }
   ],
   "source": [
    "print(f\"Average MAPE - Cross Validation Test: {df_rf_nb_metrics['test_neg_mean_absolute_percentage_error'].mean()}\")\n",
    "print(f\"Standard Deviation of MAPE - Cross Validation Test: {df_rf_nb_metrics['test_neg_mean_absolute_percentage_error'].std()}\")"
   ]
  },
  {
   "cell_type": "code",
   "execution_count": 140,
   "metadata": {},
   "outputs": [
    {
     "name": "stdout",
     "output_type": "stream",
     "text": [
      "[iter 0] loss=4.8702 val_loss=0.0000 scale=1.0000 norm=0.6286\n",
      "[iter 100] loss=4.6638 val_loss=0.0000 scale=1.0000 norm=0.5410\n",
      "[iter 200] loss=4.5812 val_loss=0.0000 scale=2.0000 norm=1.0922\n",
      "[iter 300] loss=4.5515 val_loss=0.0000 scale=1.0000 norm=0.5613\n",
      "[iter 400] loss=4.5426 val_loss=0.0000 scale=2.0000 norm=1.1339\n"
     ]
    },
    {
     "data": {
      "text/plain": [
       "Pipeline(steps=[('preprocessor',\n",
       "                 ColumnTransformer(transformers=[('impute_mode_one_hot',\n",
       "                                                  Pipeline(steps=[('impute_mode',\n",
       "                                                                   Pipeline(steps=[('impute_mode',\n",
       "                                                                                    SimpleImputer(strategy='most_frequent'))])),\n",
       "                                                                  ('one_hot',\n",
       "                                                                   Pipeline(steps=[('cat_encoder',\n",
       "                                                                                    OneHotEncoder(handle_unknown='ignore'))]))]),\n",
       "                                                  ['on_demand', 'hour_group']),\n",
       "                                                 ('impute_median',\n",
       "                                                  Pipeline(steps=[('impute_...\n",
       "                                                 ('impute_zero',\n",
       "                                                  Pipeline(steps=[('impute_zero',\n",
       "                                                                   SimpleImputer(fill_value=0,\n",
       "                                                                                 strategy='constant'))]),\n",
       "                                                  ['sum_kgs',\n",
       "                                                   'sum_unities'])])),\n",
       "                ('model',\n",
       "                 NGBRegressor(Base=DecisionTreeRegressor(max_depth=5,\n",
       "                                                         min_samples_leaf=600,\n",
       "                                                         random_state=123),\n",
       "                              Dist=<class 'ngboost.distns.distn.Distn.uncensor.<locals>.DistWithUncensoredScore'>,\n",
       "                              random_state=RandomState(MT19937) at 0x1603E6440))])"
      ]
     },
     "execution_count": 140,
     "metadata": {},
     "output_type": "execute_result"
    }
   ],
   "source": [
    "model_nb.fit(X_train, y_train)\n"
   ]
  },
  {
   "cell_type": "code",
   "execution_count": 141,
   "metadata": {},
   "outputs": [
    {
     "name": "stdout",
     "output_type": "stream",
     "text": [
      "About 57.41666666666667% of our predictions are higher than the real value\n"
     ]
    }
   ],
   "source": [
    "y_train_nb_predict = model_nb.predict(X_train)\n",
    "print(f'About {((y_train_nb_predict >= y_train).sum())/len(y_train)*100}% of our predictions are higher than the real value')"
   ]
  },
  {
   "cell_type": "markdown",
   "metadata": {},
   "source": [
    "To generate prediction interval, We'll need to apply `.pred_dist()` method and then extract the distribution parameters for each prediction."
   ]
  },
  {
   "cell_type": "code",
   "execution_count": 142,
   "metadata": {},
   "outputs": [],
   "source": [
    "# preprocessing step\n",
    "X_train_preprocessed = model_nb['preprocessor'].transform(X_train)\n",
    "# get parameters \n",
    "y_train_prob = model_nb['model'].pred_dist(X_train_preprocessed).params\n",
    "predictions = pd.DataFrame(y_train_prob)\n"
   ]
  },
  {
   "cell_type": "code",
   "execution_count": 143,
   "metadata": {},
   "outputs": [
    {
     "data": {
      "text/html": [
       "<div>\n",
       "<style scoped>\n",
       "    .dataframe tbody tr th:only-of-type {\n",
       "        vertical-align: middle;\n",
       "    }\n",
       "\n",
       "    .dataframe tbody tr th {\n",
       "        vertical-align: top;\n",
       "    }\n",
       "\n",
       "    .dataframe thead th {\n",
       "        text-align: right;\n",
       "    }\n",
       "</style>\n",
       "<table border=\"1\" class=\"dataframe\">\n",
       "  <thead>\n",
       "    <tr style=\"text-align: right;\">\n",
       "      <th></th>\n",
       "      <th>s</th>\n",
       "      <th>scale</th>\n",
       "    </tr>\n",
       "  </thead>\n",
       "  <tbody>\n",
       "    <tr>\n",
       "      <th>0</th>\n",
       "      <td>0.390934</td>\n",
       "      <td>44.356750</td>\n",
       "    </tr>\n",
       "    <tr>\n",
       "      <th>1</th>\n",
       "      <td>0.260647</td>\n",
       "      <td>123.058273</td>\n",
       "    </tr>\n",
       "    <tr>\n",
       "      <th>2</th>\n",
       "      <td>0.408346</td>\n",
       "      <td>56.740349</td>\n",
       "    </tr>\n",
       "    <tr>\n",
       "      <th>3</th>\n",
       "      <td>0.234675</td>\n",
       "      <td>107.306261</td>\n",
       "    </tr>\n",
       "    <tr>\n",
       "      <th>4</th>\n",
       "      <td>0.330448</td>\n",
       "      <td>84.836854</td>\n",
       "    </tr>\n",
       "    <tr>\n",
       "      <th>...</th>\n",
       "      <td>...</td>\n",
       "      <td>...</td>\n",
       "    </tr>\n",
       "    <tr>\n",
       "      <th>5995</th>\n",
       "      <td>0.338832</td>\n",
       "      <td>55.881411</td>\n",
       "    </tr>\n",
       "    <tr>\n",
       "      <th>5996</th>\n",
       "      <td>0.327237</td>\n",
       "      <td>75.126496</td>\n",
       "    </tr>\n",
       "    <tr>\n",
       "      <th>5997</th>\n",
       "      <td>0.394121</td>\n",
       "      <td>48.546872</td>\n",
       "    </tr>\n",
       "    <tr>\n",
       "      <th>5998</th>\n",
       "      <td>0.292796</td>\n",
       "      <td>71.703699</td>\n",
       "    </tr>\n",
       "    <tr>\n",
       "      <th>5999</th>\n",
       "      <td>0.261597</td>\n",
       "      <td>82.587356</td>\n",
       "    </tr>\n",
       "  </tbody>\n",
       "</table>\n",
       "<p>6000 rows × 2 columns</p>\n",
       "</div>"
      ],
      "text/plain": [
       "             s       scale\n",
       "0     0.390934   44.356750\n",
       "1     0.260647  123.058273\n",
       "2     0.408346   56.740349\n",
       "3     0.234675  107.306261\n",
       "4     0.330448   84.836854\n",
       "...        ...         ...\n",
       "5995  0.338832   55.881411\n",
       "5996  0.327237   75.126496\n",
       "5997  0.394121   48.546872\n",
       "5998  0.292796   71.703699\n",
       "5999  0.261597   82.587356\n",
       "\n",
       "[6000 rows x 2 columns]"
      ]
     },
     "execution_count": 143,
     "metadata": {},
     "output_type": "execute_result"
    }
   ],
   "source": [
    "predictions"
   ]
  },
  {
   "cell_type": "markdown",
   "metadata": {},
   "source": [
    "For each row We have `s` and `scale` values. As We defined the target to have a normal distribution, We can apply these parameters and get the interval using `scipy`"
   ]
  },
  {
   "cell_type": "code",
   "execution_count": 144,
   "metadata": {},
   "outputs": [],
   "source": [
    "\n",
    "#create 95% confidence interval \n",
    "predictions['interval'] = predictions.apply(lambda x: st.lognorm.interval(alpha=0.95, s=x['s'], scale=x['scale']), axis=1)\n"
   ]
  },
  {
   "cell_type": "code",
   "execution_count": 145,
   "metadata": {},
   "outputs": [
    {
     "data": {
      "text/html": [
       "<div>\n",
       "<style scoped>\n",
       "    .dataframe tbody tr th:only-of-type {\n",
       "        vertical-align: middle;\n",
       "    }\n",
       "\n",
       "    .dataframe tbody tr th {\n",
       "        vertical-align: top;\n",
       "    }\n",
       "\n",
       "    .dataframe thead th {\n",
       "        text-align: right;\n",
       "    }\n",
       "</style>\n",
       "<table border=\"1\" class=\"dataframe\">\n",
       "  <thead>\n",
       "    <tr style=\"text-align: right;\">\n",
       "      <th></th>\n",
       "      <th>s</th>\n",
       "      <th>scale</th>\n",
       "      <th>interval</th>\n",
       "    </tr>\n",
       "  </thead>\n",
       "  <tbody>\n",
       "    <tr>\n",
       "      <th>0</th>\n",
       "      <td>0.390934</td>\n",
       "      <td>44.356750</td>\n",
       "      <td>(20.615620568217647, 95.43837093908799)</td>\n",
       "    </tr>\n",
       "    <tr>\n",
       "      <th>1</th>\n",
       "      <td>0.260647</td>\n",
       "      <td>123.058273</td>\n",
       "      <td>(73.83247350836697, 205.10404033403873)</td>\n",
       "    </tr>\n",
       "    <tr>\n",
       "      <th>2</th>\n",
       "      <td>0.408346</td>\n",
       "      <td>56.740349</td>\n",
       "      <td>(25.486302670224685, 126.32146842445916)</td>\n",
       "    </tr>\n",
       "    <tr>\n",
       "      <th>3</th>\n",
       "      <td>0.234675</td>\n",
       "      <td>107.306261</td>\n",
       "      <td>(67.74382628170208, 169.97318179350103)</td>\n",
       "    </tr>\n",
       "    <tr>\n",
       "      <th>4</th>\n",
       "      <td>0.330448</td>\n",
       "      <td>84.836854</td>\n",
       "      <td>(44.392176379062086, 162.12973513010948)</td>\n",
       "    </tr>\n",
       "    <tr>\n",
       "      <th>...</th>\n",
       "      <td>...</td>\n",
       "      <td>...</td>\n",
       "      <td>...</td>\n",
       "    </tr>\n",
       "    <tr>\n",
       "      <th>5995</th>\n",
       "      <td>0.338832</td>\n",
       "      <td>55.881411</td>\n",
       "      <td>(28.76425433781782, 108.56294117130143)</td>\n",
       "    </tr>\n",
       "    <tr>\n",
       "      <th>5996</th>\n",
       "      <td>0.327237</td>\n",
       "      <td>75.126496</td>\n",
       "      <td>(39.55930472505586, 142.671626377914)</td>\n",
       "    </tr>\n",
       "    <tr>\n",
       "      <th>5997</th>\n",
       "      <td>0.394121</td>\n",
       "      <td>48.546872</td>\n",
       "      <td>(22.42255262058418, 105.10840472823831)</td>\n",
       "    </tr>\n",
       "    <tr>\n",
       "      <th>5998</th>\n",
       "      <td>0.292796</td>\n",
       "      <td>71.703699</td>\n",
       "      <td>(40.39363320034354, 127.28294235657191)</td>\n",
       "    </tr>\n",
       "    <tr>\n",
       "      <th>5999</th>\n",
       "      <td>0.261597</td>\n",
       "      <td>82.587356</td>\n",
       "      <td>(49.45854945646476, 137.90682032701915)</td>\n",
       "    </tr>\n",
       "  </tbody>\n",
       "</table>\n",
       "<p>6000 rows × 3 columns</p>\n",
       "</div>"
      ],
      "text/plain": [
       "             s       scale                                  interval\n",
       "0     0.390934   44.356750   (20.615620568217647, 95.43837093908799)\n",
       "1     0.260647  123.058273   (73.83247350836697, 205.10404033403873)\n",
       "2     0.408346   56.740349  (25.486302670224685, 126.32146842445916)\n",
       "3     0.234675  107.306261   (67.74382628170208, 169.97318179350103)\n",
       "4     0.330448   84.836854  (44.392176379062086, 162.12973513010948)\n",
       "...        ...         ...                                       ...\n",
       "5995  0.338832   55.881411   (28.76425433781782, 108.56294117130143)\n",
       "5996  0.327237   75.126496     (39.55930472505586, 142.671626377914)\n",
       "5997  0.394121   48.546872   (22.42255262058418, 105.10840472823831)\n",
       "5998  0.292796   71.703699   (40.39363320034354, 127.28294235657191)\n",
       "5999  0.261597   82.587356   (49.45854945646476, 137.90682032701915)\n",
       "\n",
       "[6000 rows x 3 columns]"
      ]
     },
     "execution_count": 145,
     "metadata": {},
     "output_type": "execute_result"
    }
   ],
   "source": [
    "predictions"
   ]
  },
  {
   "cell_type": "markdown",
   "metadata": {},
   "source": [
    "Note that the interval is pretty large in some cases, which says that We need more data and more features to accomplish the task completely"
   ]
  },
  {
   "cell_type": "markdown",
   "metadata": {},
   "source": [
    "NGBoost performed worse than `Random Forest Regressor` and `Linear Regression` comparing `MAPE`. When It comes `Overestimation Rate`, NGBoost is the best model. Because the differente in MAPE is not so large between models and Overestimation Rate can impact a lot in User Journey/Experience, We will choose NGBoost. Besides, NGBoost is able to give distributions instead of point estimates, so We'll be able to estimate confidence intervals, that may be more suitable in delivery applications."
   ]
  },
  {
   "cell_type": "markdown",
   "metadata": {},
   "source": [
    "# 2) Evaluation"
   ]
  },
  {
   "cell_type": "markdown",
   "metadata": {},
   "source": [
    "### 2.1) Learning Curve"
   ]
  },
  {
   "cell_type": "code",
   "execution_count": 147,
   "metadata": {},
   "outputs": [
    {
     "name": "stdout",
     "output_type": "stream",
     "text": [
      "[iter 0] loss=4.8250 val_loss=0.0000 scale=512.0000 norm=316.1187\n",
      "== Quitting at iteration / GRAD 0\n",
      "[iter 0] loss=4.8493 val_loss=0.0000 scale=1.0000 norm=0.6324\n",
      "[iter 100] loss=4.7143 val_loss=0.0000 scale=2.0000 norm=1.1536\n",
      "[iter 200] loss=4.6614 val_loss=0.0000 scale=1.0000 norm=0.5800\n",
      "[iter 300] loss=4.6381 val_loss=0.0000 scale=2.0000 norm=1.1670\n",
      "[iter 400] loss=4.6246 val_loss=0.0000 scale=2.0000 norm=1.1710\n",
      "[iter 0] loss=4.8654 val_loss=0.0000 scale=1.0000 norm=0.6309\n",
      "[iter 100] loss=4.6833 val_loss=0.0000 scale=1.0000 norm=0.5537\n",
      "[iter 200] loss=4.6179 val_loss=0.0000 scale=1.0000 norm=0.5533\n",
      "[iter 300] loss=4.5859 val_loss=0.0000 scale=1.0000 norm=0.5620\n",
      "[iter 400] loss=4.5711 val_loss=0.0000 scale=1.0000 norm=0.5693\n",
      "[iter 0] loss=4.8773 val_loss=0.0000 scale=1.0000 norm=0.6323\n",
      "[iter 100] loss=4.6774 val_loss=0.0000 scale=1.0000 norm=0.5478\n",
      "[iter 200] loss=4.5970 val_loss=0.0000 scale=2.0000 norm=1.1042\n",
      "[iter 300] loss=4.5677 val_loss=0.0000 scale=1.0000 norm=0.5653\n",
      "[iter 400] loss=4.5568 val_loss=0.0000 scale=1.0000 norm=0.5719\n",
      "[iter 0] loss=4.8731 val_loss=0.0000 scale=1.0000 norm=0.6300\n",
      "[iter 100] loss=4.6717 val_loss=0.0000 scale=1.0000 norm=0.5447\n",
      "[iter 200] loss=4.5897 val_loss=0.0000 scale=1.0000 norm=0.5485\n",
      "[iter 300] loss=4.5594 val_loss=0.0000 scale=1.0000 norm=0.5618\n",
      "[iter 400] loss=4.5485 val_loss=0.0000 scale=1.0000 norm=0.5678\n",
      "[iter 0] loss=4.8487 val_loss=0.0000 scale=256.0000 norm=158.0449\n",
      "== Quitting at iteration / GRAD 0\n",
      "[iter 0] loss=4.8581 val_loss=0.0000 scale=1.0000 norm=0.6313\n",
      "[iter 100] loss=4.7178 val_loss=0.0000 scale=1.0000 norm=0.5740\n",
      "[iter 200] loss=4.6691 val_loss=0.0000 scale=2.0000 norm=1.1546\n",
      "[iter 300] loss=4.6464 val_loss=0.0000 scale=1.0000 norm=0.5801\n",
      "[iter 400] loss=4.6333 val_loss=0.0000 scale=1.0000 norm=0.5818\n",
      "[iter 0] loss=4.8705 val_loss=0.0000 scale=1.0000 norm=0.6303\n",
      "[iter 100] loss=4.6919 val_loss=0.0000 scale=1.0000 norm=0.5519\n",
      "[iter 200] loss=4.6221 val_loss=0.0000 scale=1.0000 norm=0.5498\n",
      "[iter 300] loss=4.5895 val_loss=0.0000 scale=1.0000 norm=0.5585\n",
      "[iter 400] loss=4.5751 val_loss=0.0000 scale=2.0000 norm=1.1300\n",
      "[iter 0] loss=4.8809 val_loss=0.0000 scale=1.0000 norm=0.6319\n",
      "[iter 100] loss=4.6822 val_loss=0.0000 scale=1.0000 norm=0.5467\n",
      "[iter 200] loss=4.6016 val_loss=0.0000 scale=2.0000 norm=1.1023\n",
      "[iter 300] loss=4.5730 val_loss=0.0000 scale=1.0000 norm=0.5637\n",
      "[iter 400] loss=4.5623 val_loss=0.0000 scale=1.0000 norm=0.5702\n",
      "[iter 0] loss=4.8759 val_loss=0.0000 scale=1.0000 norm=0.6297\n",
      "[iter 100] loss=4.6766 val_loss=0.0000 scale=1.0000 norm=0.5445\n",
      "[iter 200] loss=4.5975 val_loss=0.0000 scale=1.0000 norm=0.5475\n",
      "[iter 300] loss=4.5662 val_loss=0.0000 scale=1.0000 norm=0.5597\n",
      "[iter 400] loss=4.5549 val_loss=0.0000 scale=2.0000 norm=1.1334\n",
      "[iter 0] loss=4.8487 val_loss=0.0000 scale=256.0000 norm=158.0449\n",
      "== Quitting at iteration / GRAD 0\n",
      "[iter 0] loss=4.8313 val_loss=0.0000 scale=1.0000 norm=0.6213\n",
      "[iter 100] loss=4.6947 val_loss=0.0000 scale=1.0000 norm=0.5642\n",
      "[iter 200] loss=4.6390 val_loss=0.0000 scale=2.0000 norm=1.1342\n",
      "[iter 300] loss=4.6116 val_loss=0.0000 scale=2.0000 norm=1.1451\n",
      "[iter 400] loss=4.5965 val_loss=0.0000 scale=1.0000 norm=0.5758\n",
      "[iter 0] loss=4.8551 val_loss=0.0000 scale=1.0000 norm=0.6246\n",
      "[iter 100] loss=4.6730 val_loss=0.0000 scale=1.0000 norm=0.5452\n",
      "[iter 200] loss=4.6034 val_loss=0.0000 scale=1.0000 norm=0.5446\n",
      "[iter 300] loss=4.5730 val_loss=0.0000 scale=1.0000 norm=0.5538\n",
      "[iter 400] loss=4.5574 val_loss=0.0000 scale=1.0000 norm=0.5608\n",
      "[iter 0] loss=4.8703 val_loss=0.0000 scale=1.0000 norm=0.6280\n",
      "[iter 100] loss=4.6688 val_loss=0.0000 scale=1.0000 norm=0.5425\n",
      "[iter 200] loss=4.5817 val_loss=0.0000 scale=2.0000 norm=1.0988\n",
      "[iter 300] loss=4.5565 val_loss=0.0000 scale=1.0000 norm=0.5619\n",
      "[iter 400] loss=4.5466 val_loss=0.0000 scale=1.0000 norm=0.5679\n",
      "[iter 0] loss=4.8676 val_loss=0.0000 scale=1.0000 norm=0.6267\n",
      "[iter 100] loss=4.6655 val_loss=0.0000 scale=1.0000 norm=0.5406\n",
      "[iter 200] loss=4.5803 val_loss=0.0000 scale=1.0000 norm=0.5465\n",
      "[iter 300] loss=4.5531 val_loss=0.0000 scale=1.0000 norm=0.5593\n",
      "[iter 400] loss=4.5430 val_loss=0.0000 scale=2.0000 norm=1.1300\n",
      "[iter 0] loss=4.8487 val_loss=0.0000 scale=256.0000 norm=158.0449\n",
      "== Quitting at iteration / GRAD 0\n",
      "[iter 0] loss=4.8520 val_loss=0.0000 scale=1.0000 norm=0.6260\n",
      "[iter 100] loss=4.7158 val_loss=0.0000 scale=1.0000 norm=0.5663\n",
      "[iter 200] loss=4.6586 val_loss=0.0000 scale=2.0000 norm=1.1332\n",
      "[iter 300] loss=4.6336 val_loss=0.0000 scale=2.0000 norm=1.1435\n",
      "[iter 400] loss=4.6197 val_loss=0.0000 scale=1.0000 norm=0.5746\n",
      "[iter 0] loss=4.8702 val_loss=0.0000 scale=1.0000 norm=0.6279\n",
      "[iter 100] loss=4.6878 val_loss=0.0000 scale=1.0000 norm=0.5474\n",
      "[iter 200] loss=4.6192 val_loss=0.0000 scale=1.0000 norm=0.5470\n",
      "[iter 300] loss=4.5892 val_loss=0.0000 scale=1.0000 norm=0.5562\n",
      "[iter 400] loss=4.5741 val_loss=0.0000 scale=1.0000 norm=0.5628\n",
      "[iter 0] loss=4.8807 val_loss=0.0000 scale=1.0000 norm=0.6302\n",
      "[iter 100] loss=4.6793 val_loss=0.0000 scale=1.0000 norm=0.5435\n",
      "[iter 200] loss=4.5995 val_loss=0.0000 scale=1.0000 norm=0.5487\n",
      "[iter 300] loss=4.5715 val_loss=0.0000 scale=2.0000 norm=1.1215\n",
      "[iter 400] loss=4.5604 val_loss=0.0000 scale=1.0000 norm=0.5678\n",
      "[iter 0] loss=4.8758 val_loss=0.0000 scale=1.0000 norm=0.6284\n",
      "[iter 100] loss=4.6740 val_loss=0.0000 scale=1.0000 norm=0.5415\n",
      "[iter 200] loss=4.5920 val_loss=0.0000 scale=1.0000 norm=0.5462\n",
      "[iter 300] loss=4.5625 val_loss=0.0000 scale=1.0000 norm=0.5597\n",
      "[iter 400] loss=4.5513 val_loss=0.0000 scale=1.0000 norm=0.5658\n",
      "[iter 0] loss=4.8487 val_loss=0.0000 scale=256.0000 norm=158.0449\n",
      "== Quitting at iteration / GRAD 0\n",
      "[iter 0] loss=4.8520 val_loss=0.0000 scale=1.0000 norm=0.6260\n",
      "[iter 100] loss=4.7158 val_loss=0.0000 scale=1.0000 norm=0.5663\n",
      "[iter 200] loss=4.6586 val_loss=0.0000 scale=2.0000 norm=1.1332\n",
      "[iter 300] loss=4.6336 val_loss=0.0000 scale=2.0000 norm=1.1435\n",
      "[iter 400] loss=4.6197 val_loss=0.0000 scale=1.0000 norm=0.5746\n",
      "[iter 0] loss=4.8571 val_loss=0.0000 scale=1.0000 norm=0.6268\n",
      "[iter 100] loss=4.6828 val_loss=0.0000 scale=1.0000 norm=0.5507\n",
      "[iter 200] loss=4.6116 val_loss=0.0000 scale=1.0000 norm=0.5496\n",
      "[iter 300] loss=4.5788 val_loss=0.0000 scale=2.0000 norm=1.1158\n",
      "[iter 400] loss=4.5643 val_loss=0.0000 scale=2.0000 norm=1.1288\n",
      "[iter 0] loss=4.8717 val_loss=0.0000 scale=1.0000 norm=0.6295\n",
      "[iter 100] loss=4.6748 val_loss=0.0000 scale=1.0000 norm=0.5453\n",
      "[iter 200] loss=4.5922 val_loss=0.0000 scale=1.0000 norm=0.5506\n",
      "[iter 300] loss=4.5634 val_loss=0.0000 scale=2.0000 norm=1.1268\n",
      "[iter 400] loss=4.5521 val_loss=0.0000 scale=1.0000 norm=0.5696\n",
      "[iter 0] loss=4.8687 val_loss=0.0000 scale=1.0000 norm=0.6278\n",
      "[iter 100] loss=4.6704 val_loss=0.0000 scale=1.0000 norm=0.5433\n",
      "[iter 200] loss=4.5780 val_loss=0.0000 scale=2.0000 norm=1.1001\n",
      "[iter 300] loss=4.5546 val_loss=0.0000 scale=1.0000 norm=0.5625\n",
      "[iter 400] loss=4.5457 val_loss=0.0000 scale=2.0000 norm=1.1330\n",
      "[iter 0] loss=4.8487 val_loss=0.0000 scale=256.0000 norm=158.0449\n",
      "== Quitting at iteration / GRAD 0\n",
      "[iter 0] loss=4.8520 val_loss=0.0000 scale=1.0000 norm=0.6260\n",
      "[iter 100] loss=4.7158 val_loss=0.0000 scale=1.0000 norm=0.5663\n",
      "[iter 200] loss=4.6586 val_loss=0.0000 scale=2.0000 norm=1.1332\n",
      "[iter 300] loss=4.6336 val_loss=0.0000 scale=2.0000 norm=1.1435\n",
      "[iter 400] loss=4.6197 val_loss=0.0000 scale=1.0000 norm=0.5746\n",
      "[iter 0] loss=4.8519 val_loss=0.0000 scale=1.0000 norm=0.6292\n",
      "[iter 100] loss=4.6737 val_loss=0.0000 scale=2.0000 norm=1.1071\n",
      "[iter 200] loss=4.6007 val_loss=0.0000 scale=1.0000 norm=0.5536\n",
      "[iter 300] loss=4.5703 val_loss=0.0000 scale=1.0000 norm=0.5635\n",
      "[iter 400] loss=4.5568 val_loss=0.0000 scale=1.0000 norm=0.5693\n",
      "[iter 0] loss=4.8680 val_loss=0.0000 scale=1.0000 norm=0.6312\n",
      "[iter 100] loss=4.6709 val_loss=0.0000 scale=1.0000 norm=0.5484\n",
      "[iter 200] loss=4.5896 val_loss=0.0000 scale=1.0000 norm=0.5536\n",
      "[iter 300] loss=4.5616 val_loss=0.0000 scale=1.0000 norm=0.5657\n",
      "[iter 400] loss=4.5516 val_loss=0.0000 scale=1.0000 norm=0.5724\n",
      "[iter 0] loss=4.8659 val_loss=0.0000 scale=1.0000 norm=0.6291\n",
      "[iter 100] loss=4.6670 val_loss=0.0000 scale=1.0000 norm=0.5453\n",
      "[iter 200] loss=4.5766 val_loss=0.0000 scale=1.0000 norm=0.5520\n",
      "[iter 300] loss=4.5524 val_loss=0.0000 scale=2.0000 norm=1.1295\n",
      "[iter 400] loss=4.5433 val_loss=0.0000 scale=1.0000 norm=0.5694\n",
      "[iter 0] loss=4.8487 val_loss=0.0000 scale=256.0000 norm=158.0449\n",
      "== Quitting at iteration / GRAD 0\n",
      "[iter 0] loss=4.8520 val_loss=0.0000 scale=1.0000 norm=0.6260\n",
      "[iter 100] loss=4.7158 val_loss=0.0000 scale=1.0000 norm=0.5663\n",
      "[iter 200] loss=4.6586 val_loss=0.0000 scale=2.0000 norm=1.1332\n",
      "[iter 300] loss=4.6336 val_loss=0.0000 scale=2.0000 norm=1.1435\n",
      "[iter 400] loss=4.6197 val_loss=0.0000 scale=1.0000 norm=0.5746\n",
      "[iter 0] loss=4.8519 val_loss=0.0000 scale=1.0000 norm=0.6292\n",
      "[iter 100] loss=4.6737 val_loss=0.0000 scale=2.0000 norm=1.1071\n",
      "[iter 200] loss=4.6007 val_loss=0.0000 scale=1.0000 norm=0.5536\n",
      "[iter 300] loss=4.5703 val_loss=0.0000 scale=1.0000 norm=0.5635\n",
      "[iter 400] loss=4.5568 val_loss=0.0000 scale=1.0000 norm=0.5693\n",
      "[iter 0] loss=4.8725 val_loss=0.0000 scale=1.0000 norm=0.6303\n",
      "[iter 100] loss=4.6697 val_loss=0.0000 scale=1.0000 norm=0.5433\n",
      "[iter 200] loss=4.5880 val_loss=0.0000 scale=1.0000 norm=0.5482\n",
      "[iter 300] loss=4.5594 val_loss=0.0000 scale=2.0000 norm=1.1244\n",
      "[iter 400] loss=4.5490 val_loss=0.0000 scale=1.0000 norm=0.5691\n",
      "[iter 0] loss=4.8693 val_loss=0.0000 scale=1.0000 norm=0.6284\n",
      "[iter 100] loss=4.6671 val_loss=0.0000 scale=1.0000 norm=0.5420\n",
      "[iter 200] loss=4.5791 val_loss=0.0000 scale=1.0000 norm=0.5479\n",
      "[iter 300] loss=4.5530 val_loss=0.0000 scale=2.0000 norm=1.1217\n",
      "[iter 400] loss=4.5430 val_loss=0.0000 scale=1.0000 norm=0.5662\n",
      "[iter 0] loss=4.8487 val_loss=0.0000 scale=256.0000 norm=158.0449\n",
      "== Quitting at iteration / GRAD 0\n",
      "[iter 0] loss=4.8520 val_loss=0.0000 scale=1.0000 norm=0.6260\n",
      "[iter 100] loss=4.7158 val_loss=0.0000 scale=1.0000 norm=0.5663\n",
      "[iter 200] loss=4.6586 val_loss=0.0000 scale=2.0000 norm=1.1332\n",
      "[iter 300] loss=4.6336 val_loss=0.0000 scale=2.0000 norm=1.1435\n",
      "[iter 400] loss=4.6197 val_loss=0.0000 scale=1.0000 norm=0.5746\n",
      "[iter 0] loss=4.8519 val_loss=0.0000 scale=1.0000 norm=0.6292\n",
      "[iter 100] loss=4.6737 val_loss=0.0000 scale=2.0000 norm=1.1071\n",
      "[iter 200] loss=4.6007 val_loss=0.0000 scale=1.0000 norm=0.5536\n",
      "[iter 300] loss=4.5703 val_loss=0.0000 scale=1.0000 norm=0.5635\n",
      "[iter 400] loss=4.5568 val_loss=0.0000 scale=1.0000 norm=0.5693\n",
      "[iter 0] loss=4.8643 val_loss=0.0000 scale=1.0000 norm=0.6286\n",
      "[iter 100] loss=4.6657 val_loss=0.0000 scale=1.0000 norm=0.5440\n",
      "[iter 200] loss=4.5908 val_loss=0.0000 scale=1.0000 norm=0.5479\n",
      "[iter 300] loss=4.5598 val_loss=0.0000 scale=1.0000 norm=0.5613\n",
      "[iter 400] loss=4.5488 val_loss=0.0000 scale=2.0000 norm=1.1365\n",
      "[iter 0] loss=4.8630 val_loss=0.0000 scale=1.0000 norm=0.6269\n",
      "[iter 100] loss=4.6619 val_loss=0.0000 scale=1.0000 norm=0.5415\n",
      "[iter 200] loss=4.5800 val_loss=0.0000 scale=1.0000 norm=0.5473\n",
      "[iter 300] loss=4.5527 val_loss=0.0000 scale=1.0000 norm=0.5603\n",
      "[iter 400] loss=4.5427 val_loss=0.0000 scale=1.0000 norm=0.5664\n",
      "[iter 0] loss=4.8487 val_loss=0.0000 scale=256.0000 norm=158.0449\n",
      "== Quitting at iteration / GRAD 0\n",
      "[iter 0] loss=4.8520 val_loss=0.0000 scale=1.0000 norm=0.6260\n",
      "[iter 100] loss=4.7158 val_loss=0.0000 scale=1.0000 norm=0.5663\n",
      "[iter 200] loss=4.6586 val_loss=0.0000 scale=2.0000 norm=1.1332\n",
      "[iter 300] loss=4.6336 val_loss=0.0000 scale=2.0000 norm=1.1435\n",
      "[iter 400] loss=4.6197 val_loss=0.0000 scale=1.0000 norm=0.5746\n",
      "[iter 0] loss=4.8519 val_loss=0.0000 scale=1.0000 norm=0.6292\n",
      "[iter 100] loss=4.6737 val_loss=0.0000 scale=2.0000 norm=1.1071\n",
      "[iter 200] loss=4.6007 val_loss=0.0000 scale=1.0000 norm=0.5536\n",
      "[iter 300] loss=4.5703 val_loss=0.0000 scale=1.0000 norm=0.5635\n",
      "[iter 400] loss=4.5568 val_loss=0.0000 scale=1.0000 norm=0.5693\n",
      "[iter 0] loss=4.8643 val_loss=0.0000 scale=1.0000 norm=0.6286\n",
      "[iter 100] loss=4.6657 val_loss=0.0000 scale=1.0000 norm=0.5440\n",
      "[iter 200] loss=4.5908 val_loss=0.0000 scale=1.0000 norm=0.5479\n",
      "[iter 300] loss=4.5598 val_loss=0.0000 scale=1.0000 norm=0.5613\n",
      "[iter 400] loss=4.5488 val_loss=0.0000 scale=2.0000 norm=1.1365\n",
      "[iter 0] loss=4.8729 val_loss=0.0000 scale=1.0000 norm=0.6300\n",
      "[iter 100] loss=4.6731 val_loss=0.0000 scale=1.0000 norm=0.5448\n",
      "[iter 200] loss=4.5912 val_loss=0.0000 scale=1.0000 norm=0.5491\n",
      "[iter 300] loss=4.5603 val_loss=0.0000 scale=1.0000 norm=0.5629\n",
      "[iter 400] loss=4.5500 val_loss=0.0000 scale=1.0000 norm=0.5687\n",
      "[iter 0] loss=4.8487 val_loss=0.0000 scale=256.0000 norm=158.0449\n",
      "== Quitting at iteration / GRAD 0\n",
      "[iter 0] loss=4.8520 val_loss=0.0000 scale=1.0000 norm=0.6260\n",
      "[iter 100] loss=4.7158 val_loss=0.0000 scale=1.0000 norm=0.5663\n",
      "[iter 200] loss=4.6586 val_loss=0.0000 scale=2.0000 norm=1.1332\n",
      "[iter 300] loss=4.6336 val_loss=0.0000 scale=2.0000 norm=1.1435\n",
      "[iter 400] loss=4.6197 val_loss=0.0000 scale=1.0000 norm=0.5746\n",
      "[iter 0] loss=4.8519 val_loss=0.0000 scale=1.0000 norm=0.6292\n",
      "[iter 100] loss=4.6737 val_loss=0.0000 scale=2.0000 norm=1.1071\n",
      "[iter 200] loss=4.6007 val_loss=0.0000 scale=1.0000 norm=0.5536\n",
      "[iter 300] loss=4.5703 val_loss=0.0000 scale=1.0000 norm=0.5635\n",
      "[iter 400] loss=4.5568 val_loss=0.0000 scale=1.0000 norm=0.5693\n",
      "[iter 0] loss=4.8643 val_loss=0.0000 scale=1.0000 norm=0.6286\n",
      "[iter 100] loss=4.6657 val_loss=0.0000 scale=1.0000 norm=0.5440\n",
      "[iter 200] loss=4.5908 val_loss=0.0000 scale=1.0000 norm=0.5479\n",
      "[iter 300] loss=4.5598 val_loss=0.0000 scale=1.0000 norm=0.5613\n",
      "[iter 400] loss=4.5488 val_loss=0.0000 scale=2.0000 norm=1.1365\n",
      "[iter 0] loss=4.8700 val_loss=0.0000 scale=1.0000 norm=0.6287\n",
      "[iter 100] loss=4.6660 val_loss=0.0000 scale=1.0000 norm=0.5418\n",
      "[iter 200] loss=4.5834 val_loss=0.0000 scale=1.0000 norm=0.5462\n",
      "[iter 300] loss=4.5540 val_loss=0.0000 scale=2.0000 norm=1.1190\n",
      "[iter 400] loss=4.5436 val_loss=0.0000 scale=1.0000 norm=0.5659\n"
     ]
    },
    {
     "data": {
      "image/png": "[encoded data removed]",
      "text/plain": [
       "<Figure size 432x288 with 1 Axes>"
      ]
     },
     "metadata": {
      "needs_background": "light"
     },
     "output_type": "display_data"
    }
   ],
   "source": [
    "plot_learning_curve(model_nb, X_train, y_train, 10, scoring='neg_mean_squared_error')"
   ]
  },
  {
   "cell_type": "markdown",
   "metadata": {},
   "source": [
    "From the Learning Cruve, It seems that validation error and Training error did not reache the minimum error yet, which means more data would be useful in this case. Furthermore, maybe more features help to improve performance as well.\n",
    "If this model was going to be put into production, We would have to wait to get more data in order to start the retraining system."
   ]
  },
  {
   "cell_type": "markdown",
   "metadata": {},
   "source": [
    "### 2.2) Permutation Importance"
   ]
  },
  {
   "cell_type": "code",
   "execution_count": 229,
   "metadata": {},
   "outputs": [],
   "source": [
    "# Just saving name of features after transformers\n",
    "one_hot_names = model_nb.steps[0][1].transformers_[0][1][1].get_feature_names_out().tolist()\n",
    "median_names = model_nb.steps[0][1].transformers_[1][1][0].feature_names_in_.tolist()\n",
    "zero_names = model_nb.steps[0][1].transformers_[2][1][0].feature_names_in_.tolist()\n",
    "columns_after_transformation = one_hot_names+median_names+zero_names"
   ]
  },
  {
   "cell_type": "code",
   "execution_count": 252,
   "metadata": {},
   "outputs": [
    {
     "data": {
      "image/png": "[encoded data removed]",
      "text/plain": [
       "<Figure size 720x720 with 1 Axes>"
      ]
     },
     "metadata": {
      "needs_background": "light"
     },
     "output_type": "display_data"
    }
   ],
   "source": [
    "plot_permutation_importance(model_nb, X=X_train, y=y_train, columns=all_columns, n_repeats=5, scoring='neg_mean_squared_error', n_best=10)"
   ]
  },
  {
   "cell_type": "markdown",
   "metadata": {},
   "source": [
    "Above We can see the ranking of best features. Top 3 are: `n_distinct_items`, `on_demand` and `found_rate`. But `n_distinct_items` is the most important with clearence."
   ]
  },
  {
   "cell_type": "markdown",
   "metadata": {},
   "source": [
    "# 3) Test and Submission"
   ]
  },
  {
   "cell_type": "markdown",
   "metadata": {},
   "source": [
    "## 3.1) Test Set"
   ]
  },
  {
   "cell_type": "code",
   "execution_count": 282,
   "metadata": {},
   "outputs": [],
   "source": [
    "# feature engineering submission\n",
    "df_submission = pipe_feature_engineering.transform(df_submission)\n",
    "# Selecting only used features\n",
    "X_submission = df_submission[all_columns]\n",
    "# getting point estimates for total_miutes\n",
    "y_predictions_submission = model_nb.predict(X_submission)"
   ]
  },
  {
   "cell_type": "code",
   "execution_count": 289,
   "metadata": {},
   "outputs": [],
   "source": [
    "# Data frame with order_id and estimates\n",
    "df_submission_predictions = pd.DataFrame({'order_id':df_submission['order_id'], 'total_minutes':y_predictions_submission})\n",
    "# Getting confidence interval for total_minutes (95%)\n",
    "df_predictions_with_interval = get_intervals(model=model_nb, X=X_submission, confidence=0.95)\n",
    "# lower bound\n",
    "df_submission_predictions['total_minutes_lower_bound'] = df_predictions_with_interval['interval'].apply(lambda x: x[0])\n",
    "# upper bound\n",
    "df_submission_predictions['total_minutes_upper_bound'] = df_predictions_with_interval['interval'].apply(lambda x: x[])"
   ]
  },
  {
   "cell_type": "code",
   "execution_count": 298,
   "metadata": {},
   "outputs": [],
   "source": []
  },
  {
   "cell_type": "markdown",
   "metadata": {},
   "source": [
    "# Next Steps/ Recommendations"
   ]
  }
 ],
 "metadata": {
  "interpreter": {
   "hash": "a6f7b07b20f4cf172f035b867796e18e995318450c83b6d17ec9b748e82eefe6"
  },
  "kernelspec": {
   "display_name": "Python 3.8.10 64-bit ('case_cornershop_env': venv)",
   "language": "python",
   "name": "python3"
  },
  "language_info": {
   "codemirror_mode": {
    "name": "ipython",
    "version": 3
   },
   "file_extension": ".py",
   "mimetype": "text/x-python",
   "name": "python",
   "nbconvert_exporter": "python",
   "pygments_lexer": "ipython3",
   "version": "3.9.6"
  },
  "orig_nbformat": 4
 },
 "nbformat": 4,
 "nbformat_minor": 2
}
