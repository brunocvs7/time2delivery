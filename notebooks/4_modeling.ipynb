{
 "cells": [
  {
   "cell_type": "markdown",
   "metadata": {},
   "source": [
    "# Modeling"
   ]
  },
  {
   "cell_type": "code",
   "execution_count": 60,
   "metadata": {},
   "outputs": [],
   "source": [
    "#Libs\n",
    "import os\n",
    "import warnings\n",
    "\n",
    "import seaborn as sns\n",
    "import pandas as pd\n",
    "import numpy as np\n",
    "import optuna\n",
    "from optuna.samplers import TPESampler\n",
    "import matplotlib.pyplot as plt\n",
    "from sklearn.model_selection import KFold\n",
    "from sklearn.linear_model import LinearRegression, QuantileRegressor\n",
    "from sklearn.ensemble import RandomForestRegressor\n",
    "from sklearn.impute import SimpleImputer\n",
    "from sklearn.pipeline import Pipeline\n",
    "from sklearn.compose import ColumnTransformer, TransformedTargetRegressor\n",
    "from sklearn.metrics import mean_absolute_percentage_error, mean_absolute_error\n",
    "from utils.features.build import build_distance, build_hour_group\n",
    "from sklearn.preprocessing import OneHotEncoder, FunctionTransformer\n",
    "from sklearn.tree import DecisionTreeRegressor\n",
    "from ngboost import NGBRegressor\n",
    "\n",
    "from sklearn.model_selection import cross_validate, cross_val_score\n",
    "from dotenv import load_dotenv, find_dotenv\n",
    "warnings.filterwarnings('ignore')"
   ]
  },
  {
   "cell_type": "code",
   "execution_count": 2,
   "metadata": {},
   "outputs": [],
   "source": [
    "# Env variables and data\n",
    "load_dotenv(find_dotenv())\n",
    "DATA_INPUT_PATH = os.getenv('DATA_PROCESSED_PATH')\n",
    "DATA_TRAIN_NAME = 'train_best_features'\n",
    "DATA_TEST_NAME = 'test'\n",
    "# Data\n",
    "df_orders_train = pd.read_parquet(os.path.join(DATA_INPUT_PATH, DATA_TRAIN_NAME))\n",
    "df_orders_test = pd.read_parquet(os.path.join(DATA_INPUT_PATH, DATA_TEST_NAME))"
   ]
  },
  {
   "cell_type": "markdown",
   "metadata": {},
   "source": [
    "# 1) Modeling"
   ]
  },
  {
   "cell_type": "markdown",
   "metadata": {},
   "source": [
    "In this step We'll try 3 approaches to solve the problem:\n",
    "- Linear Regression \n",
    "- Random Forest \n",
    "- NGBoost "
   ]
  },
  {
   "cell_type": "markdown",
   "metadata": {},
   "source": [
    "With Linear Regression We intend to created a baseline to be beaten. We'll observe performance in terms of Mean Absolute Percentage Error and Proportion of overestimated predictions. \n",
    "The former metric will be better if It approaches 0, the latter will be better if When model gets It wrong, the model overestimates instead of underestimate. We wish this property because When the model underestimate, the order will be late, and It is better to be early than late."
   ]
  },
  {
   "cell_type": "code",
   "execution_count": 3,
   "metadata": {},
   "outputs": [],
   "source": [
    "X_train = df_orders_train.drop('total_minutes', axis=1)\n",
    "y_train = df_orders_train['total_minutes']\n",
    "all_columns = X_train.columns.tolist()"
   ]
  },
  {
   "cell_type": "markdown",
   "metadata": {},
   "source": [
    "## 1.1) Preprocessing"
   ]
  },
  {
   "cell_type": "code",
   "execution_count": 4,
   "metadata": {},
   "outputs": [],
   "source": [
    "# We will have 3 imputers: Median for some numerical, Mode for categorical and 0 for some numerical\n",
    "median_impute_columns_indexes = [all_columns.index(x) for x in ['n_distinct_items', 'distance_km', 'found_rate']]\n",
    "mode_impute_columns_indexes = [all_columns.index(x) for x in ['on_demand', 'hour_group']]\n",
    "zero_impute_columns_indexes = [all_columns.index(x) for x in ['sum_kgs', 'sum_unities']]\n",
    "cat_columns = df_orders_train.select_dtypes(include=['O']).columns.tolist()\n",
    "cat_columns_indexes = [all_columns.index(x) for x in cat_columns]\n",
    "num_columns = df_orders_train.drop('total_minutes', axis=1).select_dtypes(include=['int32', 'int64', 'float32', 'float64']).columns.tolist()\n",
    "num_columns_indexes = [all_columns.index(x) for x in num_columns]\n",
    "# Feature engineering steps\n",
    "distance_transformer = FunctionTransformer(func=build_distance)\n",
    "hour_group_transformer = FunctionTransformer(func=build_hour_group)\n",
    "pipe_feature_engineering = Pipeline(steps=[('distance_transformer', distance_transformer),\n",
    "                                           ('hor_group_transformer', hour_group_transformer)])\n",
    "# Imputation Steps\n",
    "impute_transformer = ColumnTransformer(\n",
    "                     transformers=[\n",
    "                         ('impute_median', SimpleImputer(strategy='median'), \n",
    "                                                        median_impute_columns_indexes),\n",
    "                         ('impute_mode', SimpleImputer(strategy='most_frequent'),\n",
    "                                                       mode_impute_columns_indexes),\n",
    "                         ('impute_zero', SimpleImputer(strategy='constant', fill_value=0),\n",
    "                                                       zero_impute_columns_indexes)\n",
    "                                        ]\n",
    "                                            )\n",
    "# Categorical encoder step                                              \n",
    "cat_column_transformer = ColumnTransformer(\n",
    "                        transformers=[\n",
    "                            ('cat_encoder', OneHotEncoder(handle_unknown='ignore'), cat_columns_indexes)\n",
    "                        ])\n",
    "preprocessor = Pipeline(steps=[('impute_transformer', impute_transformer),\n",
    "                               ('cat_column_transformer', cat_column_transformer)\n",
    "                            ])"
   ]
  },
  {
   "cell_type": "markdown",
   "metadata": {},
   "source": [
    "## 1.2) Baseline"
   ]
  },
  {
   "cell_type": "markdown",
   "metadata": {},
   "source": [
    "Our baseline will be a Linear Regression."
   ]
  },
  {
   "cell_type": "code",
   "execution_count": 81,
   "metadata": {},
   "outputs": [],
   "source": [
    "# Pipeline with preprocessor and Model\n",
    "model_baseline = Pipeline(steps=[('preprocessor', preprocessor),\n",
    "                                  ('model', TransformedTargetRegressor(LinearRegression(), func=np.log, inverse_func=np.exp))])"
   ]
  },
  {
   "cell_type": "code",
   "execution_count": 83,
   "metadata": {},
   "outputs": [],
   "source": [
    "# Performing a 10-Fold cross validation to get an estimate for MAE and MAPE\n",
    "df_baseline_cv_metrics = pd.DataFrame(cross_validate(model_baseline,\n",
    "                                        X_train,\n",
    "                                        y_train, \n",
    "                                        scoring=['neg_mean_absolute_error', 'neg_mean_absolute_percentage_error'], \n",
    "                                        return_train_score=True, cv=10))"
   ]
  },
  {
   "cell_type": "code",
   "execution_count": 66,
   "metadata": {},
   "outputs": [
    {
     "data": {
      "image/png": "[encoded data removed]",
      "text/plain": [
       "<Figure size 720x576 with 1 Axes>"
      ]
     },
     "metadata": {
      "needs_background": "light"
     },
     "output_type": "display_data"
    }
   ],
   "source": [
    "plt.figure(figsize=(10,8))\n",
    "sns.histplot(y_train, kde=True)\n",
    "plt.show()"
   ]
  },
  {
   "cell_type": "code",
   "execution_count": 69,
   "metadata": {},
   "outputs": [
    {
     "data": {
      "image/png": "[encoded data removed]",
      "text/plain": [
       "<Figure size 720x576 with 1 Axes>"
      ]
     },
     "metadata": {
      "needs_background": "light"
     },
     "output_type": "display_data"
    }
   ],
   "source": [
    "plt.figure(figsize=(10,8))\n",
    "sns.histplot(y_test, kde=True)\n",
    "plt.show()"
   ]
  },
  {
   "cell_type": "code",
   "execution_count": 84,
   "metadata": {},
   "outputs": [
    {
     "data": {
      "text/html": [
       "<div>\n",
       "<style scoped>\n",
       "    .dataframe tbody tr th:only-of-type {\n",
       "        vertical-align: middle;\n",
       "    }\n",
       "\n",
       "    .dataframe tbody tr th {\n",
       "        vertical-align: top;\n",
       "    }\n",
       "\n",
       "    .dataframe thead th {\n",
       "        text-align: right;\n",
       "    }\n",
       "</style>\n",
       "<table border=\"1\" class=\"dataframe\">\n",
       "  <thead>\n",
       "    <tr style=\"text-align: right;\">\n",
       "      <th></th>\n",
       "      <th>fit_time</th>\n",
       "      <th>score_time</th>\n",
       "      <th>test_neg_mean_absolute_error</th>\n",
       "      <th>train_neg_mean_absolute_error</th>\n",
       "      <th>test_neg_mean_absolute_percentage_error</th>\n",
       "      <th>train_neg_mean_absolute_percentage_error</th>\n",
       "    </tr>\n",
       "  </thead>\n",
       "  <tbody>\n",
       "    <tr>\n",
       "      <th>0</th>\n",
       "      <td>0.078190</td>\n",
       "      <td>0.010877</td>\n",
       "      <td>-22.298578</td>\n",
       "      <td>-14.850839</td>\n",
       "      <td>-0.296371</td>\n",
       "      <td>-0.205631</td>\n",
       "    </tr>\n",
       "    <tr>\n",
       "      <th>1</th>\n",
       "      <td>0.085778</td>\n",
       "      <td>0.013780</td>\n",
       "      <td>-21.793821</td>\n",
       "      <td>-14.927053</td>\n",
       "      <td>-0.294790</td>\n",
       "      <td>-0.207159</td>\n",
       "    </tr>\n",
       "    <tr>\n",
       "      <th>2</th>\n",
       "      <td>0.076346</td>\n",
       "      <td>0.012079</td>\n",
       "      <td>-22.947864</td>\n",
       "      <td>-14.744083</td>\n",
       "      <td>-0.296620</td>\n",
       "      <td>-0.205095</td>\n",
       "    </tr>\n",
       "    <tr>\n",
       "      <th>3</th>\n",
       "      <td>0.082463</td>\n",
       "      <td>0.012262</td>\n",
       "      <td>-21.395776</td>\n",
       "      <td>-14.842443</td>\n",
       "      <td>-0.274832</td>\n",
       "      <td>-0.206156</td>\n",
       "    </tr>\n",
       "    <tr>\n",
       "      <th>4</th>\n",
       "      <td>0.079930</td>\n",
       "      <td>0.014280</td>\n",
       "      <td>-22.419011</td>\n",
       "      <td>-14.671469</td>\n",
       "      <td>-0.304328</td>\n",
       "      <td>-0.203613</td>\n",
       "    </tr>\n",
       "    <tr>\n",
       "      <th>5</th>\n",
       "      <td>0.078715</td>\n",
       "      <td>0.012952</td>\n",
       "      <td>-23.091627</td>\n",
       "      <td>-14.643240</td>\n",
       "      <td>-0.289114</td>\n",
       "      <td>-0.204786</td>\n",
       "    </tr>\n",
       "    <tr>\n",
       "      <th>6</th>\n",
       "      <td>0.074512</td>\n",
       "      <td>0.012152</td>\n",
       "      <td>-23.683827</td>\n",
       "      <td>-14.759716</td>\n",
       "      <td>-0.308476</td>\n",
       "      <td>-0.204777</td>\n",
       "    </tr>\n",
       "    <tr>\n",
       "      <th>7</th>\n",
       "      <td>0.091686</td>\n",
       "      <td>0.012621</td>\n",
       "      <td>-24.091017</td>\n",
       "      <td>-14.585376</td>\n",
       "      <td>-0.308755</td>\n",
       "      <td>-0.203391</td>\n",
       "    </tr>\n",
       "    <tr>\n",
       "      <th>8</th>\n",
       "      <td>0.068913</td>\n",
       "      <td>0.011463</td>\n",
       "      <td>-22.215608</td>\n",
       "      <td>-14.884993</td>\n",
       "      <td>-0.296985</td>\n",
       "      <td>-0.207018</td>\n",
       "    </tr>\n",
       "    <tr>\n",
       "      <th>9</th>\n",
       "      <td>0.067342</td>\n",
       "      <td>0.010472</td>\n",
       "      <td>-24.239828</td>\n",
       "      <td>-14.543474</td>\n",
       "      <td>-0.312024</td>\n",
       "      <td>-0.202956</td>\n",
       "    </tr>\n",
       "  </tbody>\n",
       "</table>\n",
       "</div>"
      ],
      "text/plain": [
       "   fit_time  score_time  test_neg_mean_absolute_error  \\\n",
       "0  0.078190    0.010877                    -22.298578   \n",
       "1  0.085778    0.013780                    -21.793821   \n",
       "2  0.076346    0.012079                    -22.947864   \n",
       "3  0.082463    0.012262                    -21.395776   \n",
       "4  0.079930    0.014280                    -22.419011   \n",
       "5  0.078715    0.012952                    -23.091627   \n",
       "6  0.074512    0.012152                    -23.683827   \n",
       "7  0.091686    0.012621                    -24.091017   \n",
       "8  0.068913    0.011463                    -22.215608   \n",
       "9  0.067342    0.010472                    -24.239828   \n",
       "\n",
       "   train_neg_mean_absolute_error  test_neg_mean_absolute_percentage_error  \\\n",
       "0                     -14.850839                                -0.296371   \n",
       "1                     -14.927053                                -0.294790   \n",
       "2                     -14.744083                                -0.296620   \n",
       "3                     -14.842443                                -0.274832   \n",
       "4                     -14.671469                                -0.304328   \n",
       "5                     -14.643240                                -0.289114   \n",
       "6                     -14.759716                                -0.308476   \n",
       "7                     -14.585376                                -0.308755   \n",
       "8                     -14.884993                                -0.296985   \n",
       "9                     -14.543474                                -0.312024   \n",
       "\n",
       "   train_neg_mean_absolute_percentage_error  \n",
       "0                                 -0.205631  \n",
       "1                                 -0.207159  \n",
       "2                                 -0.205095  \n",
       "3                                 -0.206156  \n",
       "4                                 -0.203613  \n",
       "5                                 -0.204786  \n",
       "6                                 -0.204777  \n",
       "7                                 -0.203391  \n",
       "8                                 -0.207018  \n",
       "9                                 -0.202956  "
      ]
     },
     "execution_count": 84,
     "metadata": {},
     "output_type": "execute_result"
    }
   ],
   "source": [
    "df_baseline_cv_metrics"
   ]
  },
  {
   "cell_type": "code",
   "execution_count": 89,
   "metadata": {},
   "outputs": [
    {
     "data": {
      "text/plain": [
       "Pipeline(steps=[('preprocessor',\n",
       "                 Pipeline(steps=[('impute_transformer',\n",
       "                                  ColumnTransformer(transformers=[('impute_median',\n",
       "                                                                   SimpleImputer(strategy='median'),\n",
       "                                                                   [4, 6, 1]),\n",
       "                                                                  ('impute_mode',\n",
       "                                                                   SimpleImputer(strategy='most_frequent'),\n",
       "                                                                   [0, 5]),\n",
       "                                                                  ('impute_zero',\n",
       "                                                                   SimpleImputer(fill_value=0,\n",
       "                                                                                 strategy='constant'),\n",
       "                                                                   [2, 3])])),\n",
       "                                 ('cat_column_transformer',\n",
       "                                  ColumnTransformer(transformers=[('cat_encoder',\n",
       "                                                                   OneHotEncoder(handle_unknown='ignore'),\n",
       "                                                                   [0,\n",
       "                                                                    5])]))])),\n",
       "                ('model',\n",
       "                 TransformedTargetRegressor(func=<ufunc 'log'>,\n",
       "                                            inverse_func=<ufunc 'exp'>,\n",
       "                                            regressor=LinearRegression()))])"
      ]
     },
     "execution_count": 89,
     "metadata": {},
     "output_type": "execute_result"
    }
   ],
   "source": [
    "model_baseline.fit(X_train, y_train)"
   ]
  },
  {
   "cell_type": "code",
   "execution_count": 90,
   "metadata": {},
   "outputs": [
    {
     "name": "stdout",
     "output_type": "stream",
     "text": [
      "Average MAPE - Cross Validation Test: -0.2982294869504305\n",
      "Standard Deviation of MAPE - Cross Validation Test: 0.011021323002233676\n"
     ]
    }
   ],
   "source": [
    "print(f\"Average MAPE - Cross Validation Test: {df_baseline_cv_metrics['test_neg_mean_absolute_percentage_error'].mean()}\")\n",
    "print(f\"Standard Deviation of MAPE - Cross Validation Test: {df_baseline_cv_metrics['test_neg_mean_absolute_percentage_error'].std()}\")"
   ]
  },
  {
   "cell_type": "markdown",
   "metadata": {},
   "source": [
    "So, in average, the model is wrong by 32%. It means that for an order that will take 100 minutes to finish, It tends to predict either 132 or 68 minutes."
   ]
  },
  {
   "cell_type": "markdown",
   "metadata": {},
   "source": [
    "Also, We need to see if the predictions are higher or lower than the real value. It's better to overestimate the time, because the order will not be late. Let's check what happens more in our case, overestimate or underestimate."
   ]
  },
  {
   "cell_type": "code",
   "execution_count": 91,
   "metadata": {},
   "outputs": [
    {
     "name": "stdout",
     "output_type": "stream",
     "text": [
      "About 48.3% of our predictions are higher than the real value\n"
     ]
    }
   ],
   "source": [
    "y_train_baseline_predict = model_baseline.predict(X_train)\n",
    "y_train_baseline_predict = y_train_baseline_predict\n",
    "print(f'About {((y_train_baseline_predict >= y_train).sum())/len(y_train)*100}% of our predictions are higher than the real value')"
   ]
  },
  {
   "cell_type": "markdown",
   "metadata": {},
   "source": [
    "That is a good start. Now let's see if there is difference between MAPE for overestimated and underestimated orders "
   ]
  },
  {
   "cell_type": "code",
   "execution_count": 92,
   "metadata": {},
   "outputs": [],
   "source": [
    "list_y_train_baseline_predict = list(y_train_baseline_predict >= y_train)\n",
    "overestimated_indexes_lr = [i for i in range(len(list_y_train_baseline_predict)) if list_y_train_baseline_predict[i]==True]\n",
    "underestimated_indexes_lr = [i for i in range(len(list_y_train_baseline_predict)) if list_y_train_baseline_predict[i]==False]"
   ]
  },
  {
   "cell_type": "code",
   "execution_count": 98,
   "metadata": {},
   "outputs": [
    {
     "name": "stdout",
     "output_type": "stream",
     "text": [
      "On average a prediction is overestimated by 25.99870242681672 %\n"
     ]
    }
   ],
   "source": [
    "# MAPE for overestimated predictions\n",
    "print(f'On average a prediction is overestimated by {mean_absolute_percentage_error(y_train[overestimated_indexes_lr], y_train_baseline_predict[overestimated_indexes_lr])*100} %')"
   ]
  },
  {
   "cell_type": "code",
   "execution_count": 99,
   "metadata": {},
   "outputs": [
    {
     "name": "stdout",
     "output_type": "stream",
     "text": [
      "On average a prediction is underestimated by 15.833655355584927 %\n"
     ]
    }
   ],
   "source": [
    "print(f'On average a prediction is underestimated by {mean_absolute_percentage_error(y_train[underestimated_indexes_lr], y_train_baseline_predict[underestimated_indexes_lr])*100} %')"
   ]
  },
  {
   "cell_type": "markdown",
   "metadata": {},
   "source": [
    "## 1.2) Random Forest"
   ]
  },
  {
   "cell_type": "markdown",
   "metadata": {},
   "source": [
    "As a challenger to the baseline, We will train a Random Forest Regressor. This model will have higher variance compared to Linear Regression and We'll focus on improving MAPE and also try to improve the rate of overestimated orders."
   ]
  },
  {
   "cell_type": "code",
   "execution_count": 101,
   "metadata": {},
   "outputs": [
    {
     "name": "stderr",
     "output_type": "stream",
     "text": [
      "\u001b[32m[I 2021-12-07 09:59:54,686]\u001b[0m A new study created in memory with name: no-name-4d0f9524-4f36-4931-9fc8-44d15914cdc1\u001b[0m\n",
      "\u001b[32m[I 2021-12-07 09:59:59,706]\u001b[0m Trial 0 finished with value: -0.15662451050879922 and parameters: {'max_depth': 2, 'max_leaf_nodes': 605, 'n_estimators': 466}. Best is trial 0 with value: -0.15662451050879922.\u001b[0m\n",
      "\u001b[32m[I 2021-12-07 10:00:02,165]\u001b[0m Trial 1 finished with value: -0.14564971069664795 and parameters: {'max_depth': 6, 'max_leaf_nodes': 757, 'n_estimators': 104}. Best is trial 1 with value: -0.14564971069664795.\u001b[0m\n"
     ]
    }
   ],
   "source": [
    "# Hyperparameter tuning using optuna \n",
    "def objective(trial):\n",
    "    params = {'model__regressor__max_depth':trial.suggest_int('max_depth', 1, 10),\n",
    "              'model__regressor__max_leaf_nodes':trial.suggest_int('max_leaf_nodes', 600, 1000),\n",
    "              'model__regressor__n_estimators':trial.suggest_int('n_estimators', 30, 1000)}\n",
    "    \n",
    "    model_rf = Pipeline(steps=[('preprocessor', preprocessor),\n",
    "                                  ('model', TransformedTargetRegressor(RandomForestRegressor(random_state=123), func=np.log, inverse_func=np.exp))])\n",
    "    model_rf.set_params(**params)   \n",
    "    score = cross_val_score(model_rf, X_train, np.log(y_train), cv=5, scoring='neg_mean_squared_error')\n",
    "    mse = score.mean()\n",
    "\n",
    "    return mse\n",
    "sampler = TPESampler(multivariate=True)\n",
    "study = optuna.create_study(sampler=sampler, direction='maximize')\n",
    "study.optimize(objective, n_trials=50)\n"
   ]
  },
  {
   "cell_type": "code",
   "execution_count": 16,
   "metadata": {},
   "outputs": [],
   "source": [
    "model_rf = Pipeline(steps=[('preprocessor', preprocessor),\n",
    "                                  ('model', RandomForestRegressor(random_state=123))])\n",
    "model_rf['model'].set_params(**study.best_params)\n",
    "df_rf_cv_metrics = pd.DataFrame(cross_validate(model_rf,\n",
    "                                        X_train,\n",
    "                                        y_train, \n",
    "                                        scoring=['neg_mean_absolute_error', 'neg_mean_absolute_percentage_error'], \n",
    "                                        return_train_score=True, cv=10))"
   ]
  },
  {
   "cell_type": "code",
   "execution_count": 17,
   "metadata": {},
   "outputs": [
    {
     "name": "stdout",
     "output_type": "stream",
     "text": [
      "Average MAPE - Cross Validation Test: -0.3465337538644138\n",
      "Standard Deviation of MAPE - Cross Validation Test: 0.013841920079332753\n"
     ]
    }
   ],
   "source": [
    "print(f\"Average MAPE - Cross Validation Test: {df_rf_cv_metrics['test_neg_mean_absolute_percentage_error'].mean()}\")\n",
    "print(f\"Standard Deviation of MAPE - Cross Validation Test: {df_rf_cv_metrics['test_neg_mean_absolute_percentage_error'].std()}\")"
   ]
  },
  {
   "cell_type": "code",
   "execution_count": 68,
   "metadata": {},
   "outputs": [],
   "source": [
    "#X_test = df_orders_test.loc[:, all_columns]\n",
    "y_test = df_orders_test['total_minutes'] "
   ]
  },
  {
   "cell_type": "code",
   "execution_count": 14,
   "metadata": {},
   "outputs": [
    {
     "name": "stdout",
     "output_type": "stream",
     "text": [
      "Average MAPE - Cross Validation Test: -0.33630988648780213\n",
      "Standard Deviation of MAPE - Cross Validation Test: 0.01225231807773897\n"
     ]
    }
   ],
   "source": []
  },
  {
   "cell_type": "code",
   "execution_count": 17,
   "metadata": {},
   "outputs": [
    {
     "data": {
      "text/plain": [
       "Pipeline(steps=[('preprocessor',\n",
       "                 Pipeline(steps=[('impute_transformer',\n",
       "                                  ColumnTransformer(transformers=[('impute_median',\n",
       "                                                                   SimpleImputer(strategy='median'),\n",
       "                                                                   [4, 6, 1]),\n",
       "                                                                  ('impute_mode',\n",
       "                                                                   SimpleImputer(strategy='most_frequent'),\n",
       "                                                                   [0, 5]),\n",
       "                                                                  ('impute_zero',\n",
       "                                                                   SimpleImputer(fill_value=0,\n",
       "                                                                                 strategy='constant'),\n",
       "                                                                   [2, 3])])),\n",
       "                                 ('cat_column_transformer',\n",
       "                                  ColumnTransformer(transformers=[('cat_encoder',\n",
       "                                                                   OneHotEncoder(handle_unknown='ignore'),\n",
       "                                                                   [0,\n",
       "                                                                    5])]))])),\n",
       "                ('model',\n",
       "                 RandomForestRegressor(criterion='mse', max_depth=15,\n",
       "                                       n_estimators=500, random_state=123))])"
      ]
     },
     "execution_count": 17,
     "metadata": {},
     "output_type": "execute_result"
    }
   ],
   "source": [
    "model_rf.fit(X_train, y_train)"
   ]
  },
  {
   "cell_type": "code",
   "execution_count": 18,
   "metadata": {},
   "outputs": [],
   "source": [
    "y_train_rf_predict = model_rf.predict(X_train)"
   ]
  },
  {
   "cell_type": "code",
   "execution_count": 20,
   "metadata": {},
   "outputs": [
    {
     "data": {
      "text/plain": [
       "0.5765"
      ]
     },
     "execution_count": 20,
     "metadata": {},
     "output_type": "execute_result"
    }
   ],
   "source": [
    "(y_train_rf_predict > y_train).sum()/len(y_train)"
   ]
  },
  {
   "cell_type": "code",
   "execution_count": 27,
   "metadata": {},
   "outputs": [
    {
     "name": "stdout",
     "output_type": "stream",
     "text": [
      "[iter 0] loss=4.9734 val_loss=0.0000 scale=1.0000 norm=27.2982\n",
      "[iter 100] loss=4.8368 val_loss=0.0000 scale=1.0000 norm=24.4095\n",
      "[iter 200] loss=4.7695 val_loss=0.0000 scale=1.0000 norm=23.1024\n",
      "[iter 300] loss=4.7155 val_loss=0.0000 scale=2.0000 norm=44.4338\n",
      "[iter 400] loss=4.6818 val_loss=0.0000 scale=1.0000 norm=21.6454\n",
      "[iter 0] loss=4.9758 val_loss=0.0000 scale=1.0000 norm=27.4284\n",
      "[iter 100] loss=4.8374 val_loss=0.0000 scale=1.0000 norm=24.4559\n",
      "[iter 200] loss=4.7670 val_loss=0.0000 scale=2.0000 norm=46.1839\n",
      "[iter 300] loss=4.7131 val_loss=0.0000 scale=2.0000 norm=44.4369\n",
      "[iter 400] loss=4.6772 val_loss=0.0000 scale=1.0000 norm=21.5953\n",
      "[iter 0] loss=4.9579 val_loss=0.0000 scale=1.0000 norm=27.0679\n",
      "[iter 100] loss=4.8186 val_loss=0.0000 scale=1.0000 norm=24.1490\n",
      "[iter 200] loss=4.7515 val_loss=0.0000 scale=2.0000 norm=45.7265\n",
      "[iter 300] loss=4.6966 val_loss=0.0000 scale=1.0000 norm=21.9764\n",
      "[iter 400] loss=4.6603 val_loss=0.0000 scale=2.0000 norm=42.7516\n",
      "[iter 0] loss=4.9748 val_loss=0.0000 scale=1.0000 norm=27.4671\n",
      "[iter 100] loss=4.8370 val_loss=0.0000 scale=1.0000 norm=24.5454\n",
      "[iter 200] loss=4.7673 val_loss=0.0000 scale=1.0000 norm=23.1763\n",
      "[iter 300] loss=4.7129 val_loss=0.0000 scale=2.0000 norm=44.6193\n",
      "[iter 400] loss=4.6775 val_loss=0.0000 scale=1.0000 norm=21.7093\n",
      "[iter 0] loss=4.9695 val_loss=0.0000 scale=1.0000 norm=27.1950\n",
      "[iter 100] loss=4.8329 val_loss=0.0000 scale=1.0000 norm=24.3001\n",
      "[iter 200] loss=4.7580 val_loss=0.0000 scale=2.0000 norm=45.7105\n",
      "[iter 300] loss=4.7091 val_loss=0.0000 scale=2.0000 norm=44.1378\n",
      "[iter 400] loss=4.6744 val_loss=0.0000 scale=2.0000 norm=42.9732\n",
      "[iter 0] loss=4.9648 val_loss=0.0000 scale=1.0000 norm=27.0748\n",
      "[iter 100] loss=4.8272 val_loss=0.0000 scale=1.0000 norm=24.1774\n",
      "[iter 200] loss=4.7635 val_loss=0.0000 scale=2.0000 norm=45.7953\n",
      "[iter 300] loss=4.7102 val_loss=0.0000 scale=2.0000 norm=44.0820\n",
      "[iter 400] loss=4.6727 val_loss=0.0000 scale=1.0000 norm=21.4468\n",
      "[iter 0] loss=4.9659 val_loss=0.0000 scale=1.0000 norm=27.1891\n",
      "[iter 100] loss=4.8282 val_loss=0.0000 scale=1.0000 norm=24.2394\n",
      "[iter 200] loss=4.7614 val_loss=0.0000 scale=2.0000 norm=45.8295\n",
      "[iter 300] loss=4.7084 val_loss=0.0000 scale=1.0000 norm=22.0677\n",
      "[iter 400] loss=4.6717 val_loss=0.0000 scale=2.0000 norm=42.9170\n",
      "[iter 0] loss=4.9624 val_loss=0.0000 scale=1.0000 norm=27.0100\n",
      "[iter 100] loss=4.8243 val_loss=0.0000 scale=1.0000 norm=24.1835\n",
      "[iter 200] loss=4.7569 val_loss=0.0000 scale=1.0000 norm=22.8721\n",
      "[iter 300] loss=4.7040 val_loss=0.0000 scale=2.0000 norm=44.0276\n",
      "[iter 400] loss=4.6677 val_loss=0.0000 scale=1.0000 norm=21.3973\n",
      "[iter 0] loss=4.9745 val_loss=0.0000 scale=1.0000 norm=27.3448\n",
      "[iter 100] loss=4.8366 val_loss=0.0000 scale=1.0000 norm=24.4732\n",
      "[iter 200] loss=4.7724 val_loss=0.0000 scale=1.0000 norm=23.1629\n",
      "[iter 300] loss=4.7186 val_loss=0.0000 scale=2.0000 norm=44.5113\n",
      "[iter 400] loss=4.6823 val_loss=0.0000 scale=1.0000 norm=21.6415\n",
      "[iter 0] loss=4.9736 val_loss=0.0000 scale=1.0000 norm=27.3081\n",
      "[iter 100] loss=4.8300 val_loss=0.0000 scale=1.0000 norm=24.3330\n",
      "[iter 200] loss=4.7593 val_loss=0.0000 scale=2.0000 norm=45.8802\n",
      "[iter 300] loss=4.7009 val_loss=0.0000 scale=1.0000 norm=22.0069\n",
      "[iter 400] loss=4.6659 val_loss=0.0000 scale=2.0000 norm=42.8039\n"
     ]
    }
   ],
   "source": [
    "model_nb = Pipeline(steps=[('preprocessor', preprocessor), ('model', NGBRegressor(Base=DecisionTreeRegressor(max_depth=10, random_state=123), random_state=123))])\n",
    "df_rf_nb_metrics = pd.DataFrame(cross_validate(model_nb,\n",
    "                                        X_train,\n",
    "                                        y_train, \n",
    "                                        scoring=['neg_mean_absolute_error', 'neg_mean_absolute_percentage_error'], \n",
    "                                        return_train_score=True, cv=10))"
   ]
  },
  {
   "cell_type": "code",
   "execution_count": 18,
   "metadata": {},
   "outputs": [
    {
     "name": "stdout",
     "output_type": "stream",
     "text": [
      "[iter 0] loss=4.9693 val_loss=0.0000 scale=1.0000 norm=27.2385\n",
      "[iter 100] loss=4.8716 val_loss=0.0000 scale=1.0000 norm=25.1732\n",
      "[iter 200] loss=4.8323 val_loss=0.0000 scale=1.0000 norm=24.3716\n",
      "[iter 300] loss=4.8077 val_loss=0.0000 scale=1.0000 norm=23.9096\n",
      "[iter 400] loss=4.7845 val_loss=0.0000 scale=1.0000 norm=23.4771\n"
     ]
    },
    {
     "data": {
      "text/plain": [
       "Pipeline(steps=[('preprocessor',\n",
       "                 Pipeline(steps=[('impute_transformer',\n",
       "                                  ColumnTransformer(transformers=[('impute_median',\n",
       "                                                                   SimpleImputer(strategy='median'),\n",
       "                                                                   [4, 6, 1]),\n",
       "                                                                  ('impute_mode',\n",
       "                                                                   SimpleImputer(strategy='most_frequent'),\n",
       "                                                                   [0, 5]),\n",
       "                                                                  ('impute_zero',\n",
       "                                                                   SimpleImputer(fill_value=0,\n",
       "                                                                                 strategy='constant'),\n",
       "                                                                   [2, 3])])),\n",
       "                                 ('cat_column_transformer',\n",
       "                                  ColumnTransformer(transformers=[('cat_encoder',\n",
       "                                                                   OneHotEncoder(handle_unknown='ignore'),\n",
       "                                                                   [0,\n",
       "                                                                    5])]))])),\n",
       "                ('model',\n",
       "                 NGBRegressor(Base=DecisionTreeRegressor(max_depth=5,\n",
       "                                                         random_state=123),\n",
       "                              random_state=RandomState(MT19937) at 0x15984B840))])"
      ]
     },
     "execution_count": 18,
     "metadata": {},
     "output_type": "execute_result"
    }
   ],
   "source": [
    "model_nb.fit(X_train, y_train)"
   ]
  },
  {
   "cell_type": "code",
   "execution_count": 13,
   "metadata": {},
   "outputs": [
    {
     "data": {
      "text/html": [
       "<div>\n",
       "<style scoped>\n",
       "    .dataframe tbody tr th:only-of-type {\n",
       "        vertical-align: middle;\n",
       "    }\n",
       "\n",
       "    .dataframe tbody tr th {\n",
       "        vertical-align: top;\n",
       "    }\n",
       "\n",
       "    .dataframe thead th {\n",
       "        text-align: right;\n",
       "    }\n",
       "</style>\n",
       "<table border=\"1\" class=\"dataframe\">\n",
       "  <thead>\n",
       "    <tr style=\"text-align: right;\">\n",
       "      <th></th>\n",
       "      <th>fit_time</th>\n",
       "      <th>score_time</th>\n",
       "      <th>test_neg_mean_absolute_error</th>\n",
       "      <th>train_neg_mean_absolute_error</th>\n",
       "      <th>test_neg_mean_absolute_percentage_error</th>\n",
       "      <th>train_neg_mean_absolute_percentage_error</th>\n",
       "    </tr>\n",
       "  </thead>\n",
       "  <tbody>\n",
       "    <tr>\n",
       "      <th>0</th>\n",
       "      <td>7.157365</td>\n",
       "      <td>0.295477</td>\n",
       "      <td>-23.092406</td>\n",
       "      <td>-23.198072</td>\n",
       "      <td>-0.329407</td>\n",
       "      <td>-0.335853</td>\n",
       "    </tr>\n",
       "    <tr>\n",
       "      <th>1</th>\n",
       "      <td>6.816708</td>\n",
       "      <td>0.295548</td>\n",
       "      <td>-23.026899</td>\n",
       "      <td>-23.162978</td>\n",
       "      <td>-0.342997</td>\n",
       "      <td>-0.334735</td>\n",
       "    </tr>\n",
       "    <tr>\n",
       "      <th>2</th>\n",
       "      <td>6.687158</td>\n",
       "      <td>0.298408</td>\n",
       "      <td>-25.180214</td>\n",
       "      <td>-22.933261</td>\n",
       "      <td>-0.353435</td>\n",
       "      <td>-0.331868</td>\n",
       "    </tr>\n",
       "    <tr>\n",
       "      <th>3</th>\n",
       "      <td>6.991581</td>\n",
       "      <td>0.328202</td>\n",
       "      <td>-21.919185</td>\n",
       "      <td>-23.234642</td>\n",
       "      <td>-0.309969</td>\n",
       "      <td>-0.336513</td>\n",
       "    </tr>\n",
       "    <tr>\n",
       "      <th>4</th>\n",
       "      <td>7.290988</td>\n",
       "      <td>0.333993</td>\n",
       "      <td>-24.305392</td>\n",
       "      <td>-23.056168</td>\n",
       "      <td>-0.360849</td>\n",
       "      <td>-0.332950</td>\n",
       "    </tr>\n",
       "    <tr>\n",
       "      <th>5</th>\n",
       "      <td>8.134210</td>\n",
       "      <td>0.396101</td>\n",
       "      <td>-25.007872</td>\n",
       "      <td>-23.015520</td>\n",
       "      <td>-0.340256</td>\n",
       "      <td>-0.334293</td>\n",
       "    </tr>\n",
       "    <tr>\n",
       "      <th>6</th>\n",
       "      <td>9.621705</td>\n",
       "      <td>0.478240</td>\n",
       "      <td>-24.365086</td>\n",
       "      <td>-23.003119</td>\n",
       "      <td>-0.348459</td>\n",
       "      <td>-0.332707</td>\n",
       "    </tr>\n",
       "    <tr>\n",
       "      <th>7</th>\n",
       "      <td>13.759998</td>\n",
       "      <td>0.673369</td>\n",
       "      <td>-25.211166</td>\n",
       "      <td>-23.009897</td>\n",
       "      <td>-0.357825</td>\n",
       "      <td>-0.332920</td>\n",
       "    </tr>\n",
       "    <tr>\n",
       "      <th>8</th>\n",
       "      <td>17.313064</td>\n",
       "      <td>0.823399</td>\n",
       "      <td>-22.821717</td>\n",
       "      <td>-23.301326</td>\n",
       "      <td>-0.329703</td>\n",
       "      <td>-0.337566</td>\n",
       "    </tr>\n",
       "    <tr>\n",
       "      <th>9</th>\n",
       "      <td>19.036385</td>\n",
       "      <td>0.813878</td>\n",
       "      <td>-23.727438</td>\n",
       "      <td>-23.066166</td>\n",
       "      <td>-0.339377</td>\n",
       "      <td>-0.333739</td>\n",
       "    </tr>\n",
       "  </tbody>\n",
       "</table>\n",
       "</div>"
      ],
      "text/plain": [
       "    fit_time  score_time  test_neg_mean_absolute_error  \\\n",
       "0   7.157365    0.295477                    -23.092406   \n",
       "1   6.816708    0.295548                    -23.026899   \n",
       "2   6.687158    0.298408                    -25.180214   \n",
       "3   6.991581    0.328202                    -21.919185   \n",
       "4   7.290988    0.333993                    -24.305392   \n",
       "5   8.134210    0.396101                    -25.007872   \n",
       "6   9.621705    0.478240                    -24.365086   \n",
       "7  13.759998    0.673369                    -25.211166   \n",
       "8  17.313064    0.823399                    -22.821717   \n",
       "9  19.036385    0.813878                    -23.727438   \n",
       "\n",
       "   train_neg_mean_absolute_error  test_neg_mean_absolute_percentage_error  \\\n",
       "0                     -23.198072                                -0.329407   \n",
       "1                     -23.162978                                -0.342997   \n",
       "2                     -22.933261                                -0.353435   \n",
       "3                     -23.234642                                -0.309969   \n",
       "4                     -23.056168                                -0.360849   \n",
       "5                     -23.015520                                -0.340256   \n",
       "6                     -23.003119                                -0.348459   \n",
       "7                     -23.009897                                -0.357825   \n",
       "8                     -23.301326                                -0.329703   \n",
       "9                     -23.066166                                -0.339377   \n",
       "\n",
       "   train_neg_mean_absolute_percentage_error  \n",
       "0                                 -0.335853  \n",
       "1                                 -0.334735  \n",
       "2                                 -0.331868  \n",
       "3                                 -0.336513  \n",
       "4                                 -0.332950  \n",
       "5                                 -0.334293  \n",
       "6                                 -0.332707  \n",
       "7                                 -0.332920  \n",
       "8                                 -0.337566  \n",
       "9                                 -0.333739  "
      ]
     },
     "execution_count": 13,
     "metadata": {},
     "output_type": "execute_result"
    }
   ],
   "source": [
    "df_rf_nb_metrics"
   ]
  },
  {
   "cell_type": "code",
   "execution_count": 20,
   "metadata": {},
   "outputs": [],
   "source": [
    "X_train_preprocessed = model_nb['preprocessor'].transform(X_train)\n",
    "y_train_prob = model_nb['model'].pred_dist(X_train_preprocessed).params"
   ]
  },
  {
   "cell_type": "code",
   "execution_count": 22,
   "metadata": {},
   "outputs": [
    {
     "data": {
      "text/html": [
       "<div>\n",
       "<style scoped>\n",
       "    .dataframe tbody tr th:only-of-type {\n",
       "        vertical-align: middle;\n",
       "    }\n",
       "\n",
       "    .dataframe tbody tr th {\n",
       "        vertical-align: top;\n",
       "    }\n",
       "\n",
       "    .dataframe thead th {\n",
       "        text-align: right;\n",
       "    }\n",
       "</style>\n",
       "<table border=\"1\" class=\"dataframe\">\n",
       "  <thead>\n",
       "    <tr style=\"text-align: right;\">\n",
       "      <th></th>\n",
       "      <th>loc</th>\n",
       "      <th>scale</th>\n",
       "    </tr>\n",
       "  </thead>\n",
       "  <tbody>\n",
       "    <tr>\n",
       "      <th>0</th>\n",
       "      <td>61.093169</td>\n",
       "      <td>28.814627</td>\n",
       "    </tr>\n",
       "    <tr>\n",
       "      <th>1</th>\n",
       "      <td>102.663713</td>\n",
       "      <td>38.867811</td>\n",
       "    </tr>\n",
       "    <tr>\n",
       "      <th>2</th>\n",
       "      <td>61.093169</td>\n",
       "      <td>28.814627</td>\n",
       "    </tr>\n",
       "    <tr>\n",
       "      <th>3</th>\n",
       "      <td>100.190359</td>\n",
       "      <td>28.648641</td>\n",
       "    </tr>\n",
       "    <tr>\n",
       "      <th>4</th>\n",
       "      <td>88.802990</td>\n",
       "      <td>31.342919</td>\n",
       "    </tr>\n",
       "    <tr>\n",
       "      <th>...</th>\n",
       "      <td>...</td>\n",
       "      <td>...</td>\n",
       "    </tr>\n",
       "    <tr>\n",
       "      <th>5995</th>\n",
       "      <td>67.793596</td>\n",
       "      <td>27.207726</td>\n",
       "    </tr>\n",
       "    <tr>\n",
       "      <th>5996</th>\n",
       "      <td>84.746860</td>\n",
       "      <td>28.648641</td>\n",
       "    </tr>\n",
       "    <tr>\n",
       "      <th>5997</th>\n",
       "      <td>67.915511</td>\n",
       "      <td>28.814627</td>\n",
       "    </tr>\n",
       "    <tr>\n",
       "      <th>5998</th>\n",
       "      <td>77.403340</td>\n",
       "      <td>28.068216</td>\n",
       "    </tr>\n",
       "    <tr>\n",
       "      <th>5999</th>\n",
       "      <td>88.802990</td>\n",
       "      <td>28.648641</td>\n",
       "    </tr>\n",
       "  </tbody>\n",
       "</table>\n",
       "<p>6000 rows × 2 columns</p>\n",
       "</div>"
      ],
      "text/plain": [
       "             loc      scale\n",
       "0      61.093169  28.814627\n",
       "1     102.663713  38.867811\n",
       "2      61.093169  28.814627\n",
       "3     100.190359  28.648641\n",
       "4      88.802990  31.342919\n",
       "...          ...        ...\n",
       "5995   67.793596  27.207726\n",
       "5996   84.746860  28.648641\n",
       "5997   67.915511  28.814627\n",
       "5998   77.403340  28.068216\n",
       "5999   88.802990  28.648641\n",
       "\n",
       "[6000 rows x 2 columns]"
      ]
     },
     "execution_count": 22,
     "metadata": {},
     "output_type": "execute_result"
    }
   ],
   "source": [
    "pd.DataFrame(y_train_prob)"
   ]
  },
  {
   "cell_type": "code",
   "execution_count": 26,
   "metadata": {},
   "outputs": [
    {
     "data": {
      "text/plain": [
       "0.3343651684048297"
      ]
     },
     "execution_count": 26,
     "metadata": {},
     "output_type": "execute_result"
    }
   ],
   "source": [
    "mean_absolute_percentage_error(y_train, y_train_prob['loc'])"
   ]
  },
  {
   "cell_type": "code",
   "execution_count": 25,
   "metadata": {},
   "outputs": [
    {
     "data": {
      "text/plain": [
       "0.585"
      ]
     },
     "execution_count": 25,
     "metadata": {},
     "output_type": "execute_result"
    }
   ],
   "source": [
    "((y_train_prob['loc'] >= y_train).sum())/len(y_train)"
   ]
  },
  {
   "cell_type": "code",
   "execution_count": null,
   "metadata": {},
   "outputs": [],
   "source": [
    "st.norm.interval(alpha=0.95, loc=np.mean(data), scale=st.sem(data))\n"
   ]
  },
  {
   "cell_type": "markdown",
   "metadata": {},
   "source": [
    "## 1.3) Quantile Regression"
   ]
  },
  {
   "cell_type": "markdown",
   "metadata": {},
   "source": []
  }
 ],
 "metadata": {
  "interpreter": {
   "hash": "a6f7b07b20f4cf172f035b867796e18e995318450c83b6d17ec9b748e82eefe6"
  },
  "kernelspec": {
   "display_name": "Python 3.8.10 64-bit ('case_cornershop_env': venv)",
   "language": "python",
   "name": "python3"
  },
  "language_info": {
   "codemirror_mode": {
    "name": "ipython",
    "version": 3
   },
   "file_extension": ".py",
   "mimetype": "text/x-python",
   "name": "python",
   "nbconvert_exporter": "python",
   "pygments_lexer": "ipython3",
   "version": "3.9.6"
  },
  "orig_nbformat": 4
 },
 "nbformat": 4,
 "nbformat_minor": 2
}
