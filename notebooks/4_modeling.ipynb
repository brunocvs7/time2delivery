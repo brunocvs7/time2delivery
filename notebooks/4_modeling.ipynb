{
 "cells": [
  {
   "cell_type": "markdown",
   "metadata": {},
   "source": [
    "# Modeling"
   ]
  },
  {
   "cell_type": "code",
   "execution_count": 49,
   "metadata": {},
   "outputs": [],
   "source": [
    "#Libs\n",
    "import os\n",
    "import warnings\n",
    "import pickle\n",
    "import optuna\n",
    "import seaborn as sns\n",
    "import pandas as pd\n",
    "import numpy as np\n",
    "import matplotlib.pyplot as plt\n",
    "import scipy.stats as st\n",
    "\n",
    "from optuna.samplers import TPESampler\n",
    "from sklearn.model_selection import KFold\n",
    "from sklearn.linear_model import LinearRegression, QuantileRegressor\n",
    "from sklearn.ensemble import RandomForestRegressor\n",
    "from sklearn.impute import SimpleImputer\n",
    "from sklearn.pipeline import Pipeline\n",
    "from sklearn.compose import ColumnTransformer, TransformedTargetRegressor\n",
    "from sklearn.metrics import mean_absolute_percentage_error, mean_absolute_error\n",
    "from utils.features.build import build_distance, build_hour_group\n",
    "from sklearn.preprocessing import OneHotEncoder, FunctionTransformer\n",
    "from sklearn.tree import DecisionTreeRegressor\n",
    "from ngboost import NGBRegressor\n",
    "from sklearn.model_selection import cross_validate, cross_val_score\n",
    "from ngboost.distns import Exponential, Normal, LogNormal\n",
    "from dotenv import load_dotenv, find_dotenv\n",
    "from utils.models.evaluate import plot_learning_curve, plot_permutation_importance\n",
    "from utils.models.predict_model import get_intervals\n",
    "warnings.filterwarnings('ignore')"
   ]
  },
  {
   "cell_type": "code",
   "execution_count": 50,
   "metadata": {},
   "outputs": [],
   "source": [
    "# Env variables and data\n",
    "load_dotenv(find_dotenv())\n",
    "DATA_INPUT_PATH = os.getenv('DATA_PROCESSED_PATH')\n",
    "DATA_TRAIN_NAME = 'train_best_features'\n",
    "DATA_TEST_NAME = 'test'\n",
    "DATA_SUBMISSION = 'submission'\n",
    "MODEL_PATH = os.getenv('MODEL_PATH')\n",
    "# Data\n",
    "df_orders_train = pd.read_parquet(os.path.join(DATA_INPUT_PATH, DATA_TRAIN_NAME))\n",
    "df_orders_test = pd.read_parquet(os.path.join(DATA_INPUT_PATH, DATA_TEST_NAME))\n",
    "df_submission = pd.read_parquet(os.path.join(DATA_INPUT_PATH, DATA_SUBMISSION))"
   ]
  },
  {
   "cell_type": "markdown",
   "metadata": {},
   "source": [
    "# 1) Modeling"
   ]
  },
  {
   "cell_type": "markdown",
   "metadata": {},
   "source": [
    "In this step We'll try 3 approaches to solve the problem:\n",
    "- Linear Regression \n",
    "- Random Forest \n",
    "- NGBoost "
   ]
  },
  {
   "cell_type": "markdown",
   "metadata": {},
   "source": [
    "With Linear Regression We intend to create a baseline to be beaten. We'll observe performance in terms of Mean Absolute Percentage Error and Proportion of overestimated predictions. \n",
    "The former metric will be better if It approaches 0, the latter will be better if When model gets It wrong, the model overestimates instead of underestimate. We wish this property because When the model underestimate, the order will be late, and It is better to be early than late. As We saw in Exploratory Data Analysis, the `total_minutes` distribution has a long tail, so It may be import to apply logarithm in order to relieve the impact of outliers."
   ]
  },
  {
   "cell_type": "code",
   "execution_count": 3,
   "metadata": {},
   "outputs": [],
   "source": [
    "# Separating X and y for training\n",
    "X_train = df_orders_train.drop('total_minutes', axis=1)\n",
    "y_train = df_orders_train['total_minutes']\n",
    "# list with all columns\n",
    "all_columns = X_train.columns.tolist()"
   ]
  },
  {
   "cell_type": "markdown",
   "metadata": {},
   "source": [
    "## 1.1) Preprocessing"
   ]
  },
  {
   "cell_type": "code",
   "execution_count": 4,
   "metadata": {},
   "outputs": [],
   "source": [
    "# We will have 3 imputers: Median for some numerical, Mode for categorical and 0 for some numerical\n",
    "median_impute_columns_indexes = [all_columns.index(x) for x in ['n_distinct_items', 'distance_km', 'found_rate']]\n",
    "mode_impute_columns_indexes = [all_columns.index(x) for x in ['on_demand', 'hour_group']]\n",
    "zero_impute_columns_indexes = [all_columns.index(x) for x in ['sum_kgs', 'sum_unities']]\n",
    "cat_columns = df_orders_train.select_dtypes(include=['O']).columns.tolist()\n",
    "cat_columns_indexes = [all_columns.index(x) for x in cat_columns]\n",
    "num_columns = df_orders_train.drop('total_minutes', axis=1).select_dtypes(include=['int32', 'int64', 'float32', 'float64']).columns.tolist()\n",
    "num_columns_indexes = [all_columns.index(x) for x in num_columns]\n",
    "impute_median_columns = ['n_distinct_items', 'distance_km', 'found_rate']\n",
    "impute_zero_columns = ['sum_kgs', 'sum_unities']\n",
    "# Feature engineering steps\n",
    "distance_transformer = FunctionTransformer(func=build_distance)\n",
    "hour_group_transformer = FunctionTransformer(func=build_hour_group)\n",
    "pipe_feature_engineering = Pipeline(steps=[('distance_transformer', distance_transformer),\n",
    "                                           ('hor_group_transformer', hour_group_transformer)])\n",
    "# Imputation Steps\n",
    "\n",
    "impute_median = Pipeline([('impute_median', SimpleImputer(strategy='median'))])\n",
    "impute_mode = Pipeline([('impute_mode', SimpleImputer(strategy='most_frequent'))])\n",
    "impute_zero = Pipeline([('impute_zero', SimpleImputer(strategy='constant', fill_value=0))])\n",
    "one_hot = Pipeline([('cat_encoder', OneHotEncoder(handle_unknown='ignore'))])\n",
    "cat_transformer= Pipeline([('impute_mode', impute_mode),                                \n",
    "                           ('one_hot', one_hot)])\n",
    "preprocessor = ColumnTransformer([('impute_mode_one_hot', cat_transformer, cat_columns),\n",
    "                                      ('impute_median', impute_median, impute_median_columns),\n",
    "                                      ('impute_zero', impute_zero, impute_zero_columns)])\n"
   ]
  },
  {
   "cell_type": "markdown",
   "metadata": {},
   "source": [
    "## 1.2) Baseline"
   ]
  },
  {
   "cell_type": "markdown",
   "metadata": {},
   "source": [
    "Our baseline will be a Linear Regression."
   ]
  },
  {
   "cell_type": "code",
   "execution_count": 6,
   "metadata": {},
   "outputs": [],
   "source": [
    "# Pipeline with preprocessor and Model\n",
    "model_baseline = Pipeline(steps=[('preprocessor', preprocessor),\n",
    "                                  ('model', TransformedTargetRegressor(LinearRegression(), func=np.log, inverse_func=np.exp))])"
   ]
  },
  {
   "cell_type": "code",
   "execution_count": 7,
   "metadata": {},
   "outputs": [],
   "source": [
    "# Performing a 10-Fold cross validation to get an estimate for MAE and MAPE\n",
    "df_baseline_cv_metrics = pd.DataFrame(cross_validate(model_baseline,\n",
    "                                        X_train,\n",
    "                                        y_train, \n",
    "                                        scoring=['neg_mean_absolute_error', 'neg_mean_absolute_percentage_error'], \n",
    "                                        return_train_score=True, cv=10))"
   ]
  },
  {
   "cell_type": "code",
   "execution_count": 8,
   "metadata": {},
   "outputs": [
    {
     "data": {
      "text/html": [
       "<div>\n",
       "<style scoped>\n",
       "    .dataframe tbody tr th:only-of-type {\n",
       "        vertical-align: middle;\n",
       "    }\n",
       "\n",
       "    .dataframe tbody tr th {\n",
       "        vertical-align: top;\n",
       "    }\n",
       "\n",
       "    .dataframe thead th {\n",
       "        text-align: right;\n",
       "    }\n",
       "</style>\n",
       "<table border=\"1\" class=\"dataframe\">\n",
       "  <thead>\n",
       "    <tr style=\"text-align: right;\">\n",
       "      <th></th>\n",
       "      <th>fit_time</th>\n",
       "      <th>score_time</th>\n",
       "      <th>test_neg_mean_absolute_error</th>\n",
       "      <th>train_neg_mean_absolute_error</th>\n",
       "      <th>test_neg_mean_absolute_percentage_error</th>\n",
       "      <th>train_neg_mean_absolute_percentage_error</th>\n",
       "    </tr>\n",
       "  </thead>\n",
       "  <tbody>\n",
       "    <tr>\n",
       "      <th>0</th>\n",
       "      <td>0.028925</td>\n",
       "      <td>0.007145</td>\n",
       "      <td>-20.022554</td>\n",
       "      <td>-20.415693</td>\n",
       "      <td>-0.265349</td>\n",
       "      <td>-0.267731</td>\n",
       "    </tr>\n",
       "    <tr>\n",
       "      <th>1</th>\n",
       "      <td>0.031672</td>\n",
       "      <td>0.010745</td>\n",
       "      <td>-19.512231</td>\n",
       "      <td>-20.478940</td>\n",
       "      <td>-0.262205</td>\n",
       "      <td>-0.268664</td>\n",
       "    </tr>\n",
       "    <tr>\n",
       "      <th>2</th>\n",
       "      <td>0.025328</td>\n",
       "      <td>0.008022</td>\n",
       "      <td>-20.663146</td>\n",
       "      <td>-20.334302</td>\n",
       "      <td>-0.270654</td>\n",
       "      <td>-0.267280</td>\n",
       "    </tr>\n",
       "    <tr>\n",
       "      <th>3</th>\n",
       "      <td>0.019351</td>\n",
       "      <td>0.007095</td>\n",
       "      <td>-19.108091</td>\n",
       "      <td>-20.530233</td>\n",
       "      <td>-0.247190</td>\n",
       "      <td>-0.269626</td>\n",
       "    </tr>\n",
       "    <tr>\n",
       "      <th>4</th>\n",
       "      <td>0.016797</td>\n",
       "      <td>0.006401</td>\n",
       "      <td>-20.154597</td>\n",
       "      <td>-20.398224</td>\n",
       "      <td>-0.280051</td>\n",
       "      <td>-0.267034</td>\n",
       "    </tr>\n",
       "    <tr>\n",
       "      <th>5</th>\n",
       "      <td>0.018591</td>\n",
       "      <td>0.008016</td>\n",
       "      <td>-21.316906</td>\n",
       "      <td>-20.262441</td>\n",
       "      <td>-0.266537</td>\n",
       "      <td>-0.267155</td>\n",
       "    </tr>\n",
       "    <tr>\n",
       "      <th>6</th>\n",
       "      <td>0.018770</td>\n",
       "      <td>0.006258</td>\n",
       "      <td>-20.798057</td>\n",
       "      <td>-20.336376</td>\n",
       "      <td>-0.271078</td>\n",
       "      <td>-0.267501</td>\n",
       "    </tr>\n",
       "    <tr>\n",
       "      <th>7</th>\n",
       "      <td>0.018125</td>\n",
       "      <td>0.007997</td>\n",
       "      <td>-21.100928</td>\n",
       "      <td>-20.275357</td>\n",
       "      <td>-0.276072</td>\n",
       "      <td>-0.266705</td>\n",
       "    </tr>\n",
       "    <tr>\n",
       "      <th>8</th>\n",
       "      <td>0.019429</td>\n",
       "      <td>0.006332</td>\n",
       "      <td>-20.361290</td>\n",
       "      <td>-20.383473</td>\n",
       "      <td>-0.269171</td>\n",
       "      <td>-0.267875</td>\n",
       "    </tr>\n",
       "    <tr>\n",
       "      <th>9</th>\n",
       "      <td>0.015115</td>\n",
       "      <td>0.006755</td>\n",
       "      <td>-21.155491</td>\n",
       "      <td>-20.292296</td>\n",
       "      <td>-0.274145</td>\n",
       "      <td>-0.266546</td>\n",
       "    </tr>\n",
       "  </tbody>\n",
       "</table>\n",
       "</div>"
      ],
      "text/plain": [
       "   fit_time  score_time  test_neg_mean_absolute_error  \\\n",
       "0  0.028925    0.007145                    -20.022554   \n",
       "1  0.031672    0.010745                    -19.512231   \n",
       "2  0.025328    0.008022                    -20.663146   \n",
       "3  0.019351    0.007095                    -19.108091   \n",
       "4  0.016797    0.006401                    -20.154597   \n",
       "5  0.018591    0.008016                    -21.316906   \n",
       "6  0.018770    0.006258                    -20.798057   \n",
       "7  0.018125    0.007997                    -21.100928   \n",
       "8  0.019429    0.006332                    -20.361290   \n",
       "9  0.015115    0.006755                    -21.155491   \n",
       "\n",
       "   train_neg_mean_absolute_error  test_neg_mean_absolute_percentage_error  \\\n",
       "0                     -20.415693                                -0.265349   \n",
       "1                     -20.478940                                -0.262205   \n",
       "2                     -20.334302                                -0.270654   \n",
       "3                     -20.530233                                -0.247190   \n",
       "4                     -20.398224                                -0.280051   \n",
       "5                     -20.262441                                -0.266537   \n",
       "6                     -20.336376                                -0.271078   \n",
       "7                     -20.275357                                -0.276072   \n",
       "8                     -20.383473                                -0.269171   \n",
       "9                     -20.292296                                -0.274145   \n",
       "\n",
       "   train_neg_mean_absolute_percentage_error  \n",
       "0                                 -0.267731  \n",
       "1                                 -0.268664  \n",
       "2                                 -0.267280  \n",
       "3                                 -0.269626  \n",
       "4                                 -0.267034  \n",
       "5                                 -0.267155  \n",
       "6                                 -0.267501  \n",
       "7                                 -0.266705  \n",
       "8                                 -0.267875  \n",
       "9                                 -0.266546  "
      ]
     },
     "execution_count": 8,
     "metadata": {},
     "output_type": "execute_result"
    }
   ],
   "source": [
    "df_baseline_cv_metrics"
   ]
  },
  {
   "cell_type": "code",
   "execution_count": 9,
   "metadata": {},
   "outputs": [
    {
     "data": {
      "text/plain": [
       "Pipeline(steps=[('preprocessor',\n",
       "                 ColumnTransformer(transformers=[('impute_mode_one_hot',\n",
       "                                                  Pipeline(steps=[('impute_mode',\n",
       "                                                                   Pipeline(steps=[('impute_mode',\n",
       "                                                                                    SimpleImputer(strategy='most_frequent'))])),\n",
       "                                                                  ('one_hot',\n",
       "                                                                   Pipeline(steps=[('cat_encoder',\n",
       "                                                                                    OneHotEncoder(handle_unknown='ignore'))]))]),\n",
       "                                                  ['on_demand', 'hour_group']),\n",
       "                                                 ('impute_median',\n",
       "                                                  Pipeline(steps=[('impute_median',\n",
       "                                                                   SimpleImputer(strategy='median'))]),\n",
       "                                                  ['n_distinct_items',\n",
       "                                                   'distance_km',\n",
       "                                                   'found_rate']),\n",
       "                                                 ('impute_zero',\n",
       "                                                  Pipeline(steps=[('impute_zero',\n",
       "                                                                   SimpleImputer(fill_value=0,\n",
       "                                                                                 strategy='constant'))]),\n",
       "                                                  ['sum_kgs',\n",
       "                                                   'sum_unities'])])),\n",
       "                ('model',\n",
       "                 TransformedTargetRegressor(func=<ufunc 'log'>,\n",
       "                                            inverse_func=<ufunc 'exp'>,\n",
       "                                            regressor=LinearRegression()))])"
      ]
     },
     "execution_count": 9,
     "metadata": {},
     "output_type": "execute_result"
    }
   ],
   "source": [
    "model_baseline.fit(X_train, y_train)"
   ]
  },
  {
   "cell_type": "markdown",
   "metadata": {},
   "source": [
    "Let's see average MAPE and Standard Deviation of MAPE."
   ]
  },
  {
   "cell_type": "code",
   "execution_count": 10,
   "metadata": {},
   "outputs": [
    {
     "name": "stdout",
     "output_type": "stream",
     "text": [
      "Average MAPE - Cross Validation Test: -0.26824515384366066\n",
      "Standard Deviation of MAPE - Cross Validation Test: 0.009075169386691588\n"
     ]
    }
   ],
   "source": [
    "print(f\"Average MAPE - Cross Validation Test: {df_baseline_cv_metrics['test_neg_mean_absolute_percentage_error'].mean()}\")\n",
    "print(f\"Standard Deviation of MAPE - Cross Validation Test: {df_baseline_cv_metrics['test_neg_mean_absolute_percentage_error'].std()}\")"
   ]
  },
  {
   "cell_type": "markdown",
   "metadata": {},
   "source": [
    "So, nn average, the model is wrong by 26.8%. It means that for an order that will take 100 minutes to finish, It tends to predict either 127 or 73 minutes."
   ]
  },
  {
   "cell_type": "markdown",
   "metadata": {},
   "source": [
    "Also, We need to see if the predictions are higher or lower than the real value. It's better to overestimate the time, because the order will not be late. Let's check what happens more in our case, overestimate or underestimate."
   ]
  },
  {
   "cell_type": "code",
   "execution_count": 11,
   "metadata": {},
   "outputs": [
    {
     "name": "stdout",
     "output_type": "stream",
     "text": [
      "About 51.33333333333333% of our predictions are higher than the real value\n"
     ]
    }
   ],
   "source": [
    "# Generating predictions for X_train\n",
    "y_train_baseline_predict = model_baseline.predict(X_train)\n",
    "# Calculating proportion of overestimation\n",
    "print(f'About {((y_train_baseline_predict >= y_train).sum())/len(y_train)*100}% of our predictions are higher than the real value')"
   ]
  },
  {
   "cell_type": "markdown",
   "metadata": {},
   "source": [
    "## 1.2) Random Forest"
   ]
  },
  {
   "cell_type": "markdown",
   "metadata": {},
   "source": [
    "As a challenger to the baseline, We will train a Random Forest Regressor with Bayesian Optimization to tuning the hyperparameters. This model will have higher variance compared to Linear Regression and We'll focus on improving MAPE and also try to improve the rate of overestimated orders."
   ]
  },
  {
   "cell_type": "code",
   "execution_count": 12,
   "metadata": {},
   "outputs": [
    {
     "name": "stderr",
     "output_type": "stream",
     "text": [
      "\u001b[32m[I 2021-12-08 20:49:28,665]\u001b[0m A new study created in memory with name: no-name-a674b956-0aaa-4b60-9ecc-4a28d3dd1935\u001b[0m\n",
      "\u001b[32m[I 2021-12-08 20:49:52,503]\u001b[0m Trial 0 finished with value: -0.10527233423177336 and parameters: {'max_depth': 5, 'max_leaf_nodes': 695, 'n_estimators': 896}. Best is trial 0 with value: -0.10527233423177336.\u001b[0m\n",
      "\u001b[32m[I 2021-12-08 20:50:00,956]\u001b[0m Trial 1 finished with value: -0.10404329702450399 and parameters: {'max_depth': 7, 'max_leaf_nodes': 768, 'n_estimators': 241}. Best is trial 1 with value: -0.10404329702450399.\u001b[0m\n",
      "\u001b[32m[I 2021-12-08 20:50:07,195]\u001b[0m Trial 2 finished with value: -0.10527876144281725 and parameters: {'max_depth': 5, 'max_leaf_nodes': 903, 'n_estimators': 223}. Best is trial 1 with value: -0.10404329702450399.\u001b[0m\n",
      "\u001b[32m[I 2021-12-08 20:50:19,524]\u001b[0m Trial 3 finished with value: -0.10425451776810975 and parameters: {'max_depth': 6, 'max_leaf_nodes': 866, 'n_estimators': 412}. Best is trial 1 with value: -0.10404329702450399.\u001b[0m\n",
      "\u001b[32m[I 2021-12-08 20:50:22,032]\u001b[0m Trial 4 finished with value: -0.12112356614051518 and parameters: {'max_depth': 2, 'max_leaf_nodes': 793, 'n_estimators': 157}. Best is trial 1 with value: -0.10404329702450399.\u001b[0m\n",
      "\u001b[32m[I 2021-12-08 20:50:40,883]\u001b[0m Trial 5 finished with value: -0.10403780851184882 and parameters: {'max_depth': 7, 'max_leaf_nodes': 809, 'n_estimators': 541}. Best is trial 5 with value: -0.10403780851184882.\u001b[0m\n",
      "\u001b[32m[I 2021-12-08 20:51:10,157]\u001b[0m Trial 6 finished with value: -0.1042716237981927 and parameters: {'max_depth': 6, 'max_leaf_nodes': 783, 'n_estimators': 985}. Best is trial 5 with value: -0.10403780851184882.\u001b[0m\n",
      "\u001b[32m[I 2021-12-08 20:51:12,489]\u001b[0m Trial 7 finished with value: -0.10539955163467778 and parameters: {'max_depth': 9, 'max_leaf_nodes': 887, 'n_estimators': 51}. Best is trial 5 with value: -0.10403780851184882.\u001b[0m\n",
      "\u001b[32m[I 2021-12-08 20:51:32,188]\u001b[0m Trial 8 finished with value: -0.10528145098626784 and parameters: {'max_depth': 5, 'max_leaf_nodes': 849, 'n_estimators': 769}. Best is trial 5 with value: -0.10403780851184882.\u001b[0m\n",
      "\u001b[32m[I 2021-12-08 20:51:53,772]\u001b[0m Trial 9 finished with value: -0.10426588268950987 and parameters: {'max_depth': 8, 'max_leaf_nodes': 702, 'n_estimators': 553}. Best is trial 5 with value: -0.10403780851184882.\u001b[0m\n",
      "\u001b[32m[I 2021-12-08 20:52:25,668]\u001b[0m Trial 10 finished with value: -0.10529526884454814 and parameters: {'max_depth': 10, 'max_leaf_nodes': 834, 'n_estimators': 698}. Best is trial 5 with value: -0.10403780851184882.\u001b[0m\n",
      "\u001b[32m[I 2021-12-08 20:52:29,176]\u001b[0m Trial 11 finished with value: -0.10425066752727345 and parameters: {'max_depth': 6, 'max_leaf_nodes': 664, 'n_estimators': 97}. Best is trial 5 with value: -0.10403780851184882.\u001b[0m\n",
      "\u001b[32m[I 2021-12-08 20:52:41,008]\u001b[0m Trial 12 finished with value: -0.10765376349791471 and parameters: {'max_depth': 4, 'max_leaf_nodes': 689, 'n_estimators': 508}. Best is trial 5 with value: -0.10403780851184882.\u001b[0m\n",
      "\u001b[32m[I 2021-12-08 20:52:46,797]\u001b[0m Trial 13 finished with value: -0.10483295986735422 and parameters: {'max_depth': 9, 'max_leaf_nodes': 753, 'n_estimators': 140}. Best is trial 5 with value: -0.10403780851184882.\u001b[0m\n",
      "\u001b[32m[I 2021-12-08 20:52:54,607]\u001b[0m Trial 14 finished with value: -0.1339061791017331 and parameters: {'max_depth': 1, 'max_leaf_nodes': 886, 'n_estimators': 820}. Best is trial 5 with value: -0.10403780851184882.\u001b[0m\n",
      "\u001b[32m[I 2021-12-08 20:53:20,384]\u001b[0m Trial 15 finished with value: -0.10429712531607191 and parameters: {'max_depth': 8, 'max_leaf_nodes': 961, 'n_estimators': 727}. Best is trial 5 with value: -0.10403780851184882.\u001b[0m\n",
      "\u001b[32m[I 2021-12-08 20:53:26,143]\u001b[0m Trial 16 finished with value: -0.10421685515436743 and parameters: {'max_depth': 6, 'max_leaf_nodes': 795, 'n_estimators': 198}. Best is trial 5 with value: -0.10403780851184882.\u001b[0m\n",
      "\u001b[32m[I 2021-12-08 20:53:43,212]\u001b[0m Trial 17 finished with value: -0.10402806589669558 and parameters: {'max_depth': 7, 'max_leaf_nodes': 795, 'n_estimators': 519}. Best is trial 17 with value: -0.10402806589669558.\u001b[0m\n",
      "\u001b[32m[I 2021-12-08 20:53:53,298]\u001b[0m Trial 18 finished with value: -0.13388422014215343 and parameters: {'max_depth': 1, 'max_leaf_nodes': 671, 'n_estimators': 961}. Best is trial 17 with value: -0.10402806589669558.\u001b[0m\n",
      "\u001b[32m[I 2021-12-08 20:54:15,505]\u001b[0m Trial 19 finished with value: -0.10530294808900793 and parameters: {'max_depth': 10, 'max_leaf_nodes': 864, 'n_estimators': 459}. Best is trial 17 with value: -0.10402806589669558.\u001b[0m\n",
      "\u001b[32m[I 2021-12-08 20:54:37,302]\u001b[0m Trial 20 finished with value: -0.10405893191702005 and parameters: {'max_depth': 7, 'max_leaf_nodes': 813, 'n_estimators': 672}. Best is trial 17 with value: -0.10402806589669558.\u001b[0m\n",
      "\u001b[32m[I 2021-12-08 20:54:50,881]\u001b[0m Trial 21 finished with value: -0.10425992780468754 and parameters: {'max_depth': 6, 'max_leaf_nodes': 790, 'n_estimators': 479}. Best is trial 17 with value: -0.10402806589669558.\u001b[0m\n",
      "\u001b[32m[I 2021-12-08 20:55:03,356]\u001b[0m Trial 22 finished with value: -0.1042609381835212 and parameters: {'max_depth': 8, 'max_leaf_nodes': 773, 'n_estimators': 349}. Best is trial 17 with value: -0.10402806589669558.\u001b[0m\n",
      "\u001b[32m[I 2021-12-08 20:55:12,497]\u001b[0m Trial 23 finished with value: -0.11235602553430472 and parameters: {'max_depth': 3, 'max_leaf_nodes': 844, 'n_estimators': 524}. Best is trial 17 with value: -0.10402806589669558.\u001b[0m\n",
      "\u001b[32m[I 2021-12-08 20:55:24,651]\u001b[0m Trial 24 finished with value: -0.1047627081946741 and parameters: {'max_depth': 9, 'max_leaf_nodes': 637, 'n_estimators': 305}. Best is trial 17 with value: -0.10402806589669558.\u001b[0m\n",
      "\u001b[32m[I 2021-12-08 20:55:36,764]\u001b[0m Trial 25 finished with value: -0.10402238194462195 and parameters: {'max_depth': 7, 'max_leaf_nodes': 948, 'n_estimators': 368}. Best is trial 25 with value: -0.10402238194462195.\u001b[0m\n",
      "\u001b[32m[I 2021-12-08 20:55:51,769]\u001b[0m Trial 26 finished with value: -0.10425819518958879 and parameters: {'max_depth': 6, 'max_leaf_nodes': 922, 'n_estimators': 513}. Best is trial 25 with value: -0.10402238194462195.\u001b[0m\n",
      "\u001b[32m[I 2021-12-08 20:56:04,241]\u001b[0m Trial 27 finished with value: -0.10424921603993102 and parameters: {'max_depth': 8, 'max_leaf_nodes': 937, 'n_estimators': 346}. Best is trial 25 with value: -0.10402238194462195.\u001b[0m\n",
      "\u001b[32m[I 2021-12-08 20:56:14,838]\u001b[0m Trial 28 finished with value: -0.10427702781256268 and parameters: {'max_depth': 8, 'max_leaf_nodes': 1000, 'n_estimators': 304}. Best is trial 25 with value: -0.10402238194462195.\u001b[0m\n",
      "\u001b[32m[I 2021-12-08 20:56:20,541]\u001b[0m Trial 29 finished with value: -0.12117365975162361 and parameters: {'max_depth': 2, 'max_leaf_nodes': 995, 'n_estimators': 440}. Best is trial 25 with value: -0.10402238194462195.\u001b[0m\n",
      "\u001b[32m[I 2021-12-08 20:56:50,576]\u001b[0m Trial 30 finished with value: -0.10473884115913945 and parameters: {'max_depth': 9, 'max_leaf_nodes': 731, 'n_estimators': 776}. Best is trial 25 with value: -0.10402238194462195.\u001b[0m\n",
      "\u001b[32m[I 2021-12-08 20:56:58,525]\u001b[0m Trial 31 finished with value: -0.10406831446390677 and parameters: {'max_depth': 7, 'max_leaf_nodes': 810, 'n_estimators': 250}. Best is trial 25 with value: -0.10402238194462195.\u001b[0m\n",
      "\u001b[32m[I 2021-12-08 20:57:20,243]\u001b[0m Trial 32 finished with value: -0.1052800423063017 and parameters: {'max_depth': 5, 'max_leaf_nodes': 601, 'n_estimators': 873}. Best is trial 25 with value: -0.10402238194462195.\u001b[0m\n",
      "\u001b[32m[I 2021-12-08 20:57:27,657]\u001b[0m Trial 33 finished with value: -0.10524630557940862 and parameters: {'max_depth': 5, 'max_leaf_nodes': 966, 'n_estimators': 286}. Best is trial 25 with value: -0.10402238194462195.\u001b[0m\n",
      "\u001b[32m[I 2021-12-08 20:57:45,707]\u001b[0m Trial 34 finished with value: -0.10427341977058813 and parameters: {'max_depth': 8, 'max_leaf_nodes': 784, 'n_estimators': 499}. Best is trial 25 with value: -0.10402238194462195.\u001b[0m\n",
      "\u001b[32m[I 2021-12-08 20:58:00,533]\u001b[0m Trial 35 finished with value: -0.1040472344873895 and parameters: {'max_depth': 7, 'max_leaf_nodes': 885, 'n_estimators': 470}. Best is trial 25 with value: -0.10402238194462195.\u001b[0m\n",
      "\u001b[32m[I 2021-12-08 20:58:11,352]\u001b[0m Trial 36 finished with value: -0.10525291959759209 and parameters: {'max_depth': 5, 'max_leaf_nodes': 773, 'n_estimators': 440}. Best is trial 25 with value: -0.10402238194462195.\u001b[0m\n",
      "\u001b[32m[I 2021-12-08 20:58:20,299]\u001b[0m Trial 37 finished with value: -0.10423804846530656 and parameters: {'max_depth': 6, 'max_leaf_nodes': 701, 'n_estimators': 316}. Best is trial 25 with value: -0.10402238194462195.\u001b[0m\n",
      "\u001b[32m[I 2021-12-08 20:58:39,311]\u001b[0m Trial 38 finished with value: -0.1042709794710813 and parameters: {'max_depth': 6, 'max_leaf_nodes': 713, 'n_estimators': 668}. Best is trial 25 with value: -0.10402238194462195.\u001b[0m\n",
      "\u001b[32m[I 2021-12-08 20:58:57,207]\u001b[0m Trial 39 finished with value: -0.1040419713325768 and parameters: {'max_depth': 7, 'max_leaf_nodes': 802, 'n_estimators': 558}. Best is trial 25 with value: -0.10402238194462195.\u001b[0m\n",
      "\u001b[32m[I 2021-12-08 20:58:58,398]\u001b[0m Trial 40 finished with value: -0.1338098575637961 and parameters: {'max_depth': 1, 'max_leaf_nodes': 667, 'n_estimators': 111}. Best is trial 25 with value: -0.10402238194462195.\u001b[0m\n",
      "\u001b[32m[I 2021-12-08 20:59:15,563]\u001b[0m Trial 41 finished with value: -0.10403675149317793 and parameters: {'max_depth': 7, 'max_leaf_nodes': 843, 'n_estimators': 544}. Best is trial 25 with value: -0.10402238194462195.\u001b[0m\n",
      "\u001b[32m[I 2021-12-08 20:59:34,253]\u001b[0m Trial 42 finished with value: -0.10427111814787093 and parameters: {'max_depth': 6, 'max_leaf_nodes': 838, 'n_estimators': 662}. Best is trial 25 with value: -0.10402238194462195.\u001b[0m\n",
      "\u001b[32m[I 2021-12-08 20:59:50,498]\u001b[0m Trial 43 finished with value: -0.1042543018998698 and parameters: {'max_depth': 8, 'max_leaf_nodes': 819, 'n_estimators': 459}. Best is trial 25 with value: -0.10402238194462195.\u001b[0m\n",
      "\u001b[32m[I 2021-12-08 21:00:13,510]\u001b[0m Trial 44 finished with value: -0.1042586122457789 and parameters: {'max_depth': 8, 'max_leaf_nodes': 860, 'n_estimators': 641}. Best is trial 25 with value: -0.10402238194462195.\u001b[0m\n",
      "\u001b[32m[I 2021-12-08 21:00:30,976]\u001b[0m Trial 45 finished with value: -0.1040255645255272 and parameters: {'max_depth': 7, 'max_leaf_nodes': 783, 'n_estimators': 526}. Best is trial 25 with value: -0.10402238194462195.\u001b[0m\n",
      "\u001b[32m[I 2021-12-08 21:00:50,258]\u001b[0m Trial 46 finished with value: -0.10426138449860449 and parameters: {'max_depth': 8, 'max_leaf_nodes': 742, 'n_estimators': 524}. Best is trial 25 with value: -0.10402238194462195.\u001b[0m\n",
      "\u001b[32m[I 2021-12-08 21:01:15,237]\u001b[0m Trial 47 finished with value: -0.10526771494108049 and parameters: {'max_depth': 5, 'max_leaf_nodes': 996, 'n_estimators': 976}. Best is trial 25 with value: -0.10402238194462195.\u001b[0m\n",
      "\u001b[32m[I 2021-12-08 21:01:33,638]\u001b[0m Trial 48 finished with value: -0.10426803587744563 and parameters: {'max_depth': 6, 'max_leaf_nodes': 773, 'n_estimators': 647}. Best is trial 25 with value: -0.10402238194462195.\u001b[0m\n",
      "\u001b[32m[I 2021-12-08 21:01:49,377]\u001b[0m Trial 49 finished with value: -0.10425613172791151 and parameters: {'max_depth': 6, 'max_leaf_nodes': 830, 'n_estimators': 539}. Best is trial 25 with value: -0.10402238194462195.\u001b[0m\n"
     ]
    }
   ],
   "source": [
    "# Hyperparameter tuning using optuna \n",
    "def objective(trial):\n",
    "    params = {'model__regressor__max_depth':trial.suggest_int('max_depth', 1, 10),\n",
    "              'model__regressor__max_leaf_nodes':trial.suggest_int('max_leaf_nodes', 600, 1000),\n",
    "              'model__regressor__n_estimators':trial.suggest_int('n_estimators', 30, 1000)}\n",
    "    \n",
    "    model_rf = Pipeline(steps=[('preprocessor', preprocessor),\n",
    "                                  ('model', TransformedTargetRegressor(RandomForestRegressor(random_state=123), func=np.log, inverse_func=np.exp))])\n",
    "    model_rf.set_params(**params)   \n",
    "    score = cross_val_score(model_rf, X_train, np.log(y_train), cv=5, scoring='neg_mean_squared_error')\n",
    "    mse = score.mean()\n",
    "\n",
    "    return mse\n",
    "sampler = TPESampler(multivariate=True)\n",
    "study = optuna.create_study(sampler=sampler, direction='maximize')\n",
    "study.optimize(objective, n_trials=50)\n"
   ]
  },
  {
   "cell_type": "code",
   "execution_count": 13,
   "metadata": {},
   "outputs": [],
   "source": [
    "model_rf = Pipeline(steps=[('preprocessor', preprocessor),\n",
    "                                  ('model', RandomForestRegressor(random_state=123))])\n",
    "model_rf['model'].set_params(**study.best_params)\n",
    "df_rf_cv_metrics = pd.DataFrame(cross_validate(model_rf,\n",
    "                                        X_train,\n",
    "                                        y_train, \n",
    "                                        scoring=['neg_mean_absolute_error', 'neg_mean_absolute_percentage_error'], \n",
    "                                        return_train_score=True, cv=10))"
   ]
  },
  {
   "cell_type": "code",
   "execution_count": 14,
   "metadata": {},
   "outputs": [
    {
     "data": {
      "text/html": [
       "<div>\n",
       "<style scoped>\n",
       "    .dataframe tbody tr th:only-of-type {\n",
       "        vertical-align: middle;\n",
       "    }\n",
       "\n",
       "    .dataframe tbody tr th {\n",
       "        vertical-align: top;\n",
       "    }\n",
       "\n",
       "    .dataframe thead th {\n",
       "        text-align: right;\n",
       "    }\n",
       "</style>\n",
       "<table border=\"1\" class=\"dataframe\">\n",
       "  <thead>\n",
       "    <tr style=\"text-align: right;\">\n",
       "      <th></th>\n",
       "      <th>fit_time</th>\n",
       "      <th>score_time</th>\n",
       "      <th>test_neg_mean_absolute_error</th>\n",
       "      <th>train_neg_mean_absolute_error</th>\n",
       "      <th>test_neg_mean_absolute_percentage_error</th>\n",
       "      <th>train_neg_mean_absolute_percentage_error</th>\n",
       "    </tr>\n",
       "  </thead>\n",
       "  <tbody>\n",
       "    <tr>\n",
       "      <th>0</th>\n",
       "      <td>2.578422</td>\n",
       "      <td>0.043047</td>\n",
       "      <td>-19.755650</td>\n",
       "      <td>-18.294765</td>\n",
       "      <td>-0.276865</td>\n",
       "      <td>-0.256919</td>\n",
       "    </tr>\n",
       "    <tr>\n",
       "      <th>1</th>\n",
       "      <td>2.599762</td>\n",
       "      <td>0.044312</td>\n",
       "      <td>-19.484809</td>\n",
       "      <td>-18.328173</td>\n",
       "      <td>-0.278720</td>\n",
       "      <td>-0.257886</td>\n",
       "    </tr>\n",
       "    <tr>\n",
       "      <th>2</th>\n",
       "      <td>2.634121</td>\n",
       "      <td>0.041394</td>\n",
       "      <td>-20.749369</td>\n",
       "      <td>-18.166565</td>\n",
       "      <td>-0.285864</td>\n",
       "      <td>-0.255367</td>\n",
       "    </tr>\n",
       "    <tr>\n",
       "      <th>3</th>\n",
       "      <td>2.563715</td>\n",
       "      <td>0.043085</td>\n",
       "      <td>-18.585874</td>\n",
       "      <td>-18.424362</td>\n",
       "      <td>-0.257024</td>\n",
       "      <td>-0.259352</td>\n",
       "    </tr>\n",
       "    <tr>\n",
       "      <th>4</th>\n",
       "      <td>2.581132</td>\n",
       "      <td>0.041065</td>\n",
       "      <td>-20.058745</td>\n",
       "      <td>-18.227328</td>\n",
       "      <td>-0.292076</td>\n",
       "      <td>-0.256293</td>\n",
       "    </tr>\n",
       "    <tr>\n",
       "      <th>5</th>\n",
       "      <td>2.567649</td>\n",
       "      <td>0.044509</td>\n",
       "      <td>-20.456459</td>\n",
       "      <td>-18.211820</td>\n",
       "      <td>-0.273080</td>\n",
       "      <td>-0.257228</td>\n",
       "    </tr>\n",
       "    <tr>\n",
       "      <th>6</th>\n",
       "      <td>2.571286</td>\n",
       "      <td>0.051227</td>\n",
       "      <td>-20.879538</td>\n",
       "      <td>-18.179255</td>\n",
       "      <td>-0.290557</td>\n",
       "      <td>-0.255411</td>\n",
       "    </tr>\n",
       "    <tr>\n",
       "      <th>7</th>\n",
       "      <td>2.557800</td>\n",
       "      <td>0.041285</td>\n",
       "      <td>-20.912159</td>\n",
       "      <td>-18.183693</td>\n",
       "      <td>-0.288831</td>\n",
       "      <td>-0.255878</td>\n",
       "    </tr>\n",
       "    <tr>\n",
       "      <th>8</th>\n",
       "      <td>2.522886</td>\n",
       "      <td>0.043346</td>\n",
       "      <td>-19.776110</td>\n",
       "      <td>-18.280314</td>\n",
       "      <td>-0.278725</td>\n",
       "      <td>-0.257278</td>\n",
       "    </tr>\n",
       "    <tr>\n",
       "      <th>9</th>\n",
       "      <td>2.526025</td>\n",
       "      <td>0.053432</td>\n",
       "      <td>-20.441183</td>\n",
       "      <td>-18.153994</td>\n",
       "      <td>-0.280869</td>\n",
       "      <td>-0.255582</td>\n",
       "    </tr>\n",
       "  </tbody>\n",
       "</table>\n",
       "</div>"
      ],
      "text/plain": [
       "   fit_time  score_time  test_neg_mean_absolute_error  \\\n",
       "0  2.578422    0.043047                    -19.755650   \n",
       "1  2.599762    0.044312                    -19.484809   \n",
       "2  2.634121    0.041394                    -20.749369   \n",
       "3  2.563715    0.043085                    -18.585874   \n",
       "4  2.581132    0.041065                    -20.058745   \n",
       "5  2.567649    0.044509                    -20.456459   \n",
       "6  2.571286    0.051227                    -20.879538   \n",
       "7  2.557800    0.041285                    -20.912159   \n",
       "8  2.522886    0.043346                    -19.776110   \n",
       "9  2.526025    0.053432                    -20.441183   \n",
       "\n",
       "   train_neg_mean_absolute_error  test_neg_mean_absolute_percentage_error  \\\n",
       "0                     -18.294765                                -0.276865   \n",
       "1                     -18.328173                                -0.278720   \n",
       "2                     -18.166565                                -0.285864   \n",
       "3                     -18.424362                                -0.257024   \n",
       "4                     -18.227328                                -0.292076   \n",
       "5                     -18.211820                                -0.273080   \n",
       "6                     -18.179255                                -0.290557   \n",
       "7                     -18.183693                                -0.288831   \n",
       "8                     -18.280314                                -0.278725   \n",
       "9                     -18.153994                                -0.280869   \n",
       "\n",
       "   train_neg_mean_absolute_percentage_error  \n",
       "0                                 -0.256919  \n",
       "1                                 -0.257886  \n",
       "2                                 -0.255367  \n",
       "3                                 -0.259352  \n",
       "4                                 -0.256293  \n",
       "5                                 -0.257228  \n",
       "6                                 -0.255411  \n",
       "7                                 -0.255878  \n",
       "8                                 -0.257278  \n",
       "9                                 -0.255582  "
      ]
     },
     "execution_count": 14,
     "metadata": {},
     "output_type": "execute_result"
    }
   ],
   "source": [
    "df_rf_cv_metrics"
   ]
  },
  {
   "cell_type": "code",
   "execution_count": 15,
   "metadata": {},
   "outputs": [
    {
     "name": "stdout",
     "output_type": "stream",
     "text": [
      "Average MAPE - Cross Validation Test: -0.28026104424121495\n",
      "Standard Deviation of MAPE - Cross Validation Test: 0.010320406224479894\n"
     ]
    }
   ],
   "source": [
    "print(f\"Average MAPE - Cross Validation Test: {df_rf_cv_metrics['test_neg_mean_absolute_percentage_error'].mean()}\")\n",
    "print(f\"Standard Deviation of MAPE - Cross Validation Test: {df_rf_cv_metrics['test_neg_mean_absolute_percentage_error'].std()}\")"
   ]
  },
  {
   "cell_type": "code",
   "execution_count": 16,
   "metadata": {},
   "outputs": [
    {
     "data": {
      "text/plain": [
       "Pipeline(steps=[('preprocessor',\n",
       "                 ColumnTransformer(transformers=[('impute_mode_one_hot',\n",
       "                                                  Pipeline(steps=[('impute_mode',\n",
       "                                                                   Pipeline(steps=[('impute_mode',\n",
       "                                                                                    SimpleImputer(strategy='most_frequent'))])),\n",
       "                                                                  ('one_hot',\n",
       "                                                                   Pipeline(steps=[('cat_encoder',\n",
       "                                                                                    OneHotEncoder(handle_unknown='ignore'))]))]),\n",
       "                                                  ['on_demand', 'hour_group']),\n",
       "                                                 ('impute_median',\n",
       "                                                  Pipeline(steps=[('impute_median',\n",
       "                                                                   SimpleImputer(strategy='median'))]),\n",
       "                                                  ['n_distinct_items',\n",
       "                                                   'distance_km',\n",
       "                                                   'found_rate']),\n",
       "                                                 ('impute_zero',\n",
       "                                                  Pipeline(steps=[('impute_zero',\n",
       "                                                                   SimpleImputer(fill_value=0,\n",
       "                                                                                 strategy='constant'))]),\n",
       "                                                  ['sum_kgs',\n",
       "                                                   'sum_unities'])])),\n",
       "                ('model',\n",
       "                 RandomForestRegressor(max_depth=7, max_leaf_nodes=948,\n",
       "                                       n_estimators=368, random_state=123))])"
      ]
     },
     "execution_count": 16,
     "metadata": {},
     "output_type": "execute_result"
    }
   ],
   "source": [
    "model_rf.fit(X_train, y_train)"
   ]
  },
  {
   "cell_type": "code",
   "execution_count": 17,
   "metadata": {},
   "outputs": [
    {
     "name": "stdout",
     "output_type": "stream",
     "text": [
      "About 57.116666666666674% of our predictions are higher than the real value\n"
     ]
    }
   ],
   "source": [
    "# Generating predictions for X_train\n",
    "y_train_rf_predict = model_rf.predict(X_train)\n",
    "# Calculating proportion of overestimation\n",
    "print(f'About {((y_train_rf_predict >= y_train).sum())/len(y_train)*100}% of our predictions are higher than the real value')"
   ]
  },
  {
   "cell_type": "markdown",
   "metadata": {},
   "source": [
    "We see that, despite MAPE is a little worse compared to the baseline, the proportion of overestimated predictions is higher."
   ]
  },
  {
   "cell_type": "markdown",
   "metadata": {},
   "source": [
    "## 1.3) NGBoost "
   ]
  },
  {
   "cell_type": "markdown",
   "metadata": {},
   "source": [
    "Finally, We'll train a NGBoost model, which is capable of outputing a distribution for each prediction, so that We'll be able to calculate prediction interval, what can be really useful in production enviroment, because Cornershop can now give an interval, instead of a point estimation for the time the order will take to complete."
   ]
  },
  {
   "cell_type": "code",
   "execution_count": 18,
   "metadata": {},
   "outputs": [
    {
     "name": "stdout",
     "output_type": "stream",
     "text": [
      "[iter 0] loss=4.8731 val_loss=0.0000 scale=1.0000 norm=0.6300\n",
      "[iter 100] loss=4.6717 val_loss=0.0000 scale=1.0000 norm=0.5447\n",
      "[iter 200] loss=4.5897 val_loss=0.0000 scale=1.0000 norm=0.5485\n",
      "[iter 300] loss=4.5594 val_loss=0.0000 scale=1.0000 norm=0.5618\n",
      "[iter 400] loss=4.5485 val_loss=0.0000 scale=1.0000 norm=0.5678\n",
      "[iter 0] loss=4.8759 val_loss=0.0000 scale=1.0000 norm=0.6297\n",
      "[iter 100] loss=4.6766 val_loss=0.0000 scale=1.0000 norm=0.5445\n",
      "[iter 200] loss=4.5975 val_loss=0.0000 scale=1.0000 norm=0.5475\n",
      "[iter 300] loss=4.5662 val_loss=0.0000 scale=1.0000 norm=0.5597\n",
      "[iter 400] loss=4.5549 val_loss=0.0000 scale=2.0000 norm=1.1334\n",
      "[iter 0] loss=4.8676 val_loss=0.0000 scale=1.0000 norm=0.6267\n",
      "[iter 100] loss=4.6655 val_loss=0.0000 scale=1.0000 norm=0.5406\n",
      "[iter 200] loss=4.5803 val_loss=0.0000 scale=1.0000 norm=0.5465\n",
      "[iter 300] loss=4.5531 val_loss=0.0000 scale=1.0000 norm=0.5593\n",
      "[iter 400] loss=4.5430 val_loss=0.0000 scale=2.0000 norm=1.1300\n",
      "[iter 0] loss=4.8758 val_loss=0.0000 scale=1.0000 norm=0.6284\n",
      "[iter 100] loss=4.6740 val_loss=0.0000 scale=1.0000 norm=0.5415\n",
      "[iter 200] loss=4.5920 val_loss=0.0000 scale=1.0000 norm=0.5462\n",
      "[iter 300] loss=4.5625 val_loss=0.0000 scale=1.0000 norm=0.5597\n",
      "[iter 400] loss=4.5513 val_loss=0.0000 scale=1.0000 norm=0.5658\n",
      "[iter 0] loss=4.8687 val_loss=0.0000 scale=1.0000 norm=0.6278\n",
      "[iter 100] loss=4.6704 val_loss=0.0000 scale=1.0000 norm=0.5433\n",
      "[iter 200] loss=4.5780 val_loss=0.0000 scale=2.0000 norm=1.1001\n",
      "[iter 300] loss=4.5546 val_loss=0.0000 scale=1.0000 norm=0.5625\n",
      "[iter 400] loss=4.5457 val_loss=0.0000 scale=2.0000 norm=1.1330\n",
      "[iter 0] loss=4.8659 val_loss=0.0000 scale=1.0000 norm=0.6291\n",
      "[iter 100] loss=4.6670 val_loss=0.0000 scale=1.0000 norm=0.5453\n",
      "[iter 200] loss=4.5766 val_loss=0.0000 scale=1.0000 norm=0.5520\n",
      "[iter 300] loss=4.5524 val_loss=0.0000 scale=2.0000 norm=1.1295\n",
      "[iter 400] loss=4.5433 val_loss=0.0000 scale=1.0000 norm=0.5694\n",
      "[iter 0] loss=4.8693 val_loss=0.0000 scale=1.0000 norm=0.6284\n",
      "[iter 100] loss=4.6671 val_loss=0.0000 scale=1.0000 norm=0.5420\n",
      "[iter 200] loss=4.5791 val_loss=0.0000 scale=1.0000 norm=0.5479\n",
      "[iter 300] loss=4.5530 val_loss=0.0000 scale=2.0000 norm=1.1217\n",
      "[iter 400] loss=4.5430 val_loss=0.0000 scale=1.0000 norm=0.5662\n",
      "[iter 0] loss=4.8630 val_loss=0.0000 scale=1.0000 norm=0.6269\n",
      "[iter 100] loss=4.6619 val_loss=0.0000 scale=1.0000 norm=0.5415\n",
      "[iter 200] loss=4.5800 val_loss=0.0000 scale=1.0000 norm=0.5473\n",
      "[iter 300] loss=4.5527 val_loss=0.0000 scale=1.0000 norm=0.5603\n",
      "[iter 400] loss=4.5427 val_loss=0.0000 scale=1.0000 norm=0.5664\n",
      "[iter 0] loss=4.8729 val_loss=0.0000 scale=1.0000 norm=0.6300\n",
      "[iter 100] loss=4.6731 val_loss=0.0000 scale=1.0000 norm=0.5448\n",
      "[iter 200] loss=4.5912 val_loss=0.0000 scale=1.0000 norm=0.5491\n",
      "[iter 300] loss=4.5603 val_loss=0.0000 scale=1.0000 norm=0.5629\n",
      "[iter 400] loss=4.5500 val_loss=0.0000 scale=1.0000 norm=0.5687\n",
      "[iter 0] loss=4.8700 val_loss=0.0000 scale=1.0000 norm=0.6287\n",
      "[iter 100] loss=4.6660 val_loss=0.0000 scale=1.0000 norm=0.5418\n",
      "[iter 200] loss=4.5834 val_loss=0.0000 scale=1.0000 norm=0.5462\n",
      "[iter 300] loss=4.5540 val_loss=0.0000 scale=2.0000 norm=1.1190\n",
      "[iter 400] loss=4.5436 val_loss=0.0000 scale=1.0000 norm=0.5659\n"
     ]
    }
   ],
   "source": [
    "model_nb = Pipeline(steps=[('preprocessor', preprocessor),\n",
    "                           ('model',NGBRegressor(Base=DecisionTreeRegressor(max_depth=5, min_samples_leaf=600,random_state=123),\n",
    "                                                 random_state=123,\n",
    "                                                Dist=LogNormal))])\n",
    "df_rf_nb_metrics = pd.DataFrame(cross_validate(model_nb,\n",
    "                                        X_train,\n",
    "                                        y_train, \n",
    "                                        scoring=['neg_mean_absolute_error', 'neg_mean_absolute_percentage_error'], \n",
    "                                        return_train_score=True, cv=10))"
   ]
  },
  {
   "cell_type": "code",
   "execution_count": 19,
   "metadata": {},
   "outputs": [
    {
     "data": {
      "text/html": [
       "<div>\n",
       "<style scoped>\n",
       "    .dataframe tbody tr th:only-of-type {\n",
       "        vertical-align: middle;\n",
       "    }\n",
       "\n",
       "    .dataframe tbody tr th {\n",
       "        vertical-align: top;\n",
       "    }\n",
       "\n",
       "    .dataframe thead th {\n",
       "        text-align: right;\n",
       "    }\n",
       "</style>\n",
       "<table border=\"1\" class=\"dataframe\">\n",
       "  <thead>\n",
       "    <tr style=\"text-align: right;\">\n",
       "      <th></th>\n",
       "      <th>fit_time</th>\n",
       "      <th>score_time</th>\n",
       "      <th>test_neg_mean_absolute_error</th>\n",
       "      <th>train_neg_mean_absolute_error</th>\n",
       "      <th>test_neg_mean_absolute_percentage_error</th>\n",
       "      <th>train_neg_mean_absolute_percentage_error</th>\n",
       "    </tr>\n",
       "  </thead>\n",
       "  <tbody>\n",
       "    <tr>\n",
       "      <th>0</th>\n",
       "      <td>12.631492</td>\n",
       "      <td>0.112894</td>\n",
       "      <td>-19.877955</td>\n",
       "      <td>-19.931487</td>\n",
       "      <td>-0.276375</td>\n",
       "      <td>-0.274594</td>\n",
       "    </tr>\n",
       "    <tr>\n",
       "      <th>1</th>\n",
       "      <td>12.659264</td>\n",
       "      <td>0.118663</td>\n",
       "      <td>-19.136172</td>\n",
       "      <td>-20.036376</td>\n",
       "      <td>-0.271892</td>\n",
       "      <td>-0.276238</td>\n",
       "    </tr>\n",
       "    <tr>\n",
       "      <th>2</th>\n",
       "      <td>12.139647</td>\n",
       "      <td>0.108349</td>\n",
       "      <td>-21.170471</td>\n",
       "      <td>-19.800007</td>\n",
       "      <td>-0.286607</td>\n",
       "      <td>-0.273285</td>\n",
       "    </tr>\n",
       "    <tr>\n",
       "      <th>3</th>\n",
       "      <td>11.838704</td>\n",
       "      <td>0.108441</td>\n",
       "      <td>-18.852807</td>\n",
       "      <td>-20.015819</td>\n",
       "      <td>-0.257770</td>\n",
       "      <td>-0.276485</td>\n",
       "    </tr>\n",
       "    <tr>\n",
       "      <th>4</th>\n",
       "      <td>12.296865</td>\n",
       "      <td>0.104802</td>\n",
       "      <td>-20.453957</td>\n",
       "      <td>-19.853026</td>\n",
       "      <td>-0.293276</td>\n",
       "      <td>-0.273466</td>\n",
       "    </tr>\n",
       "    <tr>\n",
       "      <th>5</th>\n",
       "      <td>12.243917</td>\n",
       "      <td>0.114186</td>\n",
       "      <td>-20.642691</td>\n",
       "      <td>-19.814938</td>\n",
       "      <td>-0.272081</td>\n",
       "      <td>-0.274633</td>\n",
       "    </tr>\n",
       "    <tr>\n",
       "      <th>6</th>\n",
       "      <td>12.697415</td>\n",
       "      <td>0.113073</td>\n",
       "      <td>-20.981803</td>\n",
       "      <td>-19.835037</td>\n",
       "      <td>-0.289344</td>\n",
       "      <td>-0.273698</td>\n",
       "    </tr>\n",
       "    <tr>\n",
       "      <th>7</th>\n",
       "      <td>12.604541</td>\n",
       "      <td>0.105242</td>\n",
       "      <td>-21.062606</td>\n",
       "      <td>-19.815347</td>\n",
       "      <td>-0.291492</td>\n",
       "      <td>-0.273370</td>\n",
       "    </tr>\n",
       "    <tr>\n",
       "      <th>8</th>\n",
       "      <td>12.602217</td>\n",
       "      <td>0.109197</td>\n",
       "      <td>-19.987676</td>\n",
       "      <td>-19.921240</td>\n",
       "      <td>-0.280282</td>\n",
       "      <td>-0.275080</td>\n",
       "    </tr>\n",
       "    <tr>\n",
       "      <th>9</th>\n",
       "      <td>12.422642</td>\n",
       "      <td>0.117842</td>\n",
       "      <td>-20.875762</td>\n",
       "      <td>-19.820506</td>\n",
       "      <td>-0.284186</td>\n",
       "      <td>-0.273671</td>\n",
       "    </tr>\n",
       "  </tbody>\n",
       "</table>\n",
       "</div>"
      ],
      "text/plain": [
       "    fit_time  score_time  test_neg_mean_absolute_error  \\\n",
       "0  12.631492    0.112894                    -19.877955   \n",
       "1  12.659264    0.118663                    -19.136172   \n",
       "2  12.139647    0.108349                    -21.170471   \n",
       "3  11.838704    0.108441                    -18.852807   \n",
       "4  12.296865    0.104802                    -20.453957   \n",
       "5  12.243917    0.114186                    -20.642691   \n",
       "6  12.697415    0.113073                    -20.981803   \n",
       "7  12.604541    0.105242                    -21.062606   \n",
       "8  12.602217    0.109197                    -19.987676   \n",
       "9  12.422642    0.117842                    -20.875762   \n",
       "\n",
       "   train_neg_mean_absolute_error  test_neg_mean_absolute_percentage_error  \\\n",
       "0                     -19.931487                                -0.276375   \n",
       "1                     -20.036376                                -0.271892   \n",
       "2                     -19.800007                                -0.286607   \n",
       "3                     -20.015819                                -0.257770   \n",
       "4                     -19.853026                                -0.293276   \n",
       "5                     -19.814938                                -0.272081   \n",
       "6                     -19.835037                                -0.289344   \n",
       "7                     -19.815347                                -0.291492   \n",
       "8                     -19.921240                                -0.280282   \n",
       "9                     -19.820506                                -0.284186   \n",
       "\n",
       "   train_neg_mean_absolute_percentage_error  \n",
       "0                                 -0.274594  \n",
       "1                                 -0.276238  \n",
       "2                                 -0.273285  \n",
       "3                                 -0.276485  \n",
       "4                                 -0.273466  \n",
       "5                                 -0.274633  \n",
       "6                                 -0.273698  \n",
       "7                                 -0.273370  \n",
       "8                                 -0.275080  \n",
       "9                                 -0.273671  "
      ]
     },
     "execution_count": 19,
     "metadata": {},
     "output_type": "execute_result"
    }
   ],
   "source": [
    "df_rf_nb_metrics"
   ]
  },
  {
   "cell_type": "code",
   "execution_count": 20,
   "metadata": {},
   "outputs": [
    {
     "name": "stdout",
     "output_type": "stream",
     "text": [
      "Average MAPE - Cross Validation Test: -0.2803305443860043\n",
      "Standard Deviation of MAPE - Cross Validation Test: 0.011013031804846442\n"
     ]
    }
   ],
   "source": [
    "print(f\"Average MAPE - Cross Validation Test: {df_rf_nb_metrics['test_neg_mean_absolute_percentage_error'].mean()}\")\n",
    "print(f\"Standard Deviation of MAPE - Cross Validation Test: {df_rf_nb_metrics['test_neg_mean_absolute_percentage_error'].std()}\")"
   ]
  },
  {
   "cell_type": "code",
   "execution_count": 21,
   "metadata": {},
   "outputs": [
    {
     "name": "stdout",
     "output_type": "stream",
     "text": [
      "[iter 0] loss=4.8702 val_loss=0.0000 scale=1.0000 norm=0.6286\n",
      "[iter 100] loss=4.6638 val_loss=0.0000 scale=1.0000 norm=0.5410\n",
      "[iter 200] loss=4.5812 val_loss=0.0000 scale=2.0000 norm=1.0922\n",
      "[iter 300] loss=4.5515 val_loss=0.0000 scale=1.0000 norm=0.5613\n",
      "[iter 400] loss=4.5426 val_loss=0.0000 scale=2.0000 norm=1.1339\n"
     ]
    },
    {
     "data": {
      "text/plain": [
       "Pipeline(steps=[('preprocessor',\n",
       "                 ColumnTransformer(transformers=[('impute_mode_one_hot',\n",
       "                                                  Pipeline(steps=[('impute_mode',\n",
       "                                                                   Pipeline(steps=[('impute_mode',\n",
       "                                                                                    SimpleImputer(strategy='most_frequent'))])),\n",
       "                                                                  ('one_hot',\n",
       "                                                                   Pipeline(steps=[('cat_encoder',\n",
       "                                                                                    OneHotEncoder(handle_unknown='ignore'))]))]),\n",
       "                                                  ['on_demand', 'hour_group']),\n",
       "                                                 ('impute_median',\n",
       "                                                  Pipeline(steps=[('impute_...\n",
       "                                                 ('impute_zero',\n",
       "                                                  Pipeline(steps=[('impute_zero',\n",
       "                                                                   SimpleImputer(fill_value=0,\n",
       "                                                                                 strategy='constant'))]),\n",
       "                                                  ['sum_kgs',\n",
       "                                                   'sum_unities'])])),\n",
       "                ('model',\n",
       "                 NGBRegressor(Base=DecisionTreeRegressor(max_depth=5,\n",
       "                                                         min_samples_leaf=600,\n",
       "                                                         random_state=123),\n",
       "                              Dist=<class 'ngboost.distns.distn.Distn.uncensor.<locals>.DistWithUncensoredScore'>,\n",
       "                              random_state=RandomState(MT19937) at 0x16443DB40))])"
      ]
     },
     "execution_count": 21,
     "metadata": {},
     "output_type": "execute_result"
    }
   ],
   "source": [
    "model_nb.fit(X_train, y_train)\n"
   ]
  },
  {
   "cell_type": "code",
   "execution_count": 22,
   "metadata": {},
   "outputs": [
    {
     "name": "stdout",
     "output_type": "stream",
     "text": [
      "About 57.41666666666667% of our predictions are higher than the real value\n"
     ]
    }
   ],
   "source": [
    "y_train_nb_predict = model_nb.predict(X_train)\n",
    "print(f'About {((y_train_nb_predict >= y_train).sum())/len(y_train)*100}% of our predictions are higher than the real value')"
   ]
  },
  {
   "cell_type": "markdown",
   "metadata": {},
   "source": [
    "To generate prediction interval, We'll need to apply `.pred_dist()` method and then extract the distribution parameters for each prediction."
   ]
  },
  {
   "cell_type": "code",
   "execution_count": 23,
   "metadata": {},
   "outputs": [],
   "source": [
    "# preprocessing step\n",
    "X_train_preprocessed = model_nb['preprocessor'].transform(X_train)\n",
    "# get parameters \n",
    "y_train_prob = model_nb['model'].pred_dist(X_train_preprocessed).params\n",
    "predictions = pd.DataFrame(y_train_prob)\n"
   ]
  },
  {
   "cell_type": "code",
   "execution_count": 24,
   "metadata": {},
   "outputs": [
    {
     "data": {
      "text/html": [
       "<div>\n",
       "<style scoped>\n",
       "    .dataframe tbody tr th:only-of-type {\n",
       "        vertical-align: middle;\n",
       "    }\n",
       "\n",
       "    .dataframe tbody tr th {\n",
       "        vertical-align: top;\n",
       "    }\n",
       "\n",
       "    .dataframe thead th {\n",
       "        text-align: right;\n",
       "    }\n",
       "</style>\n",
       "<table border=\"1\" class=\"dataframe\">\n",
       "  <thead>\n",
       "    <tr style=\"text-align: right;\">\n",
       "      <th></th>\n",
       "      <th>s</th>\n",
       "      <th>scale</th>\n",
       "    </tr>\n",
       "  </thead>\n",
       "  <tbody>\n",
       "    <tr>\n",
       "      <th>0</th>\n",
       "      <td>0.390934</td>\n",
       "      <td>44.356750</td>\n",
       "    </tr>\n",
       "    <tr>\n",
       "      <th>1</th>\n",
       "      <td>0.260647</td>\n",
       "      <td>123.058273</td>\n",
       "    </tr>\n",
       "    <tr>\n",
       "      <th>2</th>\n",
       "      <td>0.408346</td>\n",
       "      <td>56.740349</td>\n",
       "    </tr>\n",
       "    <tr>\n",
       "      <th>3</th>\n",
       "      <td>0.234675</td>\n",
       "      <td>107.306261</td>\n",
       "    </tr>\n",
       "    <tr>\n",
       "      <th>4</th>\n",
       "      <td>0.330448</td>\n",
       "      <td>84.836854</td>\n",
       "    </tr>\n",
       "    <tr>\n",
       "      <th>...</th>\n",
       "      <td>...</td>\n",
       "      <td>...</td>\n",
       "    </tr>\n",
       "    <tr>\n",
       "      <th>5995</th>\n",
       "      <td>0.338832</td>\n",
       "      <td>55.881411</td>\n",
       "    </tr>\n",
       "    <tr>\n",
       "      <th>5996</th>\n",
       "      <td>0.327237</td>\n",
       "      <td>75.126496</td>\n",
       "    </tr>\n",
       "    <tr>\n",
       "      <th>5997</th>\n",
       "      <td>0.394121</td>\n",
       "      <td>48.546872</td>\n",
       "    </tr>\n",
       "    <tr>\n",
       "      <th>5998</th>\n",
       "      <td>0.292796</td>\n",
       "      <td>71.703699</td>\n",
       "    </tr>\n",
       "    <tr>\n",
       "      <th>5999</th>\n",
       "      <td>0.261597</td>\n",
       "      <td>82.587356</td>\n",
       "    </tr>\n",
       "  </tbody>\n",
       "</table>\n",
       "<p>6000 rows × 2 columns</p>\n",
       "</div>"
      ],
      "text/plain": [
       "             s       scale\n",
       "0     0.390934   44.356750\n",
       "1     0.260647  123.058273\n",
       "2     0.408346   56.740349\n",
       "3     0.234675  107.306261\n",
       "4     0.330448   84.836854\n",
       "...        ...         ...\n",
       "5995  0.338832   55.881411\n",
       "5996  0.327237   75.126496\n",
       "5997  0.394121   48.546872\n",
       "5998  0.292796   71.703699\n",
       "5999  0.261597   82.587356\n",
       "\n",
       "[6000 rows x 2 columns]"
      ]
     },
     "execution_count": 24,
     "metadata": {},
     "output_type": "execute_result"
    }
   ],
   "source": [
    "predictions"
   ]
  },
  {
   "cell_type": "markdown",
   "metadata": {},
   "source": [
    "For each row We have `s` and `scale` values. As We defined the target to have a normal distribution, We can apply these parameters and get the interval using `scipy`"
   ]
  },
  {
   "cell_type": "code",
   "execution_count": 25,
   "metadata": {},
   "outputs": [],
   "source": [
    "\n",
    "#create 95% confidence interval \n",
    "predictions['interval'] = predictions.apply(lambda x: st.lognorm.interval(alpha=0.95, s=x['s'], scale=x['scale']), axis=1)\n"
   ]
  },
  {
   "cell_type": "code",
   "execution_count": 73,
   "metadata": {},
   "outputs": [
    {
     "data": {
      "text/plain": [
       "(20.615620568217647, 95.43837093908799)"
      ]
     },
     "execution_count": 73,
     "metadata": {},
     "output_type": "execute_result"
    }
   ],
   "source": [
    "pd.DataFrame(predictions.loc[0,:]).T['interval'][0]"
   ]
  },
  {
   "cell_type": "markdown",
   "metadata": {},
   "source": [
    "Note that the interval is pretty large in some cases, which says that We need more data and more features to accomplish the task completely"
   ]
  },
  {
   "cell_type": "markdown",
   "metadata": {},
   "source": [
    "NGBoost performed worse than `Random Forest Regressor` and `Linear Regression` comparing `MAPE`. When It comes `Overestimation Rate`, NGBoost is the best model. Because the differente in MAPE is not so large between models and Overestimation Rate can impact a lot in User Journey/Experience, We will choose NGBoost. Besides, NGBoost is able to give distributions instead of point estimates, so We'll be able to estimate confidence intervals, that may be more suitable in delivery applications."
   ]
  },
  {
   "cell_type": "markdown",
   "metadata": {},
   "source": [
    "# 2) Evaluation"
   ]
  },
  {
   "cell_type": "markdown",
   "metadata": {},
   "source": [
    "### 2.1) Learning Curve"
   ]
  },
  {
   "cell_type": "code",
   "execution_count": 27,
   "metadata": {},
   "outputs": [
    {
     "name": "stdout",
     "output_type": "stream",
     "text": [
      "[iter 0] loss=4.8250 val_loss=0.0000 scale=512.0000 norm=316.1187\n",
      "== Quitting at iteration / GRAD 0\n",
      "[iter 0] loss=4.8493 val_loss=0.0000 scale=1.0000 norm=0.6324\n",
      "[iter 100] loss=4.7143 val_loss=0.0000 scale=2.0000 norm=1.1536\n",
      "[iter 200] loss=4.6614 val_loss=0.0000 scale=1.0000 norm=0.5800\n",
      "[iter 300] loss=4.6381 val_loss=0.0000 scale=2.0000 norm=1.1670\n",
      "[iter 400] loss=4.6246 val_loss=0.0000 scale=2.0000 norm=1.1710\n",
      "[iter 0] loss=4.8654 val_loss=0.0000 scale=1.0000 norm=0.6309\n",
      "[iter 100] loss=4.6833 val_loss=0.0000 scale=1.0000 norm=0.5537\n",
      "[iter 200] loss=4.6179 val_loss=0.0000 scale=1.0000 norm=0.5533\n",
      "[iter 300] loss=4.5859 val_loss=0.0000 scale=1.0000 norm=0.5620\n",
      "[iter 400] loss=4.5711 val_loss=0.0000 scale=1.0000 norm=0.5693\n",
      "[iter 0] loss=4.8773 val_loss=0.0000 scale=1.0000 norm=0.6323\n",
      "[iter 100] loss=4.6774 val_loss=0.0000 scale=1.0000 norm=0.5478\n",
      "[iter 200] loss=4.5970 val_loss=0.0000 scale=2.0000 norm=1.1042\n",
      "[iter 300] loss=4.5677 val_loss=0.0000 scale=1.0000 norm=0.5653\n",
      "[iter 400] loss=4.5568 val_loss=0.0000 scale=1.0000 norm=0.5719\n",
      "[iter 0] loss=4.8731 val_loss=0.0000 scale=1.0000 norm=0.6300\n",
      "[iter 100] loss=4.6717 val_loss=0.0000 scale=1.0000 norm=0.5447\n",
      "[iter 200] loss=4.5897 val_loss=0.0000 scale=1.0000 norm=0.5485\n",
      "[iter 300] loss=4.5594 val_loss=0.0000 scale=1.0000 norm=0.5618\n",
      "[iter 400] loss=4.5485 val_loss=0.0000 scale=1.0000 norm=0.5678\n",
      "[iter 0] loss=4.8487 val_loss=0.0000 scale=256.0000 norm=158.0449\n",
      "== Quitting at iteration / GRAD 0\n",
      "[iter 0] loss=4.8581 val_loss=0.0000 scale=1.0000 norm=0.6313\n",
      "[iter 100] loss=4.7178 val_loss=0.0000 scale=1.0000 norm=0.5740\n",
      "[iter 200] loss=4.6691 val_loss=0.0000 scale=2.0000 norm=1.1546\n",
      "[iter 300] loss=4.6464 val_loss=0.0000 scale=1.0000 norm=0.5801\n",
      "[iter 400] loss=4.6333 val_loss=0.0000 scale=1.0000 norm=0.5818\n",
      "[iter 0] loss=4.8705 val_loss=0.0000 scale=1.0000 norm=0.6303\n",
      "[iter 100] loss=4.6919 val_loss=0.0000 scale=1.0000 norm=0.5519\n",
      "[iter 200] loss=4.6221 val_loss=0.0000 scale=1.0000 norm=0.5498\n",
      "[iter 300] loss=4.5895 val_loss=0.0000 scale=1.0000 norm=0.5585\n",
      "[iter 400] loss=4.5751 val_loss=0.0000 scale=2.0000 norm=1.1300\n",
      "[iter 0] loss=4.8809 val_loss=0.0000 scale=1.0000 norm=0.6319\n",
      "[iter 100] loss=4.6822 val_loss=0.0000 scale=1.0000 norm=0.5467\n",
      "[iter 200] loss=4.6016 val_loss=0.0000 scale=2.0000 norm=1.1023\n",
      "[iter 300] loss=4.5730 val_loss=0.0000 scale=1.0000 norm=0.5637\n",
      "[iter 400] loss=4.5623 val_loss=0.0000 scale=1.0000 norm=0.5702\n",
      "[iter 0] loss=4.8759 val_loss=0.0000 scale=1.0000 norm=0.6297\n",
      "[iter 100] loss=4.6766 val_loss=0.0000 scale=1.0000 norm=0.5445\n",
      "[iter 200] loss=4.5975 val_loss=0.0000 scale=1.0000 norm=0.5475\n",
      "[iter 300] loss=4.5662 val_loss=0.0000 scale=1.0000 norm=0.5597\n",
      "[iter 400] loss=4.5549 val_loss=0.0000 scale=2.0000 norm=1.1334\n",
      "[iter 0] loss=4.8487 val_loss=0.0000 scale=256.0000 norm=158.0449\n",
      "== Quitting at iteration / GRAD 0\n",
      "[iter 0] loss=4.8313 val_loss=0.0000 scale=1.0000 norm=0.6213\n",
      "[iter 100] loss=4.6947 val_loss=0.0000 scale=1.0000 norm=0.5642\n",
      "[iter 200] loss=4.6390 val_loss=0.0000 scale=2.0000 norm=1.1342\n",
      "[iter 300] loss=4.6116 val_loss=0.0000 scale=2.0000 norm=1.1451\n",
      "[iter 400] loss=4.5965 val_loss=0.0000 scale=1.0000 norm=0.5758\n",
      "[iter 0] loss=4.8551 val_loss=0.0000 scale=1.0000 norm=0.6246\n",
      "[iter 100] loss=4.6730 val_loss=0.0000 scale=1.0000 norm=0.5452\n",
      "[iter 200] loss=4.6034 val_loss=0.0000 scale=1.0000 norm=0.5446\n",
      "[iter 300] loss=4.5730 val_loss=0.0000 scale=1.0000 norm=0.5538\n",
      "[iter 400] loss=4.5574 val_loss=0.0000 scale=1.0000 norm=0.5608\n",
      "[iter 0] loss=4.8703 val_loss=0.0000 scale=1.0000 norm=0.6280\n",
      "[iter 100] loss=4.6688 val_loss=0.0000 scale=1.0000 norm=0.5425\n",
      "[iter 200] loss=4.5817 val_loss=0.0000 scale=2.0000 norm=1.0988\n",
      "[iter 300] loss=4.5565 val_loss=0.0000 scale=1.0000 norm=0.5619\n",
      "[iter 400] loss=4.5466 val_loss=0.0000 scale=1.0000 norm=0.5679\n",
      "[iter 0] loss=4.8676 val_loss=0.0000 scale=1.0000 norm=0.6267\n",
      "[iter 100] loss=4.6655 val_loss=0.0000 scale=1.0000 norm=0.5406\n",
      "[iter 200] loss=4.5803 val_loss=0.0000 scale=1.0000 norm=0.5465\n",
      "[iter 300] loss=4.5531 val_loss=0.0000 scale=1.0000 norm=0.5593\n",
      "[iter 400] loss=4.5430 val_loss=0.0000 scale=2.0000 norm=1.1300\n",
      "[iter 0] loss=4.8487 val_loss=0.0000 scale=256.0000 norm=158.0449\n",
      "== Quitting at iteration / GRAD 0\n",
      "[iter 0] loss=4.8520 val_loss=0.0000 scale=1.0000 norm=0.6260\n",
      "[iter 100] loss=4.7158 val_loss=0.0000 scale=1.0000 norm=0.5663\n",
      "[iter 200] loss=4.6586 val_loss=0.0000 scale=2.0000 norm=1.1332\n",
      "[iter 300] loss=4.6336 val_loss=0.0000 scale=2.0000 norm=1.1435\n",
      "[iter 400] loss=4.6197 val_loss=0.0000 scale=1.0000 norm=0.5746\n",
      "[iter 0] loss=4.8702 val_loss=0.0000 scale=1.0000 norm=0.6279\n",
      "[iter 100] loss=4.6878 val_loss=0.0000 scale=1.0000 norm=0.5474\n",
      "[iter 200] loss=4.6192 val_loss=0.0000 scale=1.0000 norm=0.5470\n",
      "[iter 300] loss=4.5892 val_loss=0.0000 scale=1.0000 norm=0.5562\n",
      "[iter 400] loss=4.5741 val_loss=0.0000 scale=1.0000 norm=0.5628\n",
      "[iter 0] loss=4.8807 val_loss=0.0000 scale=1.0000 norm=0.6302\n",
      "[iter 100] loss=4.6793 val_loss=0.0000 scale=1.0000 norm=0.5435\n",
      "[iter 200] loss=4.5995 val_loss=0.0000 scale=1.0000 norm=0.5487\n",
      "[iter 300] loss=4.5715 val_loss=0.0000 scale=2.0000 norm=1.1215\n",
      "[iter 400] loss=4.5604 val_loss=0.0000 scale=1.0000 norm=0.5678\n",
      "[iter 0] loss=4.8758 val_loss=0.0000 scale=1.0000 norm=0.6284\n",
      "[iter 100] loss=4.6740 val_loss=0.0000 scale=1.0000 norm=0.5415\n",
      "[iter 200] loss=4.5920 val_loss=0.0000 scale=1.0000 norm=0.5462\n",
      "[iter 300] loss=4.5625 val_loss=0.0000 scale=1.0000 norm=0.5597\n",
      "[iter 400] loss=4.5513 val_loss=0.0000 scale=1.0000 norm=0.5658\n",
      "[iter 0] loss=4.8487 val_loss=0.0000 scale=256.0000 norm=158.0449\n",
      "== Quitting at iteration / GRAD 0\n",
      "[iter 0] loss=4.8520 val_loss=0.0000 scale=1.0000 norm=0.6260\n",
      "[iter 100] loss=4.7158 val_loss=0.0000 scale=1.0000 norm=0.5663\n",
      "[iter 200] loss=4.6586 val_loss=0.0000 scale=2.0000 norm=1.1332\n",
      "[iter 300] loss=4.6336 val_loss=0.0000 scale=2.0000 norm=1.1435\n",
      "[iter 400] loss=4.6197 val_loss=0.0000 scale=1.0000 norm=0.5746\n",
      "[iter 0] loss=4.8571 val_loss=0.0000 scale=1.0000 norm=0.6268\n",
      "[iter 100] loss=4.6828 val_loss=0.0000 scale=1.0000 norm=0.5507\n",
      "[iter 200] loss=4.6116 val_loss=0.0000 scale=1.0000 norm=0.5496\n",
      "[iter 300] loss=4.5788 val_loss=0.0000 scale=2.0000 norm=1.1158\n",
      "[iter 400] loss=4.5643 val_loss=0.0000 scale=2.0000 norm=1.1288\n",
      "[iter 0] loss=4.8717 val_loss=0.0000 scale=1.0000 norm=0.6295\n",
      "[iter 100] loss=4.6748 val_loss=0.0000 scale=1.0000 norm=0.5453\n",
      "[iter 200] loss=4.5922 val_loss=0.0000 scale=1.0000 norm=0.5506\n",
      "[iter 300] loss=4.5634 val_loss=0.0000 scale=2.0000 norm=1.1268\n",
      "[iter 400] loss=4.5521 val_loss=0.0000 scale=1.0000 norm=0.5696\n",
      "[iter 0] loss=4.8687 val_loss=0.0000 scale=1.0000 norm=0.6278\n",
      "[iter 100] loss=4.6704 val_loss=0.0000 scale=1.0000 norm=0.5433\n",
      "[iter 200] loss=4.5780 val_loss=0.0000 scale=2.0000 norm=1.1001\n",
      "[iter 300] loss=4.5546 val_loss=0.0000 scale=1.0000 norm=0.5625\n",
      "[iter 400] loss=4.5457 val_loss=0.0000 scale=2.0000 norm=1.1330\n",
      "[iter 0] loss=4.8487 val_loss=0.0000 scale=256.0000 norm=158.0449\n",
      "== Quitting at iteration / GRAD 0\n",
      "[iter 0] loss=4.8520 val_loss=0.0000 scale=1.0000 norm=0.6260\n",
      "[iter 100] loss=4.7158 val_loss=0.0000 scale=1.0000 norm=0.5663\n",
      "[iter 200] loss=4.6586 val_loss=0.0000 scale=2.0000 norm=1.1332\n",
      "[iter 300] loss=4.6336 val_loss=0.0000 scale=2.0000 norm=1.1435\n",
      "[iter 400] loss=4.6197 val_loss=0.0000 scale=1.0000 norm=0.5746\n",
      "[iter 0] loss=4.8519 val_loss=0.0000 scale=1.0000 norm=0.6292\n",
      "[iter 100] loss=4.6737 val_loss=0.0000 scale=2.0000 norm=1.1071\n",
      "[iter 200] loss=4.6007 val_loss=0.0000 scale=1.0000 norm=0.5536\n",
      "[iter 300] loss=4.5703 val_loss=0.0000 scale=1.0000 norm=0.5635\n",
      "[iter 400] loss=4.5568 val_loss=0.0000 scale=1.0000 norm=0.5693\n",
      "[iter 0] loss=4.8680 val_loss=0.0000 scale=1.0000 norm=0.6312\n",
      "[iter 100] loss=4.6709 val_loss=0.0000 scale=1.0000 norm=0.5484\n",
      "[iter 200] loss=4.5896 val_loss=0.0000 scale=1.0000 norm=0.5536\n",
      "[iter 300] loss=4.5616 val_loss=0.0000 scale=1.0000 norm=0.5657\n",
      "[iter 400] loss=4.5516 val_loss=0.0000 scale=1.0000 norm=0.5724\n",
      "[iter 0] loss=4.8659 val_loss=0.0000 scale=1.0000 norm=0.6291\n",
      "[iter 100] loss=4.6670 val_loss=0.0000 scale=1.0000 norm=0.5453\n",
      "[iter 200] loss=4.5766 val_loss=0.0000 scale=1.0000 norm=0.5520\n",
      "[iter 300] loss=4.5524 val_loss=0.0000 scale=2.0000 norm=1.1295\n",
      "[iter 400] loss=4.5433 val_loss=0.0000 scale=1.0000 norm=0.5694\n",
      "[iter 0] loss=4.8487 val_loss=0.0000 scale=256.0000 norm=158.0449\n",
      "== Quitting at iteration / GRAD 0\n",
      "[iter 0] loss=4.8520 val_loss=0.0000 scale=1.0000 norm=0.6260\n",
      "[iter 100] loss=4.7158 val_loss=0.0000 scale=1.0000 norm=0.5663\n",
      "[iter 200] loss=4.6586 val_loss=0.0000 scale=2.0000 norm=1.1332\n",
      "[iter 300] loss=4.6336 val_loss=0.0000 scale=2.0000 norm=1.1435\n",
      "[iter 400] loss=4.6197 val_loss=0.0000 scale=1.0000 norm=0.5746\n",
      "[iter 0] loss=4.8519 val_loss=0.0000 scale=1.0000 norm=0.6292\n",
      "[iter 100] loss=4.6737 val_loss=0.0000 scale=2.0000 norm=1.1071\n",
      "[iter 200] loss=4.6007 val_loss=0.0000 scale=1.0000 norm=0.5536\n",
      "[iter 300] loss=4.5703 val_loss=0.0000 scale=1.0000 norm=0.5635\n",
      "[iter 400] loss=4.5568 val_loss=0.0000 scale=1.0000 norm=0.5693\n",
      "[iter 0] loss=4.8725 val_loss=0.0000 scale=1.0000 norm=0.6303\n",
      "[iter 100] loss=4.6697 val_loss=0.0000 scale=1.0000 norm=0.5433\n",
      "[iter 200] loss=4.5880 val_loss=0.0000 scale=1.0000 norm=0.5482\n",
      "[iter 300] loss=4.5594 val_loss=0.0000 scale=2.0000 norm=1.1244\n",
      "[iter 400] loss=4.5490 val_loss=0.0000 scale=1.0000 norm=0.5691\n",
      "[iter 0] loss=4.8693 val_loss=0.0000 scale=1.0000 norm=0.6284\n",
      "[iter 100] loss=4.6671 val_loss=0.0000 scale=1.0000 norm=0.5420\n",
      "[iter 200] loss=4.5791 val_loss=0.0000 scale=1.0000 norm=0.5479\n",
      "[iter 300] loss=4.5530 val_loss=0.0000 scale=2.0000 norm=1.1217\n",
      "[iter 400] loss=4.5430 val_loss=0.0000 scale=1.0000 norm=0.5662\n",
      "[iter 0] loss=4.8487 val_loss=0.0000 scale=256.0000 norm=158.0449\n",
      "== Quitting at iteration / GRAD 0\n",
      "[iter 0] loss=4.8520 val_loss=0.0000 scale=1.0000 norm=0.6260\n",
      "[iter 100] loss=4.7158 val_loss=0.0000 scale=1.0000 norm=0.5663\n",
      "[iter 200] loss=4.6586 val_loss=0.0000 scale=2.0000 norm=1.1332\n",
      "[iter 300] loss=4.6336 val_loss=0.0000 scale=2.0000 norm=1.1435\n",
      "[iter 400] loss=4.6197 val_loss=0.0000 scale=1.0000 norm=0.5746\n",
      "[iter 0] loss=4.8519 val_loss=0.0000 scale=1.0000 norm=0.6292\n",
      "[iter 100] loss=4.6737 val_loss=0.0000 scale=2.0000 norm=1.1071\n",
      "[iter 200] loss=4.6007 val_loss=0.0000 scale=1.0000 norm=0.5536\n",
      "[iter 300] loss=4.5703 val_loss=0.0000 scale=1.0000 norm=0.5635\n",
      "[iter 400] loss=4.5568 val_loss=0.0000 scale=1.0000 norm=0.5693\n",
      "[iter 0] loss=4.8643 val_loss=0.0000 scale=1.0000 norm=0.6286\n",
      "[iter 100] loss=4.6657 val_loss=0.0000 scale=1.0000 norm=0.5440\n",
      "[iter 200] loss=4.5908 val_loss=0.0000 scale=1.0000 norm=0.5479\n",
      "[iter 300] loss=4.5598 val_loss=0.0000 scale=1.0000 norm=0.5613\n",
      "[iter 400] loss=4.5488 val_loss=0.0000 scale=2.0000 norm=1.1365\n",
      "[iter 0] loss=4.8630 val_loss=0.0000 scale=1.0000 norm=0.6269\n",
      "[iter 100] loss=4.6619 val_loss=0.0000 scale=1.0000 norm=0.5415\n",
      "[iter 200] loss=4.5800 val_loss=0.0000 scale=1.0000 norm=0.5473\n",
      "[iter 300] loss=4.5527 val_loss=0.0000 scale=1.0000 norm=0.5603\n",
      "[iter 400] loss=4.5427 val_loss=0.0000 scale=1.0000 norm=0.5664\n",
      "[iter 0] loss=4.8487 val_loss=0.0000 scale=256.0000 norm=158.0449\n",
      "== Quitting at iteration / GRAD 0\n",
      "[iter 0] loss=4.8520 val_loss=0.0000 scale=1.0000 norm=0.6260\n",
      "[iter 100] loss=4.7158 val_loss=0.0000 scale=1.0000 norm=0.5663\n",
      "[iter 200] loss=4.6586 val_loss=0.0000 scale=2.0000 norm=1.1332\n",
      "[iter 300] loss=4.6336 val_loss=0.0000 scale=2.0000 norm=1.1435\n",
      "[iter 400] loss=4.6197 val_loss=0.0000 scale=1.0000 norm=0.5746\n",
      "[iter 0] loss=4.8519 val_loss=0.0000 scale=1.0000 norm=0.6292\n",
      "[iter 100] loss=4.6737 val_loss=0.0000 scale=2.0000 norm=1.1071\n",
      "[iter 200] loss=4.6007 val_loss=0.0000 scale=1.0000 norm=0.5536\n",
      "[iter 300] loss=4.5703 val_loss=0.0000 scale=1.0000 norm=0.5635\n",
      "[iter 400] loss=4.5568 val_loss=0.0000 scale=1.0000 norm=0.5693\n",
      "[iter 0] loss=4.8643 val_loss=0.0000 scale=1.0000 norm=0.6286\n",
      "[iter 100] loss=4.6657 val_loss=0.0000 scale=1.0000 norm=0.5440\n",
      "[iter 200] loss=4.5908 val_loss=0.0000 scale=1.0000 norm=0.5479\n",
      "[iter 300] loss=4.5598 val_loss=0.0000 scale=1.0000 norm=0.5613\n",
      "[iter 400] loss=4.5488 val_loss=0.0000 scale=2.0000 norm=1.1365\n",
      "[iter 0] loss=4.8729 val_loss=0.0000 scale=1.0000 norm=0.6300\n",
      "[iter 100] loss=4.6731 val_loss=0.0000 scale=1.0000 norm=0.5448\n",
      "[iter 200] loss=4.5912 val_loss=0.0000 scale=1.0000 norm=0.5491\n",
      "[iter 300] loss=4.5603 val_loss=0.0000 scale=1.0000 norm=0.5629\n",
      "[iter 400] loss=4.5500 val_loss=0.0000 scale=1.0000 norm=0.5687\n",
      "[iter 0] loss=4.8487 val_loss=0.0000 scale=256.0000 norm=158.0449\n",
      "== Quitting at iteration / GRAD 0\n",
      "[iter 0] loss=4.8520 val_loss=0.0000 scale=1.0000 norm=0.6260\n",
      "[iter 100] loss=4.7158 val_loss=0.0000 scale=1.0000 norm=0.5663\n",
      "[iter 200] loss=4.6586 val_loss=0.0000 scale=2.0000 norm=1.1332\n",
      "[iter 300] loss=4.6336 val_loss=0.0000 scale=2.0000 norm=1.1435\n",
      "[iter 400] loss=4.6197 val_loss=0.0000 scale=1.0000 norm=0.5746\n",
      "[iter 0] loss=4.8519 val_loss=0.0000 scale=1.0000 norm=0.6292\n",
      "[iter 100] loss=4.6737 val_loss=0.0000 scale=2.0000 norm=1.1071\n",
      "[iter 200] loss=4.6007 val_loss=0.0000 scale=1.0000 norm=0.5536\n",
      "[iter 300] loss=4.5703 val_loss=0.0000 scale=1.0000 norm=0.5635\n",
      "[iter 400] loss=4.5568 val_loss=0.0000 scale=1.0000 norm=0.5693\n",
      "[iter 0] loss=4.8643 val_loss=0.0000 scale=1.0000 norm=0.6286\n",
      "[iter 100] loss=4.6657 val_loss=0.0000 scale=1.0000 norm=0.5440\n",
      "[iter 200] loss=4.5908 val_loss=0.0000 scale=1.0000 norm=0.5479\n",
      "[iter 300] loss=4.5598 val_loss=0.0000 scale=1.0000 norm=0.5613\n",
      "[iter 400] loss=4.5488 val_loss=0.0000 scale=2.0000 norm=1.1365\n",
      "[iter 0] loss=4.8700 val_loss=0.0000 scale=1.0000 norm=0.6287\n",
      "[iter 100] loss=4.6660 val_loss=0.0000 scale=1.0000 norm=0.5418\n",
      "[iter 200] loss=4.5834 val_loss=0.0000 scale=1.0000 norm=0.5462\n",
      "[iter 300] loss=4.5540 val_loss=0.0000 scale=2.0000 norm=1.1190\n",
      "[iter 400] loss=4.5436 val_loss=0.0000 scale=1.0000 norm=0.5659\n"
     ]
    },
    {
     "data": {
      "image/png": "[encoded data removed]",
      "text/plain": [
       "<Figure size 432x288 with 1 Axes>"
      ]
     },
     "metadata": {
      "needs_background": "light"
     },
     "output_type": "display_data"
    }
   ],
   "source": [
    "plot_learning_curve(model_nb, X_train, y_train, 10, scoring='neg_mean_squared_error')"
   ]
  },
  {
   "cell_type": "markdown",
   "metadata": {},
   "source": [
    "From the Learning Cruve, It seems that validation error and Training error did not reache the minimum error yet, which means more data would be useful in this case. Furthermore, maybe more features help to improve performance as well.\n",
    "If this model was going to be put into production, We would have to wait to get more data in order to start the retraining system."
   ]
  },
  {
   "cell_type": "markdown",
   "metadata": {},
   "source": [
    "### 2.2) Permutation Importance"
   ]
  },
  {
   "cell_type": "code",
   "execution_count": 28,
   "metadata": {},
   "outputs": [],
   "source": [
    "# Just saving name of features after transformers\n",
    "one_hot_names = model_nb.steps[0][1].transformers_[0][1][1].get_feature_names_out().tolist()\n",
    "median_names = model_nb.steps[0][1].transformers_[1][1][0].feature_names_in_.tolist()\n",
    "zero_names = model_nb.steps[0][1].transformers_[2][1][0].feature_names_in_.tolist()\n",
    "columns_after_transformation = one_hot_names+median_names+zero_names"
   ]
  },
  {
   "cell_type": "code",
   "execution_count": 29,
   "metadata": {},
   "outputs": [
    {
     "data": {
      "image/png": "[encoded data removed]",
      "text/plain": [
       "<Figure size 720x720 with 1 Axes>"
      ]
     },
     "metadata": {
      "needs_background": "light"
     },
     "output_type": "display_data"
    }
   ],
   "source": [
    "plot_permutation_importance(model_nb, X=X_train, y=y_train, columns=all_columns, n_repeats=5, scoring='neg_mean_squared_error', n_best=10)"
   ]
  },
  {
   "cell_type": "markdown",
   "metadata": {},
   "source": [
    "Above We can see the ranking of best features. Top 3 are: `n_distinct_items`, `on_demand` and `found_rate`. But `n_distinct_items` is the most important with clearence."
   ]
  },
  {
   "cell_type": "markdown",
   "metadata": {},
   "source": [
    "# 3) Test and Submission"
   ]
  },
  {
   "cell_type": "markdown",
   "metadata": {},
   "source": [
    "## 3.1) Test Set"
   ]
  },
  {
   "cell_type": "code",
   "execution_count": 84,
   "metadata": {},
   "outputs": [],
   "source": [
    "# Feature engineering test set\n",
    "df_orders_test = pipe_feature_engineering.transform(df_orders_test)\n",
    "# Selecting only used features\n",
    "X_test = df_orders_test[all_columns]\n",
    "# Y of test set\n",
    "y_test = df_orders_test['total_minutes']\n",
    "# Getting predictions\n",
    "y_predictions_test = model_nb.predict(X_test)\n"
   ]
  },
  {
   "cell_type": "code",
   "execution_count": 89,
   "metadata": {},
   "outputs": [
    {
     "name": "stdout",
     "output_type": "stream",
     "text": [
      "Mean Absolute Percentage Error in Test Set is: 25.43396628883649%\n"
     ]
    }
   ],
   "source": [
    "# performance in test set\n",
    "print(f'Mean Absolute Percentage Error in Test Set is: {100*mean_absolute_percentage_error(y_predictions_test,y_test)}%')"
   ]
  },
  {
   "cell_type": "markdown",
   "metadata": {},
   "source": [
    "We see the model is not overfitting"
   ]
  },
  {
   "cell_type": "markdown",
   "metadata": {},
   "source": [
    "## 3.2) Submission Set"
   ]
  },
  {
   "cell_type": "code",
   "execution_count": 32,
   "metadata": {},
   "outputs": [],
   "source": [
    "# feature engineering submission\n",
    "df_submission = pipe_feature_engineering.transform(df_submission)\n",
    "# Selecting only used features\n",
    "X_submission = df_submission[all_columns]\n",
    "# getting point estimates for total_miutes\n",
    "y_predictions_submission = model_nb.predict(X_submission)\n",
    "# Data frame with order_id and estimates\n",
    "df_submission_predictions = pd.DataFrame({'order_id':df_submission['order_id'], 'total_minutes':y_predictions_submission})\n",
    "# Getting confidence interval for total_minutes (95%)\n",
    "df_predictions_with_interval = get_intervals(model=model_nb, X=X_submission, confidence=0.95)\n",
    "# lower bound\n",
    "df_submission_predictions['total_minutes_lower_bound'] = df_predictions_with_interval['interval'].apply(lambda x: x[0])\n",
    "# upper bound\n",
    "df_submission_predictions['total_minutes_upper_bound'] = df_predictions_with_interval['interval'].apply(lambda x: x[1])"
   ]
  },
  {
   "cell_type": "code",
   "execution_count": 34,
   "metadata": {},
   "outputs": [],
   "source": [
    "df_submission_predictions.to_csv(os.path.join(DATA_INPUT_PATH, 'submission_predictions_notebook.csv'), index=False)"
   ]
  },
  {
   "cell_type": "code",
   "execution_count": 39,
   "metadata": {},
   "outputs": [
    {
     "data": {
      "text/html": [
       "<div>\n",
       "<style scoped>\n",
       "    .dataframe tbody tr th:only-of-type {\n",
       "        vertical-align: middle;\n",
       "    }\n",
       "\n",
       "    .dataframe tbody tr th {\n",
       "        vertical-align: top;\n",
       "    }\n",
       "\n",
       "    .dataframe thead th {\n",
       "        text-align: right;\n",
       "    }\n",
       "</style>\n",
       "<table border=\"1\" class=\"dataframe\">\n",
       "  <thead>\n",
       "    <tr style=\"text-align: right;\">\n",
       "      <th></th>\n",
       "      <th>s</th>\n",
       "      <th>scale</th>\n",
       "      <th>interval</th>\n",
       "    </tr>\n",
       "  </thead>\n",
       "  <tbody>\n",
       "    <tr>\n",
       "      <th>0</th>\n",
       "      <td>0.323648</td>\n",
       "      <td>63.177627</td>\n",
       "      <td>(33.50219647059474, 119.13883206605864)</td>\n",
       "    </tr>\n",
       "  </tbody>\n",
       "</table>\n",
       "</div>"
      ],
      "text/plain": [
       "          s      scale                                 interval\n",
       "0  0.323648  63.177627  (33.50219647059474, 119.13883206605864)"
      ]
     },
     "execution_count": 39,
     "metadata": {},
     "output_type": "execute_result"
    }
   ],
   "source": [
    "get_intervals(model=model_nb, X=X_submission, confidence=0.95)"
   ]
  },
  {
   "cell_type": "code",
   "execution_count": 54,
   "metadata": {},
   "outputs": [
    {
     "data": {
      "text/html": [
       "<div>\n",
       "<style scoped>\n",
       "    .dataframe tbody tr th:only-of-type {\n",
       "        vertical-align: middle;\n",
       "    }\n",
       "\n",
       "    .dataframe tbody tr th {\n",
       "        vertical-align: top;\n",
       "    }\n",
       "\n",
       "    .dataframe thead th {\n",
       "        text-align: right;\n",
       "    }\n",
       "</style>\n",
       "<table border=\"1\" class=\"dataframe\">\n",
       "  <thead>\n",
       "    <tr style=\"text-align: right;\">\n",
       "      <th></th>\n",
       "      <th>order_id</th>\n",
       "      <th>total_minutes</th>\n",
       "      <th>total_minutes_lower_bound</th>\n",
       "      <th>total_minutes_upper_bound</th>\n",
       "    </tr>\n",
       "  </thead>\n",
       "  <tbody>\n",
       "    <tr>\n",
       "      <th>0</th>\n",
       "      <td>3a226ea48debc0a7ae9950d5540f2f34</td>\n",
       "      <td>66.574684</td>\n",
       "      <td>33.502196</td>\n",
       "      <td>119.138832</td>\n",
       "    </tr>\n",
       "    <tr>\n",
       "      <th>1</th>\n",
       "      <td>9bf29b56619fcaf60b52690a848e10bb</td>\n",
       "      <td>66.303182</td>\n",
       "      <td>31.130062</td>\n",
       "      <td>124.600759</td>\n",
       "    </tr>\n",
       "    <tr>\n",
       "      <th>2</th>\n",
       "      <td>299d948a5fd2cf2a921894b9bd24b94e</td>\n",
       "      <td>103.305217</td>\n",
       "      <td>63.017244</td>\n",
       "      <td>160.041732</td>\n",
       "    </tr>\n",
       "    <tr>\n",
       "      <th>3</th>\n",
       "      <td>150bd9290b2125e67541098173e2cfb1</td>\n",
       "      <td>112.680583</td>\n",
       "      <td>67.578341</td>\n",
       "      <td>176.896466</td>\n",
       "    </tr>\n",
       "    <tr>\n",
       "      <th>4</th>\n",
       "      <td>844f746ff505c01c088de90bce067b94</td>\n",
       "      <td>46.454359</td>\n",
       "      <td>20.962278</td>\n",
       "      <td>89.715678</td>\n",
       "    </tr>\n",
       "    <tr>\n",
       "      <th>...</th>\n",
       "      <td>...</td>\n",
       "      <td>...</td>\n",
       "      <td>...</td>\n",
       "      <td>...</td>\n",
       "    </tr>\n",
       "    <tr>\n",
       "      <th>1995</th>\n",
       "      <td>6cbabd6e0ed6bb1e12d25d59d5c8cd07</td>\n",
       "      <td>117.297853</td>\n",
       "      <td>67.541459</td>\n",
       "      <td>190.008226</td>\n",
       "    </tr>\n",
       "    <tr>\n",
       "      <th>1996</th>\n",
       "      <td>288dd3cb1cec0f1f5b4c3d336df1f3d4</td>\n",
       "      <td>73.983217</td>\n",
       "      <td>39.591351</td>\n",
       "      <td>126.610600</td>\n",
       "    </tr>\n",
       "    <tr>\n",
       "      <th>1997</th>\n",
       "      <td>1bfc0429832b9dab41d2a63eb8d9a076</td>\n",
       "      <td>56.903023</td>\n",
       "      <td>25.230379</td>\n",
       "      <td>111.212573</td>\n",
       "    </tr>\n",
       "    <tr>\n",
       "      <th>1998</th>\n",
       "      <td>b8a1cc826cc9a7190a79e45d41a0a7e2</td>\n",
       "      <td>71.639003</td>\n",
       "      <td>33.340819</td>\n",
       "      <td>135.450769</td>\n",
       "    </tr>\n",
       "    <tr>\n",
       "      <th>1999</th>\n",
       "      <td>f1d910271fe4182d87bdea049b7749c4</td>\n",
       "      <td>51.588769</td>\n",
       "      <td>24.819851</td>\n",
       "      <td>95.311069</td>\n",
       "    </tr>\n",
       "  </tbody>\n",
       "</table>\n",
       "<p>2000 rows × 4 columns</p>\n",
       "</div>"
      ],
      "text/plain": [
       "                              order_id  total_minutes  \\\n",
       "0     3a226ea48debc0a7ae9950d5540f2f34      66.574684   \n",
       "1     9bf29b56619fcaf60b52690a848e10bb      66.303182   \n",
       "2     299d948a5fd2cf2a921894b9bd24b94e     103.305217   \n",
       "3     150bd9290b2125e67541098173e2cfb1     112.680583   \n",
       "4     844f746ff505c01c088de90bce067b94      46.454359   \n",
       "...                                ...            ...   \n",
       "1995  6cbabd6e0ed6bb1e12d25d59d5c8cd07     117.297853   \n",
       "1996  288dd3cb1cec0f1f5b4c3d336df1f3d4      73.983217   \n",
       "1997  1bfc0429832b9dab41d2a63eb8d9a076      56.903023   \n",
       "1998  b8a1cc826cc9a7190a79e45d41a0a7e2      71.639003   \n",
       "1999  f1d910271fe4182d87bdea049b7749c4      51.588769   \n",
       "\n",
       "      total_minutes_lower_bound  total_minutes_upper_bound  \n",
       "0                     33.502196                 119.138832  \n",
       "1                     31.130062                 124.600759  \n",
       "2                     63.017244                 160.041732  \n",
       "3                     67.578341                 176.896466  \n",
       "4                     20.962278                  89.715678  \n",
       "...                         ...                        ...  \n",
       "1995                  67.541459                 190.008226  \n",
       "1996                  39.591351                 126.610600  \n",
       "1997                  25.230379                 111.212573  \n",
       "1998                  33.340819                 135.450769  \n",
       "1999                  24.819851                  95.311069  \n",
       "\n",
       "[2000 rows x 4 columns]"
      ]
     },
     "execution_count": 54,
     "metadata": {},
     "output_type": "execute_result"
    }
   ],
   "source": [
    "df_submission_predictions"
   ]
  },
  {
   "cell_type": "code",
   "execution_count": 81,
   "metadata": {},
   "outputs": [
    {
     "data": {
      "image/png": "[encoded data removed]",
      "text/plain": [
       "<Figure size 720x576 with 1 Axes>"
      ]
     },
     "metadata": {
      "needs_background": "light"
     },
     "output_type": "display_data"
    }
   ],
   "source": [
    "# Distribution of output\n",
    "plt.figure(figsize=(10,8))\n",
    "sns.histplot(df_orders_train['total_minutes'], kde=True)\n",
    "plt.axvline(df_submission_predictions.total_minutes.mean(), color='k', ls='--', linestyle='dashed',\n",
    "            label=f'Average Total Minutes: {np.round(df_submission_predictions.total_minutes.mean(),2)}')\n",
    "plt.xlabel(\"Total Minutes\")\n",
    "plt.title('Distribution of Total Minutes',fontsize=15)\n",
    "plt.legend()\n",
    "plt.show()"
   ]
  },
  {
   "cell_type": "markdown",
   "metadata": {},
   "source": [
    "This is very similar to the distribution of training and testing sets."
   ]
  },
  {
   "cell_type": "markdown",
   "metadata": {},
   "source": [
    "# 4) Exporting Model"
   ]
  },
  {
   "cell_type": "code",
   "execution_count": 74,
   "metadata": {},
   "outputs": [],
   "source": [
    "# model \n",
    "filename_model = 'model.sav'\n",
    "pickle.dump(model_nb, open(os.path.join(MODEL_PATH, filename_model), 'wb'))\n",
    "# feature engineering pipe\n",
    "filename_feature_engineering_pipe = 'feature_engineering_pipe.sav'\n",
    "pickle.dump(pipe_feature_engineering, open(os.path.join(MODEL_PATH, filename_feature_engineering_pipe), 'wb'))\n"
   ]
  },
  {
   "cell_type": "markdown",
   "metadata": {},
   "source": [
    "# Next Steps/ Recommendations"
   ]
  },
  {
   "cell_type": "markdown",
   "metadata": {},
   "source": [
    "- Data: Despite We had a good MAPE in our models, It's very posible to improve this performance by adding more samples and features, as We can see in the learning curve pattern. Also, It would be really useful to acquire data from the other days of the week and different months as well. When It comes to which features to add, I would say:\n",
    "    - Weather conditions (real time)\n",
    "    - Traffic conditions (real time)\n",
    "    - Vehicle (bike, car, motorcycle)\n",
    "- Models: The modeling step can be improved a lot. We could think more about feature engineering, for example.\n",
    "- Monitoring: The application if Put into production enviroment, should be able to produce responses in real time. As the scenario evolves, It would be important to create some dashboards and alarms in case of weird predictions and anomalies, as well as to monitor the performance, concept and data drif.\n"
   ]
  }
 ],
 "metadata": {
  "interpreter": {
   "hash": "a6f7b07b20f4cf172f035b867796e18e995318450c83b6d17ec9b748e82eefe6"
  },
  "kernelspec": {
   "display_name": "Python 3.8.10 64-bit ('case_cornershop_env': venv)",
   "language": "python",
   "name": "python3"
  },
  "language_info": {
   "codemirror_mode": {
    "name": "ipython",
    "version": 3
   },
   "file_extension": ".py",
   "mimetype": "text/x-python",
   "name": "python",
   "nbconvert_exporter": "python",
   "pygments_lexer": "ipython3",
   "version": "3.9.6"
  },
  "orig_nbformat": 4
 },
 "nbformat": 4,
 "nbformat_minor": 2
}
